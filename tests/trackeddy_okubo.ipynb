{
 "cells": [
  {
   "cell_type": "markdown",
   "metadata": {},
   "source": [
    "# Improve eddy tracking"
   ]
  },
  {
   "cell_type": "markdown",
   "metadata": {},
   "source": [
    "The objective of this script is to improve the eddy tracking and remove all the bugs found in the first stage of development. "
   ]
  },
  {
   "cell_type": "code",
   "execution_count": 1,
   "metadata": {
    "collapsed": true
   },
   "outputs": [],
   "source": [
    "# Importing all libraries except trackeddy.\n",
    "from pylab import *\n",
    "from netCDF4 import Dataset\n",
    "%matplotlib inline\n",
    "import os\n",
    "from trackeddy.trackeddy import *\n",
    "from trackeddy.datastruct import *\n",
    "from trackeddy.geometryfunc import *\n",
    "from trackeddy.init import *\n",
    "from trackeddy.physics import *"
   ]
  },
  {
   "cell_type": "code",
   "execution_count": null,
   "metadata": {},
   "outputs": [
    {
     "name": "stdout",
     "output_type": "stream",
     "text": [
      "<type 'netCDF4._netCDF4.Dataset'>\n",
      "root group (NETCDF4_CLASSIC data model, file format HDF5):\n",
      "    filename: rregionsouthern_ocean_daily_u.nc\n",
      "    title: MOM5_CORE_NYF_50lvl_comparison_test\n",
      "    grid_type: mosaic\n",
      "    grid_tile: 1\n",
      "    dimensions(sizes): xu_ocean_sub01(3600), yu_ocean_sub01(930), st_ocean(75), st_edges_ocean(76), time(90), nv(2)\n",
      "    variables(dimensions): float64 \u001b[4mxu_ocean_sub01\u001b[0m(xu_ocean_sub01), float64 \u001b[4myu_ocean_sub01\u001b[0m(yu_ocean_sub01), float64 \u001b[4mst_ocean\u001b[0m(st_ocean), float64 \u001b[4mst_edges_ocean\u001b[0m(st_edges_ocean), float64 \u001b[4mtime\u001b[0m(time), float64 \u001b[4mnv\u001b[0m(nv), float32 \u001b[4mu\u001b[0m(time,st_ocean,yu_ocean_sub01,xu_ocean_sub01), float64 \u001b[4maverage_T1\u001b[0m(time), float64 \u001b[4maverage_T2\u001b[0m(time), float64 \u001b[4maverage_DT\u001b[0m(time), float64 \u001b[4mtime_bounds\u001b[0m(time,nv)\n",
      "    groups: \n",
      "\n"
     ]
    }
   ],
   "source": [
    "# Output data path\n",
    "outputpath='/g/data/v45/akm157/model_output/mom/mom01v5_kds75/output306/'\n",
    "# Import SSH values to python environment.\n",
    "ncfile=Dataset(outputpath+'rregionsouthern_ocean_daily_eta_t.nc')\n",
    "eta=ncfile.variables['eta_t'][:]*100\n",
    "# Import geographic coordinates (Lon,Lat)\n",
    "lon=ncfile.variables['xt_ocean_sub01'][:]\n",
    "lat=ncfile.variables['yt_ocean_sub01'][:]\n",
    "# Import velociry field\n",
    "ncfileu=Dataset('/g/data/v45/akm157/model_output/mom/mom01v5_kds75/\\\n",
    "output306/rregionsouthern_ocean_daily_u.nc')\n",
    "ncfilev=Dataset('/g/data/v45/akm157/model_output/mom/mom01v5_kds75/\\\n",
    "output306/rregionsouthern_ocean_daily_v.nc')\n",
    "print ncfileu\n",
    "lonu=ncfileu.variables['xu_ocean_sub01'][:]\n",
    "latu=ncfileu.variables['yu_ocean_sub01'][:]\n",
    "u=ncfileu.variables['u'][:,0,:,:]\n",
    "v=ncfilev.variables['v'][:,0,:,:]"
   ]
  },
  {
   "cell_type": "code",
   "execution_count": 4,
   "metadata": {},
   "outputs": [
    {
     "ename": "NameError",
     "evalue": "name 'u' is not defined",
     "output_type": "error",
     "traceback": [
      "\u001b[0;31m---------------------------------------------------------------------------\u001b[0m",
      "\u001b[0;31mNameError\u001b[0m                                 Traceback (most recent call last)",
      "\u001b[0;32m<ipython-input-4-4dc2a79e1e39>\u001b[0m in \u001b[0;36m<module>\u001b[0;34m()\u001b[0m\n\u001b[0;32m----> 1\u001b[0;31m \u001b[0mokubo\u001b[0m\u001b[0;34m=\u001b[0m\u001b[0mokuboweissparm\u001b[0m\u001b[0;34m(\u001b[0m\u001b[0mu\u001b[0m\u001b[0;34m,\u001b[0m\u001b[0mv\u001b[0m\u001b[0;34m,\u001b[0m\u001b[0;36m0\u001b[0m\u001b[0;34m)\u001b[0m\u001b[0;34m\u001b[0m\u001b[0m\n\u001b[0m",
      "\u001b[0;31mNameError\u001b[0m: name 'u' is not defined"
     ]
    }
   ],
   "source": [
    "okubo=okuboweissparm(u,v,0)"
   ]
  },
  {
   "cell_type": "code",
   "execution_count": 5,
   "metadata": {},
   "outputs": [
    {
     "name": "stdout",
     "output_type": "stream",
     "text": [
      "0\n"
     ]
    },
    {
     "ename": "NameError",
     "evalue": "name 'timeavessh' is not defined",
     "output_type": "error",
     "traceback": [
      "\u001b[0;31m---------------------------------------------------------------------------\u001b[0m",
      "\u001b[0;31mNameError\u001b[0m                                 Traceback (most recent call last)",
      "\u001b[0;32m<ipython-input-5-51a022d3ab1b>\u001b[0m in \u001b[0;36m<module>\u001b[0;34m()\u001b[0m\n\u001b[1;32m      2\u001b[0m \u001b[0;32mfor\u001b[0m \u001b[0mii\u001b[0m \u001b[0;32min\u001b[0m \u001b[0mrange\u001b[0m\u001b[0;34m(\u001b[0m\u001b[0;36m0\u001b[0m\u001b[0;34m,\u001b[0m\u001b[0;36m5\u001b[0m\u001b[0;34m)\u001b[0m\u001b[0;34m:\u001b[0m\u001b[0;34m\u001b[0m\u001b[0m\n\u001b[1;32m      3\u001b[0m     \u001b[0;32mprint\u001b[0m \u001b[0mii\u001b[0m\u001b[0;34m\u001b[0m\u001b[0m\n\u001b[0;32m----> 4\u001b[0;31m     \u001b[0mssha\u001b[0m\u001b[0;34m=\u001b[0m\u001b[0meta\u001b[0m\u001b[0;34m[\u001b[0m\u001b[0mii\u001b[0m\u001b[0;34m,\u001b[0m\u001b[0;34m:\u001b[0m\u001b[0;34m,\u001b[0m\u001b[0;34m:\u001b[0m\u001b[0;34m]\u001b[0m\u001b[0;34m-\u001b[0m\u001b[0mmean\u001b[0m\u001b[0;34m(\u001b[0m\u001b[0mtimeavessh\u001b[0m\u001b[0;34m,\u001b[0m\u001b[0maxis\u001b[0m\u001b[0;34m=\u001b[0m\u001b[0;36m0\u001b[0m\u001b[0;34m)\u001b[0m\u001b[0;34m\u001b[0m\u001b[0m\n\u001b[0m\u001b[1;32m      5\u001b[0m     \u001b[0meddys\u001b[0m\u001b[0;34m=\u001b[0m\u001b[0mscan_eddym\u001b[0m\u001b[0;34m(\u001b[0m\u001b[0mssha\u001b[0m\u001b[0;34m,\u001b[0m\u001b[0mlon\u001b[0m\u001b[0;34m,\u001b[0m\u001b[0mlat\u001b[0m\u001b[0;34m,\u001b[0m\u001b[0mlevels\u001b[0m\u001b[0;34m,\u001b[0m\u001b[0mii\u001b[0m\u001b[0;34m,\u001b[0m\u001b[0mareamap\u001b[0m\u001b[0;34m,\u001b[0m\u001b[0mdestdir\u001b[0m\u001b[0;34m=\u001b[0m\u001b[0;34m''\u001b[0m\u001b[0;34m,\u001b[0m\u001b[0mokparm\u001b[0m\u001b[0;34m=\u001b[0m\u001b[0;34m''\u001b[0m\u001b[0;34m,\u001b[0m\u001b[0mdiagnostics\u001b[0m\u001b[0;34m=\u001b[0m\u001b[0mFalse\u001b[0m\u001b[0;34m)\u001b[0m\u001b[0;34m\u001b[0m\u001b[0m\n\u001b[1;32m      6\u001b[0m     \u001b[0;32mif\u001b[0m \u001b[0mii\u001b[0m\u001b[0;34m==\u001b[0m\u001b[0;36m0\u001b[0m\u001b[0;34m:\u001b[0m\u001b[0;34m\u001b[0m\u001b[0m\n",
      "\u001b[0;31mNameError\u001b[0m: name 'timeavessh' is not defined"
     ]
    }
   ],
   "source": [
    "areamap=array([[0,len(lon)],[600,len(lat)]])\n",
    "for ii in range(0,5):\n",
    "    print ii\n",
    "    ssha=eta[ii,:,:]-mean(timeavessh,axis=0)\n",
    "    eddys=scan_eddym(ssha,lon,lat,levels,ii,areamap,destdir='',okparm='',diagnostics=False)\n",
    "    if ii==0:\n",
    "        eddytd=dict_eddyt(ii,eddys)\n",
    "    else:\n",
    "        eddytd=dict_eddyt(ii,eddys,eddytd) "
   ]
  },
  {
   "cell_type": "code",
   "execution_count": null,
   "metadata": {
    "collapsed": true
   },
   "outputs": [],
   "source": []
  }
 ],
 "metadata": {
  "kernelspec": {
   "display_name": "Python [conda env:analysis27]",
   "language": "python",
   "name": "conda-env-analysis27-py"
  },
  "language_info": {
   "codemirror_mode": {
    "name": "ipython",
    "version": 2
   },
   "file_extension": ".py",
   "mimetype": "text/x-python",
   "name": "python",
   "nbconvert_exporter": "python",
   "pygments_lexer": "ipython2",
   "version": "2.7.13"
  }
 },
 "nbformat": 4,
 "nbformat_minor": 2
}
