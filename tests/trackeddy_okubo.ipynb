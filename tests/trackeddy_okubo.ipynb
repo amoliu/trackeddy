{
 "cells": [
  {
   "cell_type": "markdown",
   "metadata": {},
   "source": [
    "# Improve eddy tracking"
   ]
  },
  {
   "cell_type": "markdown",
   "metadata": {},
   "source": [
    "The objective of this script is to improve the eddy tracking and remove all the bugs found in the first stage of development. "
   ]
  },
  {
   "cell_type": "code",
   "execution_count": null,
   "metadata": {
    "collapsed": true
   },
   "outputs": [],
   "source": [
    "# Importing all libraries except trackeddy.\n",
    "from pylab import *\n",
    "from netCDF4 import Dataset\n",
    "%matplotlib inline\n",
    "import os\n",
    "from trackeddy.trackeddy import *\n",
    "from trackeddy.datastruct import *\n",
    "from trackeddy.geometryfunc import *\n",
    "from trackeddy.init import *\n",
    "from trackeddy.physics import *"
   ]
  },
  {
   "cell_type": "code",
   "execution_count": null,
   "metadata": {},
   "outputs": [],
   "source": [
    "# Output data path\n",
    "outputpath='/g/data/v45/akm157/model_output/mom/mom01v5_kds75/output306/'\n",
    "# Import SSH values to python environment.\n",
    "ncfile=Dataset(outputpath+'rregionsouthern_ocean_daily_eta_t.nc')\n",
    "eta=ncfile.variables['eta_t'][:]*100\n",
    "# Import geographic coordinates (Lon,Lat)\n",
    "lon=ncfile.variables['xt_ocean_sub01'][:]\n",
    "lat=ncfile.variables['yt_ocean_sub01'][:]\n",
    "# Import velociry field\n",
    "ncfileu=Dataset('/g/data/v45/akm157/model_output/mom/mom01v5_kds75/\\\n",
    "output306/rregionsouthern_ocean_daily_u.nc')\n",
    "ncfilev=Dataset('/g/data/v45/akm157/model_output/mom/mom01v5_kds75/\\\n",
    "output306/rregionsouthern_ocean_daily_v.nc')\n",
    "print ncfileu\n",
    "lonu=ncfileu.variables['xu_ocean_sub01'][:]\n",
    "latu=ncfileu.variables['yu_ocean_sub01'][:]\n",
    "u=ncfileu.variables['u'][:,0,:,:]\n",
    "v=ncfilev.variables['v'][:,0,:,:]"
   ]
  },
  {
   "cell_type": "code",
   "execution_count": null,
   "metadata": {},
   "outputs": [],
   "source": [
    "okubo=okuboweissparm(u,v,0)\n",
    "pcolormesh(okubo,vmin=-0.001,vmax=0.001)\n",
    "colorbar()"
   ]
  },
  {
   "cell_type": "code",
   "execution_count": null,
   "metadata": {},
   "outputs": [],
   "source": [
    "areamap=array([[0,len(lon)],[600,len(lat)]])\n",
    "levels=[-2*std(okubo),2*std(okubo)]\n",
    "for ii in range(0,40):\n",
    "    print ii\n",
    "    ssha=okuboweissparm(u,v,ii)\n",
    "    eddys=scan_eddym(ssha,lonu,latu,levels,ii,areamap,destdir='',okparm='',diagnostics=False)\n",
    "    if ii==0:\n",
    "        eddytd=dict_eddyt(ii,eddys)\n",
    "    else:\n",
    "        eddytd=dict_eddyt(ii,eddys,eddytd) "
   ]
  },
  {
   "cell_type": "code",
   "execution_count": null,
   "metadata": {},
   "outputs": [],
   "source": [
    "#4,2,3\n",
    "eddy='eddyn_0'\n",
    "print eddytd[eddy]['position']\n",
    "for ii in range(0,len(eddytd[eddy]['time'])):\n",
    "    rdd=eddytd[eddy]['time'][ii][0]\n",
    "    print rdd\n",
    "    dd=\"%03d\" % ii\n",
    "    f, (ax1, ax2) = plt.subplots(1, 2,figsize=(13, 6))\n",
    "    ax1.pcolormesh(lon,lat,eta[rdd,:,:])\n",
    "    ax1.plot(eddytd[eddy]['position'][ii,0],eddytd[eddy]['position'][ii,1],'*r')\n",
    "    ax1.plot(eddytd[eddy]['contour'][ii,0],eddytd[eddy]['contour'][ii,1],'-m')\n",
    "    c1,c2=find2d(lon,lat,eddytd[eddy]['contour'][ii,0].min(),eddytd[eddy]['contour'][ii,1].min())\n",
    "    c3,c4=find2d(lon,lat,eddytd[eddy]['contour'][ii,0].max(),eddytd[eddy]['contour'][ii,1].max())\n",
    "    ax2.contourf(lon[c1-4:c3+4],lat[c2-4:c4+4],eta[rdd,c2-4:c4+4,c1-4:c3+4])\n",
    "    ax2.plot(eddytd[eddy]['position'][0:ii+1,0],eddytd[eddy]['position'][0:ii+1,1],'-r')\n",
    "    ax2.plot(eddytd[eddy]['position'][0:ii+1,0],eddytd[eddy]['position'][0:ii+1,1],'*r')\n",
    "    ax2.plot(eddytd[eddy]['contour'][ii,0],eddytd[eddy]['contour'][ii,1],'-m')\n",
    "    #print eddytd['eddyn_14']['contour'][:,1]\n",
    "    #print u[ii,c2:c4,c1:c3]\n",
    "    #print lonu[c1],lonu[c3],latu[c2],latu[c4]\n",
    "    #ax2.streamplot(lonu[c1:c3],latu[c2:c4],u[ii,c2:c4,c1:c3],v[rdd,c2:c4,c1:c3])\n",
    "    #ax2.set_ylim([eddytd[eddy]['contour'][ii,1].min(),eddytd[eddy]['contour'][ii,1].max()])\n",
    "    #ax2.set_xlim([eddytd[eddy]['contour'][ii,0].min(),eddytd[eddy]['contour'][ii,0].max()])\n",
    "    ax2.set_title('Day '+str(rdd))\n",
    "    #f.savefig('../output/'+eddy+str(dd)+'.png', bbox_inches='tight')\n",
    "#eddytd['eddyn_14']\n",
    "#figure()\n",
    "#streamplot(lonu,latu,u[ii,:,:],v[ii,:,:], density=1)"
   ]
  },
  {
   "cell_type": "code",
   "execution_count": null,
   "metadata": {
    "collapsed": true
   },
   "outputs": [],
   "source": []
  }
 ],
 "metadata": {
  "kernelspec": {
   "display_name": "Python [conda env:analysis27]",
   "language": "python",
   "name": "conda-env-analysis27-py"
  },
  "language_info": {
   "codemirror_mode": {
    "name": "ipython",
    "version": 2
   },
   "file_extension": ".py",
   "mimetype": "text/x-python",
   "name": "python",
   "nbconvert_exporter": "python",
   "pygments_lexer": "ipython2",
   "version": "2.7.13"
  }
 },
 "nbformat": 4,
 "nbformat_minor": 2
}
