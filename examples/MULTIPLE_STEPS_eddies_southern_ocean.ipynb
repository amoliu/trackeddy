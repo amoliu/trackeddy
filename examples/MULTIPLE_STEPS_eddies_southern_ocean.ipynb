{
 "cells": [
  {
   "cell_type": "markdown",
   "metadata": {},
   "source": [
    "# Southern Ocean MULTIPLE STEPS eddy tracking\n",
    "\n",
    "The objective of this script is to track the eddies in the Southern Ocean."
   ]
  },
  {
   "cell_type": "code",
   "execution_count": null,
   "metadata": {
    "collapsed": true
   },
   "outputs": [],
   "source": [
    "# Importing all libraries.\n",
    "from pylab import *\n",
    "from netCDF4 import Dataset\n",
    "%matplotlib inline\n",
    "import os\n",
    "import cmocean as cm\n",
    "from trackeddy.tracking import *\n",
    "from trackeddy.datastruct import *\n",
    "from trackeddy.geometryfunc import *\n",
    "from trackeddy.init import *\n",
    "from trackeddy.physics import *\n",
    "from trackeddy.plotfunc import *\n",
    "\n",
    "#import cosima_cookbook as cc"
   ]
  },
  {
   "cell_type": "code",
   "execution_count": null,
   "metadata": {
    "collapsed": true
   },
   "outputs": [],
   "source": [
    "# Output data path\n",
    "outputpath='/g/data/v45/akm157/model_output/mom/mom01v5_kds75/output306/'\n",
    "# Import SSH values to python environment.\n",
    "ncfile=Dataset(outputpath+'rregionsouthern_ocean_daily_eta_t.nc')\n",
    "eta=ncfile.variables['eta_t'][:]*100\n",
    "# Import geographic coordinates (Lon,Lat)\n",
    "lon=ncfile.variables['xt_ocean_sub01'][:]\n",
    "lat=ncfile.variables['yt_ocean_sub01'][:]"
   ]
  },
  {
   "cell_type": "code",
   "execution_count": null,
   "metadata": {
    "collapsed": true
   },
   "outputs": [],
   "source": [
    "# Import SSH 10 yrs mean values to python environment.\n",
    "ncfile=Dataset('/home/156/jm5970/notebooks/traceddy/data.output/meanssh_10yrs_AEXP.nc')\n",
    "ssh_mean=squeeze(ncfile.variables['SSH_mean'][:])\n",
    "# Import geographic coordinates (Lon,Lat)\n",
    "lon=ncfile.variables['Longitude'][:]\n",
    "lat=ncfile.variables['Latitude'][:]"
   ]
  },
  {
   "cell_type": "code",
   "execution_count": null,
   "metadata": {},
   "outputs": [],
   "source": [
    "basemap_mplot(lon,lat,eta[0,:,:]-ssh_mean,title=\"SSHa\",scale='Lin',cmap=cm.cm.balance\\\n",
    "              ,vmin='',vmax='',xan=1,yan=1,figsize=(5,5),fontsize=15)\n",
    "colorbar()"
   ]
  },
  {
   "cell_type": "code",
   "execution_count": null,
   "metadata": {
    "collapsed": true
   },
   "outputs": [],
   "source": [
    "###This mask is necessary to remask each time step, \n",
    "#It's not necesary if your mask is good in all the time steps\n",
    "mask=ma.getmask(eta[0,:,:])"
   ]
  },
  {
   "cell_type": "markdown",
   "metadata": {},
   "source": [
    "## Analysis in just one level  "
   ]
  },
  {
   "cell_type": "markdown",
   "metadata": {},
   "source": [
    "To extract or analyse the data in just one time step use the following two examples:\n",
    "\n",
    "* **Possitive eddy tracking**\n",
    "* **Negative eddy tracking**\n"
   ]
  },
  {
   "cell_type": "code",
   "execution_count": null,
   "metadata": {
    "scrolled": true
   },
   "outputs": [],
   "source": [
    "#Area in indexes, probably in the future it will be added an option for lon - lat coords.\n",
    "areamap=array([[0,len(lon)],[0,len(lat)]])\n",
    "\n",
    "eta=eta[:,400:600,500:1000]\n",
    "ssh_mean=ssh_mean[400:600,500:1000]\n",
    "print(shape(eta),shape(ssh_mean))\n",
    "lon=lon[500:1000]\n",
    "lat=lat[400:600]"
   ]
  },
  {
   "cell_type": "markdown",
   "metadata": {},
   "source": [
    "# Check dict_eddyt function"
   ]
  },
  {
   "cell_type": "markdown",
   "metadata": {},
   "source": [
    "#### Possitive eddy tracking"
   ]
  },
  {
   "cell_type": "code",
   "execution_count": null,
   "metadata": {
    "scrolled": true
   },
   "outputs": [],
   "source": [
    "# If you want to Analyse multiple levels, please go to the Moving in Z section.\n",
    "eddytd=analyseddyt(eta,lon,lat,level=10,t0=0,t1=90,tstep=1,data_meant=ssh_mean,\\\n",
    "                   areamap=areamap,mask='',destdir='',okparm='',diagnostics=False,pprint=False)"
   ]
  },
  {
   "cell_type": "code",
   "execution_count": null,
   "metadata": {
    "collapsed": true
   },
   "outputs": [],
   "source": [
    "#for key,value in eddytd.items():\n",
    "#    print(key)\n",
    "#    ##print(value['time'])\n",
    "#    print('contour',shape(value['contour']))\n",
    "#    print('ellips',value['ellipse'])"
   ]
  },
  {
   "cell_type": "markdown",
   "metadata": {},
   "source": [
    "#### Negative eddy tracking"
   ]
  },
  {
   "cell_type": "code",
   "execution_count": null,
   "metadata": {
    "scrolled": true
   },
   "outputs": [],
   "source": [
    "eddytdn=analyseddyt(eta,lon,lat,level=-10,t0=0,t1=90,tstep=1,data_meant=ssh_mean,\\\n",
    "                   areamap=areamap,mask='',destdir='',okparm='',diagnostics=False,pprint=False)"
   ]
  },
  {
   "cell_type": "markdown",
   "metadata": {},
   "source": [
    "### Removing eddies from eddy field or any other variable."
   ]
  },
  {
   "cell_type": "code",
   "execution_count": null,
   "metadata": {
    "collapsed": true
   },
   "outputs": [],
   "source": [
    "# SSHa Field used to extract eddies\n",
    "ssha=eta-ssh_mean"
   ]
  },
  {
   "cell_type": "code",
   "execution_count": null,
   "metadata": {},
   "outputs": [],
   "source": [
    "figure(figsize=(20,15))\n",
    "for key,value in eddytdn.items():\n",
    "    ##print(value['time'])\n",
    "    #print('contour',value['contour'][0])\n",
    "    #print('ellips',value['ellipse'][0])\n",
    "    if type(value['time'])!=int:\n",
    "        #print(value['position'][:,0])\n",
    "        plot(value['position_eddy'][1,0],value['position_eddy'][1,1],'og')\n",
    "        plot(value['position_eddy'][1::,0],value['position_eddy'][1::,1],'-r')\n",
    "        plot(value['position_eddy'][-1,0],value['position_eddy'][-1,1],'*m')\n",
    "    #    for  ii in range(len(value['time'])):"
   ]
  },
  {
   "cell_type": "code",
   "execution_count": null,
   "metadata": {
    "scrolled": true
   },
   "outputs": [],
   "source": [
    "#This threshold will let you grow the domine around the eddy contour.\n",
    "threshold=1\n",
    "# Function that removes the eddies\n",
    "## Positive remotion\n",
    "print(eddytd['eddyn_0']['contour'][0][0].min())\n",
    "eddysplot=exeddydt(eddytd,lat,lon,ssha,threshold,diagnostics=False)\n"
   ]
  },
  {
   "cell_type": "code",
   "execution_count": null,
   "metadata": {},
   "outputs": [],
   "source": [
    "## Negative remotion\n",
    "eddysplotn=exeddydt(eddytdn,lat,lon,ssha,threshold,diagnostics=False)"
   ]
  },
  {
   "cell_type": "code",
   "execution_count": null,
   "metadata": {
    "scrolled": false
   },
   "outputs": [],
   "source": [
    "basemap_mplot(lon,lat,[ssha[30,:,:],ssha[30,:,:]-eddysplot[30,:,:]-eddysplotn[30,:,:],eddysplotn[30,:,:],eddysplot[30,:,:]]\\\n",
    "              ,title=[\"SSHa\",\"Eddies extraction\",\"Negative Eddies extraction\",\\\n",
    "                       \"Positive Eddies extraction\"],scale='Lin',cmap=cm.cm.balance,\\\n",
    "              vmin=-40,vmax=40,xan=2,yan=2,figsize=(20,20),fontsize=20);"
   ]
  },
  {
   "cell_type": "markdown",
   "metadata": {
    "collapsed": true
   },
   "source": [
    "# Analysis of eddies scanning in Z"
   ]
  },
  {
   "cell_type": "code",
   "execution_count": null,
   "metadata": {
    "scrolled": true
   },
   "outputs": [],
   "source": [
    "eddytd=analyseddyzt(eta,lon,lat,0,60,1,20,5,1,data_meant=ssh_mean,areamap=areamap,mask=''\\\n",
    "                     ,destdir='',okparm='',diagnostics=False,pprint=False)"
   ]
  },
  {
   "cell_type": "code",
   "execution_count": null,
   "metadata": {
    "collapsed": true
   },
   "outputs": [],
   "source": [
    "threshold=1\n",
    "eddysplot=exeddydt(eddytd,lat,lon,ssha,threshold,diagnostics=False)"
   ]
  },
  {
   "cell_type": "code",
   "execution_count": null,
   "metadata": {
    "collapsed": true
   },
   "outputs": [],
   "source": [
    "basemap_mplot(lon,lat,[ssha[1,:,:],ssha[1,:,:]-eddysplot[1,:,:],eddysplot[1,:,:]]\\\n",
    "              ,title=[\"SSHa\",\"Eddies extraction\",\n",
    "                       \"Positive Eddies extraction\"],scale='Lin',cmap=cm.cm.balance,\\\n",
    "              vmin=-40,vmax=40,xan=1,yan=3,figsize=(20,20),fontsize=15);"
   ]
  },
  {
   "cell_type": "code",
   "execution_count": null,
   "metadata": {
    "collapsed": true
   },
   "outputs": [],
   "source": [
    "basemap_mplot(lon,lat,[ssha[19,:,:],ssha[19,:,:]-eddysplot[19,:,:],eddysplot[19,:,:]]\\\n",
    "              ,title=[\"SSHa\",\"Eddies extraction\",\n",
    "                       \"Positive Eddies extraction\"],scale='Lin',cmap=cm.cm.balance,\\\n",
    "              vmin=-40,vmax=40,xan=1,yan=3,figsize=(20,20),fontsize=15);"
   ]
  },
  {
   "cell_type": "code",
   "execution_count": null,
   "metadata": {
    "collapsed": true,
    "scrolled": false
   },
   "outputs": [],
   "source": [
    "eddytdn=analyseddyzt(eta,lon,lat,0,60,1,-1,-20,1,data_meant=ssh_mean,areamap='',mask=''\\\n",
    "                     ,destdir='',okparm='',diagnostics=False,pprint=False)"
   ]
  },
  {
   "cell_type": "code",
   "execution_count": null,
   "metadata": {
    "collapsed": true
   },
   "outputs": [],
   "source": [
    "threshold=1\n",
    "eddysplotn=exeddydt(eddytdn,lat,lon,ssha,threshold,diagnostics=False)"
   ]
  },
  {
   "cell_type": "code",
   "execution_count": null,
   "metadata": {
    "collapsed": true
   },
   "outputs": [],
   "source": [
    "basemap_mplot(lon,lat,[ssha[0,:,:],ssha[0,:,:]-eddysplotn[0,:,:],eddysplotn[0,:,:]]\\\n",
    "              ,title=[\"SSHa\",\"Eddies extraction\",\"Negative Eddies extraction\"],scale='Lin',cmap=cm.cm.balance,\\\n",
    "              vmin=-40,vmax=40,xan=1,yan=3,figsize=(20,20),fontsize=15);"
   ]
  },
  {
   "cell_type": "code",
   "execution_count": null,
   "metadata": {
    "collapsed": true
   },
   "outputs": [],
   "source": [
    "basemap_mplot(lon,lat,[ssha[40,:,:],ssha[40,:,:]-eddysplotn[40,:,:],eddysplotn[40,:,:]]\\\n",
    "              ,title=[\"SSHa\",\"Eddies extraction\",\"Negative Eddies extraction\"],scale='Lin',cmap=cm.cm.balance,\\\n",
    "              vmin=-40,vmax=40,xan=1,yan=3,figsize=(20,20),fontsize=15);"
   ]
  },
  {
   "cell_type": "markdown",
   "metadata": {
    "collapsed": true
   },
   "source": [
    "eddy=eddytdn['eddyn_13']\n",
    "\n",
    "for ii in range(0,len(eddy['time'])):\n",
    "    figure()\n",
    "    print(eddy['time'][ii])\n",
    "    plot(eddy['position_eddy'][0,0],eddy['position_eddy'][0,1],'og')\n",
    "    plot(eddy['position_eddy'][0:ii+1,0],eddy['position_eddy'][0:ii+1,1],'r')\n",
    "    plot(eddy['position_eddy'][-1,0],eddy['position_eddy'][-1,1],'*m')\n",
    "    plot(eddy['contour'][ii][0],eddy['contour'][ii][1],'--k')\n",
    "    plot(eddy['ellipse'][ii][0],eddy['ellipse'][ii][1],'--b')\n",
    "    show()\n",
    "    "
   ]
  },
  {
   "cell_type": "code",
   "execution_count": null,
   "metadata": {
    "collapsed": true
   },
   "outputs": [],
   "source": [
    "figure(figsize=(20,15))\n",
    "pcolormesh(lon,lat,ssha[0,:,:])\n",
    "for key,value in eddytdn.items():\n",
    "    #print(value['time'])\n",
    "    \n",
    "    if type(value['time'])!=int:\n",
    "        #print(value['position'][:,0])\n",
    "        plot(value['position_eddy'][1,0],value['position_eddy'][1,1],'og')\n",
    "        plot(value['position_eddy'][1::,0],value['position_eddy'][1::,1],'-r')\n",
    "        plot(value['position_eddy'][-1,0],value['position_eddy'][-1,1],'*m')\n",
    "    #    for  ii in range(len(value['time'])):\n",
    "\n"
   ]
  },
  {
   "cell_type": "code",
   "execution_count": null,
   "metadata": {
    "collapsed": true
   },
   "outputs": [],
   "source": [
    "basemap_mplot(lon,lat,[ssha[19,:,:],ssha[19,:,:]-eddysplot[19,:,:]-eddysplotn[19,:,:],eddysplotn[19,:,:],\\\n",
    "                       eddysplot[19,:,:]]\\\n",
    "              ,title=[\"SSHa\",\"Eddies extraction\",\"Negative Eddies extraction\",\\\n",
    "                       \"Positive Eddies extraction\"],scale='Lin',cmap=cm.cm.balance,\\\n",
    "              vmin=-40,vmax=40,xan=2,yan=2,figsize=(20,20),fontsize=20);\n",
    "plt.savefig('../output/eddy_removal.jpg', bbox_inches='tight')"
   ]
  },
  {
   "cell_type": "code",
   "execution_count": null,
   "metadata": {
    "collapsed": true
   },
   "outputs": [],
   "source": [
    "threshold=1\n",
    "eddysplotn1=exeddydt(eddytdn,lat,lon,ssha,threshold,diagnostics=False)"
   ]
  },
  {
   "cell_type": "code",
   "execution_count": null,
   "metadata": {
    "collapsed": true
   },
   "outputs": [],
   "source": [
    "basemap_mplot(lon,lat,[eddysplotn[0,:,:],eddysplotn1[0,:,:]]\\\n",
    "              ,title=[\"Negative Eddies extraction\",\"Negative Eddies extraction\"],scale='Lin',cmap=cm.cm.balance,\\\n",
    "              vmin=-40,vmax=40,xan=1,yan=2,figsize=(20,10),fontsize=15);"
   ]
  },
  {
   "cell_type": "markdown",
   "metadata": {
    "collapsed": true
   },
   "source": [
    "# Eddy vs Ellipse fit"
   ]
  },
  {
   "cell_type": "markdown",
   "metadata": {
    "collapsed": true
   },
   "source": [
    "print(eddy['contour'][0])\n",
    "print(eddy['ellipse'][0])"
   ]
  },
  {
   "cell_type": "code",
   "execution_count": null,
   "metadata": {
    "collapsed": true
   },
   "outputs": [],
   "source": [
    "from scipy.interpolate import interp1d\n",
    "#eddy=eddytdn['eddyn_3']\n",
    "\n",
    "def ellipsoidfit(y,yfit,diagnostics=False):\n",
    "    x=range(0,len(y))\n",
    "    f=interp1d(x, y)\n",
    "    xnew=linspace(0,len(y)-1,len(yfit))\n",
    "    eddy2fit=f(xnew)\n",
    "    maxindxed=find(yfit,yfit.max())\n",
    "    maxindxrd=find(eddy2fit,eddy2fit.max())\n",
    "    \n",
    "    eddy2fit=list(eddy2fit)*2\n",
    "    eddyfitdisplace=zeros(len(yfit))\n",
    "    for ii in range(len(yfit)):\n",
    "        eddyfitdisplace[ii]=eddy2fit[maxindxrd-maxindxed+ii]\n",
    "    Rsquard=rsquard(eddyfitdisplace,yfit)\n",
    "    if diagnostics==True:\n",
    "        plt.figure()\n",
    "        plt.plot(eddy['ellipse'][0][0],eddy['ellipse'][0][1])\n",
    "        plt.plot(eddy['contour'][0][0],eddy['contour'][0][1])\n",
    "        plt.figure()\n",
    "        plt.plot(eddy['ellipse'][0][1])\n",
    "        plt.plot(eddyfitdisplace)\n",
    "        plt.show()\n",
    "    if Rsquard>=0.7:\n",
    "        check=True\n",
    "    return Rsquard,check\n",
    "\n",
    "for key,eddy in eddytdn.items():\n",
    "    y=eddy['contour'][0][1]\n",
    "    yfit=eddy['ellipse'][0][1]\n",
    "    Rsquard=ellipsoidfit(y,yfit,diagnostics=True)\n",
    "    print(Rsquard)"
   ]
  },
  {
   "cell_type": "code",
   "execution_count": null,
   "metadata": {
    "collapsed": true
   },
   "outputs": [],
   "source": []
  }
 ],
 "metadata": {
  "kernelspec": {
   "display_name": "Python [conda env:analysis3]",
   "language": "python",
   "name": "conda-env-analysis3-py"
  },
  "language_info": {
   "codemirror_mode": {
    "name": "ipython",
    "version": 3
   },
   "file_extension": ".py",
   "mimetype": "text/x-python",
   "name": "python",
   "nbconvert_exporter": "python",
   "pygments_lexer": "ipython3",
   "version": "3.6.2"
  }
 },
 "nbformat": 4,
 "nbformat_minor": 2
}
