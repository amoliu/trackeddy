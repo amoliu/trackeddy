{
 "cells": [
  {
   "cell_type": "markdown",
   "metadata": {},
   "source": [
    "# Calculate the potential vorticity\n",
    "This could help in the eddy identification. \n",
    "The potential vorticity is defined as:\n",
    "\\begin{equation}\n",
    "Q = \\frac{1}{\\rho}\\zeta_a\\cdot\\nabla\\theta\n",
    "\\end{equation}\n",
    "where $\\rho$ is the density and the absolute vorticity is\n",
    "\\begin{equation}\n",
    "\\zeta_a = 2\\Omega + \\nabla \\times u\n",
    "\\end{equation}\n",
    "###### I'm using the seawater package for the potential temperature"
   ]
  },
  {
   "cell_type": "code",
   "execution_count": 1,
   "metadata": {
    "collapsed": true
   },
   "outputs": [],
   "source": [
    "# Importing all libraries except trackeddy.\n",
    "from pylab import *\n",
    "from netCDF4 import Dataset\n",
    "%matplotlib inline\n",
    "import os\n",
    "from trackeddy.tracking import *\n",
    "from trackeddy.datastruct import *\n",
    "from trackeddy.geometryfunc import *\n",
    "from trackeddy.init import *\n",
    "from trackeddy.physics import *"
   ]
  },
  {
   "cell_type": "code",
   "execution_count": 2,
   "metadata": {
    "collapsed": true
   },
   "outputs": [],
   "source": [
    "def PVort(S,T,P,U,V):\n",
    "    theta=np.zeros(np.shape(S))\n",
    "    rho=np.zeros(np.shape(S))\n",
    "    for ii in range(0,np.shape(S)[1]):\n",
    "        print ii\n",
    "        for jj in range(0,np.shape(S)[2]):\n",
    "            theta[:,ii,jj]=sw.ptmp(S[:,ii,jj],T[:,ii,jj],P)\n",
    "            rho[:,ii,jj]=sw.dens(S[:,ii,jj],T[:,ii,jj],P)\n",
    "    omega=7.2921159*10**(-5)\n",
    "    rot=np.gradient(U,axis=0)-np.gradient(V,axis=1)\n",
    "    zeta=2*omega+rot\n",
    "    Q=(1/rho)*(zeta)*np.gradient(theta)"
   ]
  },
  {
   "cell_type": "code",
   "execution_count": null,
   "metadata": {},
   "outputs": [
    {
     "name": "stdout",
     "output_type": "stream",
     "text": [
      "(75, 331, 600)\n"
     ]
    }
   ],
   "source": [
    "#Add check physics.\n",
    "#Including PV contours\n",
    "\n",
    "# Output data path\n",
    "outputpath='/g/data/v45/akm157/model_output/mom/mom01v5_kds75/output306/'\n",
    "# Import SSH values to python environment.\n",
    "\n",
    "ncfile=Dataset(outputpath+'rregionsouthern_ocean_daily_temp.nc')\n",
    "T=ncfile.variables['temp'][1,:,600::,3000::]\n",
    "print shape(T)"
   ]
  },
  {
   "cell_type": "code",
   "execution_count": null,
   "metadata": {
    "scrolled": true
   },
   "outputs": [
    {
     "name": "stdout",
     "output_type": "stream",
     "text": [
      "(75, 331, 600) (75, 331, 600) (75,)\n",
      "0\n"
     ]
    },
    {
     "name": "stderr",
     "output_type": "stream",
     "text": [
      "/g/data3/hh5/public/apps/miniconda3/envs/analysis27/lib/python2.7/site-packages/numpy/ma/core.py:6457: RuntimeWarning: overflow encountered in power\n",
      "  result = np.where(m, fa, umath.power(fa, fb)).view(basetype)\n"
     ]
    },
    {
     "name": "stdout",
     "output_type": "stream",
     "text": [
      "1\n",
      "2\n",
      "3\n",
      "4\n",
      "5\n",
      "6\n",
      "7\n",
      "8\n",
      "9\n",
      "10\n",
      "11\n",
      "12\n",
      "13\n",
      "14\n",
      "15\n",
      "16\n",
      "17\n",
      "18\n",
      "19\n",
      "20\n",
      "21\n",
      "22\n",
      "23\n"
     ]
    }
   ],
   "source": [
    "z=ncfile.variables['st_ocean'][:]\n",
    "P=(z/10)*10.132\n",
    "ncfile=Dataset(outputpath+'rregionsouthern_ocean_daily_salt.nc')\n",
    "S=ncfile.variables['salt'][1,:,600::,3000::]\n",
    "ncfile=Dataset(outputpath+'rregionsouthern_ocean_daily_u.nc')\n",
    "U=ncfile.variables['u'][1,:,600::,3000::]\n",
    "ncfile=Dataset(outputpath+'rregionsouthern_ocean_daily_v.nc')\n",
    "V=ncfile.variables['v'][1,:,600::,3000::]\n",
    "\n",
    "print shape(S),shape(T),shape(P)\n",
    "\n",
    "PV=PVort(S,T,P,U,V)\n",
    "\n",
    "#eddytd"
   ]
  },
  {
   "cell_type": "code",
   "execution_count": null,
   "metadata": {
    "collapsed": true
   },
   "outputs": [],
   "source": [
    "pcolor(PV)"
   ]
  }
 ],
 "metadata": {
  "kernelspec": {
   "display_name": "Python [conda env:analysis27]",
   "language": "python",
   "name": "conda-env-analysis27-py"
  },
  "language_info": {
   "codemirror_mode": {
    "name": "ipython",
    "version": 2
   },
   "file_extension": ".py",
   "mimetype": "text/x-python",
   "name": "python",
   "nbconvert_exporter": "python",
   "pygments_lexer": "ipython2",
   "version": "2.7.13"
  }
 },
 "nbformat": 4,
 "nbformat_minor": 2
}
