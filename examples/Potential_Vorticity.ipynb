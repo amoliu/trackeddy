{
 "cells": [
  {
   "cell_type": "markdown",
   "metadata": {},
   "source": [
    "# Calculate the potential vorticity\n",
    "This could help in the eddy identification. \n",
    "The potential vorticity is defined as:\n",
    "\\begin{equation}\n",
    "Q = \\frac{1}{\\rho}\\zeta_a\\cdot\\nabla\\theta\n",
    "\\end{equation}\n",
    "where $\\rho$ is the density and the absolute vorticity is\n",
    "\\begin{equation}\n",
    "\\zeta_a = 2\\Omega + \\nabla \\times u\n",
    "\\end{equation}\n",
    "###### I'm using the seawater package for the potential temperature"
   ]
  },
  {
   "cell_type": "code",
   "execution_count": 1,
   "metadata": {
    "collapsed": true
   },
   "outputs": [],
   "source": [
    "# Importing all libraries except trackeddy.\n",
    "from pylab import *\n",
    "from netCDF4 import Dataset\n",
    "%matplotlib inline\n",
    "import os\n",
    "from trackeddy.datastruct import *\n",
    "from trackeddy.geometryfunc import *\n",
    "from trackeddy.init import *\n",
    "from trackeddy.physics import *"
   ]
  },
  {
   "cell_type": "code",
   "execution_count": null,
   "metadata": {
    "collapsed": true
   },
   "outputs": [],
   "source": [
    "def PVort(S,T,P,U,V):\n",
    "    theta=np.zeros(np.shape(S))\n",
    "    for ii in range(0,np.shape(S)[1]):\n",
    "        for jj in range(0,np.shape(S)[2]):\n",
    "            theta[:,ii,jj]=sw.ptmp(S[:,ii,jj],T[:,ii,jj],P)\n",
    "    rho=sw.dens(S,T,P)\n",
    "    omega=7.2921159*10**(-5)\n",
    "    zeta=2*omega+curl(U,V)\n",
    "    Q=(1/rho)*(zeta)*np.gradient(theta)"
   ]
  },
  {
   "cell_type": "code",
   "execution_count": null,
   "metadata": {},
   "outputs": [
    {
     "name": "stderr",
     "output_type": "stream",
     "text": [
      "/g/data3/hh5/public/apps/miniconda3/envs/analysis27/lib/python2.7/site-packages/xarray/conventions.py:393: RuntimeWarning: Unable to decode time axis into full numpy.datetime64 objects, continuing using dummy netCDF4.datetime objects instead, reason: dates out of range\n",
      "  result = decode_cf_datetime(example_value, units, calendar)\n",
      "/g/data3/hh5/public/apps/miniconda3/envs/analysis27/lib/python2.7/site-packages/xarray/conventions.py:412: RuntimeWarning: Unable to decode time axis into full numpy.datetime64 objects, continuing using dummy netCDF4.datetime objects instead, reason: dates out of range\n",
      "  calendar=self.calendar)\n"
     ]
    }
   ],
   "source": [
    "#Add check physics.\n",
    "#Including PV contours\n",
    "import dask\n",
    "import xarray as xr\n",
    "\n",
    "# Output data path\n",
    "outputpath='/g/data/v45/akm157/model_output/mom/mom01v5_kds75/output306/'\n",
    "# Import SSH values to python environment.\n",
    "\n",
    "#ncfile=Dataset(outputpath+'rregionsouthern_ocean_daily_temp.nc')\n",
    "#T=ncfile.variables['temp'][1,:,:,:]\n",
    "#z=ncfile.variables['st_ocean'][:]\n",
    "#P=(z/10)*10.132\n",
    "#ncfile=Dataset(outputpath+'rregionsouthern_ocean_daily_salt.nc')\n",
    "#S=ncfile.variables['salt'][1,:,:,:]\n",
    "#ncfile=Dataset(outputpath+'rregionsouthern_ocean_daily_u.nc')\n",
    "#U=ncfile.variables['u'][1,:,:,:]\n",
    "#ncfile=Dataset(outputpath+'rregionsouthern_ocean_daily_v.nc')\n",
    "#V=ncfile.variables['v'][1,:,:,:]\n",
    "\n",
    "\n",
    "outputpath='/g/data/v45/akm157/model_output/mom/mom01v5_kds75/output306/'\n",
    "data = xr.open_dataset(outputpath+'rregionsouthern_ocean_daily_temp.nc', chunks={'xt_ocean_sub01': 10})\n",
    "T=data.temp.values\n",
    "data = xr.open_dataset(outputpath+'rregionsouthern_ocean_daily_salt.nc', chunks={'xt_ocean_sub01': 10})\n",
    "S=data.salt.values\n",
    "data = xr.open_dataset(outputpath+'rregionsouthern_ocean_daily_u.nc', chunks={'xt_ocean_sub01': 10})\n",
    "U=data.u.values\n",
    "data = xr.open_dataset(outputpath+'rregionsouthern_ocean_daily_v.nc', chunks={'xt_ocean_sub01': 10})\n",
    "V=data.v.values\n",
    "z=fsys.st_ocean.values\n",
    "P=(z/10)*10.132\n",
    "pcolormesh(T)\n",
    "print shape(S),shape(T),shape(P)\n",
    "\n",
    "PV=PVort(S,T,P,U,V)\n",
    "\n",
    "#eddytd"
   ]
  },
  {
   "cell_type": "code",
   "execution_count": null,
   "metadata": {
    "collapsed": true
   },
   "outputs": [],
   "source": []
  }
 ],
 "metadata": {
  "kernelspec": {
   "display_name": "Python [conda env:analysis27]",
   "language": "python",
   "name": "conda-env-analysis27-py"
  },
  "language_info": {
   "codemirror_mode": {
    "name": "ipython",
    "version": 2
   },
   "file_extension": ".py",
   "mimetype": "text/x-python",
   "name": "python",
   "nbconvert_exporter": "python",
   "pygments_lexer": "ipython2",
   "version": "2.7.13"
  }
 },
 "nbformat": 4,
 "nbformat_minor": 2
}
