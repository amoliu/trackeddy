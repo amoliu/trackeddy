{
 "cells": [
  {
   "cell_type": "code",
   "execution_count": 11,
   "metadata": {},
   "outputs": [
    {
     "name": "stdout",
     "output_type": "stream",
     "text": [
      "Searching /g/data3/hh5/tmp/cosima/\n",
      "Searching /g/data1/v45/APE-MOM\n",
      "Found 38641 .nc files\n",
      "Using database sqlite:////g/data1/v45/cosima-cookbook/cosima-cookbook.db\n",
      "Files already indexed: 38232\n",
      "Files found but not yet indexed: 409\n",
      "Indexing new .nc files...\n",
      "\n",
      "Found 0 new variables\n",
      "Saving results in database...\n",
      "Indexing complete.\n",
      "['mom025/mom025_nyf']\n"
     ]
    }
   ],
   "source": [
    "%matplotlib inline\n",
    "\n",
    "from cosima_cookbook import build_index, get_nc_variable, memory\n",
    "import matplotlib.pyplot as plt\n",
    "import xarray as xr\n",
    "import numpy as np\n",
    "\n",
    "build_index()\n",
    "\n",
    "# selected 025 experiments\n",
    "expts = ['mom025/mom025_nyf']\n",
    "print(expts)"
   ]
  },
  {
   "cell_type": "code",
   "execution_count": 22,
   "metadata": {},
   "outputs": [
    {
     "name": "stdout",
     "output_type": "stream",
     "text": [
      "Using 100 ncfiles\n",
      "chunking info ('time', 'yt_ocean', 'xt_ocean') [1, 540, 720]\n",
      "<xarray.DataArray 'xt_ocean' (xt_ocean: 1440)>\n",
      "array([-279.875, -279.625, -279.375, ...,   79.375,   79.625,   79.875])\n",
      "Coordinates:\n",
      "  * xt_ocean  (xt_ocean) float64 -279.9 -279.6 -279.4 -279.1 -278.9 -278.6 ...\n",
      "Attributes:\n",
      "    long_name:       tcell longitude\n",
      "    units:           degrees_E\n",
      "    cartesian_axis:  X\n"
     ]
    }
   ],
   "source": [
    "#!ls /g/data3/hh5/tmp/cosima/mom025/mom025_nyf/output000\n",
    "#!ncdump -h /g/data3/hh5/tmp/cosima/mom025/mom025_nyf/output000/ocean_month.nc\n",
    "\n",
    "\n",
    "\n",
    "ssh=get_nc_variable(expts[0],'ocean_month.nc','sea_level',n=500).isel(st_ocean=0)\n",
    "ssh_mean=ssh.mean('time')"
   ]
  },
  {
   "cell_type": "code",
   "execution_count": 70,
   "metadata": {},
   "outputs": [
    {
     "name": "stdout",
     "output_type": "stream",
     "text": [
      "['T', '_DataArray__default', '_DataArray__default_name', '_DataArray__this_array', '__abs__', '__add__', '__and__', '__array__', '__array_priority__', '__array_wrap__', '__bool__', '__class__', '__complex__', '__contains__', '__copy__', '__deepcopy__', '__delattr__', '__delitem__', '__dict__', '__dir__', '__div__', '__doc__', '__enter__', '__eq__', '__exit__', '__float__', '__floordiv__', '__format__', '__ge__', '__getattr__', '__getattribute__', '__getitem__', '__gt__', '__hash__', '__iadd__', '__iand__', '__ifloordiv__', '__imod__', '__imul__', '__init__', '__init_subclass__', '__int__', '__invert__', '__ior__', '__ipow__', '__isub__', '__iter__', '__itruediv__', '__ixor__', '__le__', '__len__', '__long__', '__lt__', '__mod__', '__module__', '__mul__', '__ne__', '__neg__', '__new__', '__nonzero__', '__or__', '__pos__', '__pow__', '__radd__', '__rand__', '__reduce__', '__reduce_ex__', '__repr__', '__rfloordiv__', '__rmod__', '__rmul__', '__ror__', '__rpow__', '__rsub__', '__rtruediv__', '__rxor__', '__setattr__', '__setitem__', '__sizeof__', '__slotnames__', '__str__', '__sub__', '__subclasshook__', '__truediv__', '__weakref__', '__xor__', '_all_compat', '_attr_sources', '_binary_op', '_calc_assign_results', '_copy_attrs_from', '_cum_extra_args_docstring', '_from_temp_dataset', '_get_axis_num', '_getitem_coord', '_groupby_cls', '_in_memory', '_initialized', '_inplace_binary_op', '_item_key_to_dict', '_iter', '_level_coords', '_reduce_extra_args_docstring', '_reduce_method', '_replace', '_replace_indexes', '_replace_maybe_drop_dims', '_result_name', '_rolling_cls', '_title_for_slice', '_to_dataset_split', '_to_dataset_whole', '_to_temp_dataset', '_unary_op', '_where', 'all', 'any', 'argmax', 'argmin', 'argsort', 'assign_attrs', 'assign_coords', 'astype', 'attrs', 'broadcast_equals', 'chunk', 'chunks', 'clip', 'close', 'combine_first', 'compute', 'conj', 'conjugate', 'coords', 'copy', 'count', 'cumprod', 'cumsum', 'data', 'diff', 'dims', 'dot', 'drop', 'dropna', 'dt', 'dtype', 'encoding', 'equals', 'expand_dims', 'fillna', 'from_cdms2', 'from_dict', 'from_series', 'get_axis_num', 'get_index', 'groupby', 'groupby_bins', 'identical', 'imag', 'indexes', 'isel', 'isel_points', 'isnull', 'item', 'load', 'loc', 'max', 'mean', 'median', 'min', 'name', 'nbytes', 'ndim', 'notnull', 'persist', 'pipe', 'plot', 'prod', 'quantile', 'real', 'reduce', 'reindex', 'reindex_like', 'rename', 'reorder_levels', 'resample', 'reset_coords', 'reset_index', 'roll', 'rolling', 'round', 'searchsorted', 'sel', 'sel_points', 'set_index', 'shape', 'shift', 'size', 'sizes', 'sortby', 'squeeze', 'stack', 'std', 'sum', 'swap_dims', 'to_cdms2', 'to_dataframe', 'to_dataset', 'to_dict', 'to_index', 'to_masked_array', 'to_netcdf', 'to_pandas', 'to_series', 'transpose', 'unstack', 'values', 'var', 'variable', 'where', 'xt_ocean', 'yt_ocean']\n"
     ]
    }
   ],
   "source": [
    "print(dir(ssh_mean))\n",
    "sshmean=ssh_mean[:,:]"
   ]
  },
  {
   "cell_type": "code",
   "execution_count": 72,
   "metadata": {},
   "outputs": [
    {
     "name": "stdout",
     "output_type": "stream",
     "text": [
      "<xarray.DataArray 'sea_level' (yt_ocean: 1080, xt_ocean: 1440)>\n",
      "dask.array<mean_agg-aggregate, shape=(1080, 1440), dtype=float64, chunksize=(540, 720)>\n",
      "Coordinates:\n",
      "  * xt_ocean  (xt_ocean) float64 -279.9 -279.6 -279.4 -279.1 -278.9 -278.6 ...\n",
      "  * yt_ocean  (yt_ocean) float64 -81.08 -80.97 -80.87 -80.76 -80.65 -80.55 ...\n"
     ]
    }
   ],
   "source": [
    "print(sshmean)"
   ]
  },
  {
   "cell_type": "code",
   "execution_count": 74,
   "metadata": {},
   "outputs": [
    {
     "ename": "NameError",
     "evalue": "name 'vargeonc' is not defined",
     "output_type": "error",
     "traceback": [
      "\u001b[0;31m---------------------------------------------------------------------------\u001b[0m",
      "\u001b[0;31mNameError\u001b[0m                                 Traceback (most recent call last)",
      "\u001b[0;32m<ipython-input-74-68d68f4db53d>\u001b[0m in \u001b[0;36m<module>\u001b[0;34m()\u001b[0m\n\u001b[1;32m      8\u001b[0m \u001b[0mnc_description\u001b[0m\u001b[0;34m=\u001b[0m\u001b[0;34m'SSH mean of the Ocean over ? years'\u001b[0m\u001b[0;34m\u001b[0m\u001b[0m\n\u001b[1;32m      9\u001b[0m \u001b[0mdim\u001b[0m\u001b[0;34m=\u001b[0m\u001b[0;34m'2D'\u001b[0m\u001b[0;34m\u001b[0m\u001b[0m\n\u001b[0;32m---> 10\u001b[0;31m \u001b[0mvargeonc\u001b[0m\u001b[0;34m(\u001b[0m\u001b[0mfilename\u001b[0m\u001b[0;34m,\u001b[0m\u001b[0mlat\u001b[0m\u001b[0;34m,\u001b[0m\u001b[0mlon\u001b[0m\u001b[0;34m,\u001b[0m\u001b[0mvar\u001b[0m\u001b[0;34m,\u001b[0m\u001b[0;36m0\u001b[0m\u001b[0;34m,\u001b[0m\u001b[0mvarname\u001b[0m\u001b[0;34m,\u001b[0m\u001b[0mnc_description\u001b[0m\u001b[0;34m=\u001b[0m\u001b[0mnc_description\u001b[0m\u001b[0;34m,\u001b[0m\u001b[0munits\u001b[0m\u001b[0;34m=\u001b[0m\u001b[0munits\u001b[0m\u001b[0;34m,\u001b[0m\u001b[0mdt\u001b[0m\u001b[0;34m=\u001b[0m\u001b[0;34m''\u001b[0m\u001b[0;34m,\u001b[0m\u001b[0mdim\u001b[0m\u001b[0;34m=\u001b[0m\u001b[0mdim\u001b[0m\u001b[0;34m)\u001b[0m\u001b[0;34m\u001b[0m\u001b[0m\n\u001b[0m",
      "\u001b[0;31mNameError\u001b[0m: name 'vargeonc' is not defined"
     ]
    }
   ],
   "source": [
    "lon=ssh_mean.xt_ocean.values\n",
    "lat=ssh_mean.yt_ocean.values\n",
    "var=ssh_mean\n",
    "\n",
    "filename='/home/156/jm5970/notebooks/traceddy/data.output/meanssh_10yrs_globalEXP.nc'\n",
    "varname='SSH_mean'\n",
    "units='Centimeters [cm]'\n",
    "nc_description='SSH mean of the Ocean over ? years'\n",
    "dim='2D'\n",
    "vargeonc(filename,lat,lon,var,0,varname,nc_description=nc_description,units=units,dt='',dim=dim)"
   ]
  },
  {
   "cell_type": "code",
   "execution_count": null,
   "metadata": {
    "collapsed": true
   },
   "outputs": [],
   "source": []
  }
 ],
 "metadata": {
  "kernelspec": {
   "display_name": "Python [conda env:analysis3]",
   "language": "python",
   "name": "conda-env-analysis3-py"
  },
  "language_info": {
   "codemirror_mode": {
    "name": "ipython",
    "version": 3
   },
   "file_extension": ".py",
   "mimetype": "text/x-python",
   "name": "python",
   "nbconvert_exporter": "python",
   "pygments_lexer": "ipython3",
   "version": "3.6.2"
  }
 },
 "nbformat": 4,
 "nbformat_minor": 2
}
