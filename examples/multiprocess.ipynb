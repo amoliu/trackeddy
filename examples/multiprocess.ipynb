{
 "cells": [
  {
   "cell_type": "code",
   "execution_count": null,
   "metadata": {
    "collapsed": true
   },
   "outputs": [],
   "source": [
    "from joblib import Parallel, delayed\n",
    "import multiprocessing\n",
    "\n",
    "\n",
    "print num_cores\n",
    "def div2d_mc(lenx,leny,numcores):\n",
    "    subdom = np.zeros([numcores,[2]])\n",
    "    if lenx % numcores == 0 and leny % numcores == 0:\n",
    "        for ii in range(1,numcores):\n",
    "            subdom[ii,:]=subdom[ii-1,:]+[lenx/numcores,leny/numcores]\n",
    "    elif lenx % numcores == 0:\n",
    "            subdom[ii,:]=subdom[ii-1,:]+[lenx/numcores,leny]\n",
    "    elif leny % numcores == 0:\n",
    "            subdom[ii,:]=subdom[ii-1,:]+[lenx,leny/numcores]\n",
    "    else:\n",
    "        print 'Change the shape of your data or the number of cores.'\n",
    "    return subdom\n",
    "\n",
    "for ii in range(0,np.shape(S)[1]):\n",
    "        for jj in range(0,np.shape(S)[2]):\n",
    "            theta[:,ii,jj]=sw.ptmp(S[:,ii,jj],T[:,ii,jj],P)\n",
    "\n",
    "def PVort(S,T,P,U,V):\n",
    "    num_cores = multiprocessing.cpu_count()\n",
    "    \n",
    "    theta=np.zeros(np.shape(S))\n",
    "    \n",
    "    rho=sw.dens(S,T,P)\n",
    "    omega=7.2921159*10**(-5)\n",
    "    zeta=2*omega+curl(U,V)\n",
    "    Q=(1/rho)*(zeta)*np.gradient(theta)\n",
    "\n",
    "#areas=[]\n",
    "#results = Parallel(n_jobs=num_cores)(delayed(PVort)(S,T,P,U,V) for i in areas)"
   ]
  },
  {
   "cell_type": "code",
   "execution_count": null,
   "metadata": {
    "collapsed": true
   },
   "outputs": [],
   "source": [
    "\n",
    "def div2d_mc(lenx,leny,numcores):\n",
    "    if numcores%2!=0:\n",
    "        numcores=numcores-1\n",
    "        print numcores\n",
    "    if lenx % numcores == 0 and leny % numcores == 0 and numcores!=2:\n",
    "        subdom = np.zeros([(numcores/2)+1,2])\n",
    "        \n",
    "        for ii in range(1,(numcores/2)+1):\n",
    "            if numcores%8 == 0 and lenx%8==0:\n",
    "                subdom[ii,:]=subdom[ii-1,:]+[lenx/8,leny/numcores-8]\n",
    "            if numcores%6 == 0 and lenx%6==0:\n",
    "                subdom[ii,:]=subdom[ii-1,:]+[lenx/6,leny/numcores-6]\n",
    "            if numcores%4 == 0 and lenx%4==0:\n",
    "                print '4'\n",
    "                subdom[ii,:]=subdom[ii-1,:]+[lenx/4,leny/numcores-4]\n",
    "            if numcores%2 == 0 and lenx%2==0:\n",
    "                subdom[ii,:]=subdom[ii-1,:]+[lenx/2,leny/numcores-2]\n",
    "            subdom[ii,:]=subdom[ii-1,:]+[lenx/(numcores/2),leny/(numcores/2)]\n",
    "        coords = subdom[:,0],subdom[:,1]\n",
    "    elif lenx % numcores == 0 or numcores == 2:\n",
    "        subdom = np.zeros([(numcores)+1])\n",
    "        for ii in range(1,(numcores)+1):\n",
    "            subdom[ii]=subdom[ii-1]+[lenx/numcores]\n",
    "        coords = subdom,[0,leny]\n",
    "    elif leny % numcores == 0:\n",
    "        subdom = np.zeros([(numcores)+1])\n",
    "        for ii in range(1,(numcores)+1):\n",
    "            subdom[ii]=subdom[ii-1]+[leny/numcores]\n",
    "            #subdom[ii,1]=leny\n",
    "        coords = [0,lenx],subdom\n",
    "    else:\n",
    "        print 'Change the shape of your data or the number of cores.'\n",
    "    return meshgrid(coords[0],coords[1])\n",
    "test = div2d_mc(12,13,4)\n",
    "\n",
    "for ii in range(1,shape(coord)[0]):\n",
    "    jj=0\n",
    "    #    for jj in range(0,shape(coord)[1]):\n",
    "    print shape(coord)\n",
    "    plot(coord[ii][jj],'or')\n",
    "\n"
   ]
  },
  {
   "cell_type": "code",
   "execution_count": null,
   "metadata": {
    "collapsed": true
   },
   "outputs": [],
   "source": [
    "coord=div2d_mc(shape(S)[2],shape(S)[1],8)\n",
    "coord=div2d_mc(1600,1600,8)\n",
    "print subsec\n",
    "jj=0\n",
    "ii=1\n",
    "\n",
    "for ii in range(1,shape(coord)[0]):\n",
    "    for jj in range(0,shape(coord)[2]):\n",
    "        print shape(coord)\n",
    "        plot(coord[0][:,jj:jj+2],coord[1][:,jj:jj+2],'o')\n",
    "        print coord[0][:,jj:jj+2],coord[1][:,jj:jj+2]"
   ]
  },
  {
   "cell_type": "code",
   "execution_count": null,
   "metadata": {
    "collapsed": true
   },
   "outputs": [],
   "source": [
    "from joblib import Parallel, delayed\n",
    "import multiprocessing\n",
    "import time\n",
    "\n",
    "# what are your inputs, and what operation do you want to \n",
    "# perform on each input. For example...\n",
    "inputs = range(100) \n",
    "def processInput(i):\n",
    "\treturn i ** i * i\n",
    "\n",
    "num_cores = multiprocessing.cpu_count()\n",
    "tic = time.clock()\n",
    "results = Parallel(n_jobs=num_cores)(delayed(processInput)(i) for i in inputs)\n",
    "toc = time.clock()\n",
    "print toc - tic\n",
    "tic = time.clock()\n",
    "print [processInput(i) for i in inputs]\n",
    "toc = time.clock()\n",
    "print toc - tic"
   ]
  },
  {
   "cell_type": "code",
   "execution_count": null,
   "metadata": {
    "collapsed": true
   },
   "outputs": [],
   "source": [
    "import dask.array as da\n",
    "\n",
    "\n",
    "\n",
    "\n",
    "\n",
    "ncfile=Dataset(outputpath+'rregionsouthern_ocean_daily_temp.nc')\n",
    "T=ncfile.variables['temp'][1,:,:,:]\n",
    "print help(da.from_array)\n",
    "x = da.from_array(T[0,0:930,:],chunks=(10,10), lock=True)"
   ]
  },
  {
   "cell_type": "code",
   "execution_count": 3,
   "metadata": {},
   "outputs": [
    {
     "data": {
      "text/plain": [
       "<xarray.Dataset>\n",
       "Dimensions:         (nv: 2, st_edges_ocean: 76, st_ocean: 75, time: 90, xt_ocean_sub01: 3600, yt_ocean_sub01: 931)\n",
       "Coordinates:\n",
       "  * xt_ocean_sub01  (xt_ocean_sub01) float64 -279.9 -279.8 -279.7 -279.6 ...\n",
       "  * yt_ocean_sub01  (yt_ocean_sub01) float64 -81.11 -81.07 -81.02 -80.98 ...\n",
       "  * st_ocean        (st_ocean) float64 0.5413 1.681 2.94 4.332 5.869 7.569 ...\n",
       "  * st_edges_ocean  (st_edges_ocean) float64 0.0 1.083 2.279 3.601 5.062 ...\n",
       "  * time            (time) object   80-01-01 12:00:00   80-01-02 12:00:00 ...\n",
       "  * nv              (nv) float64 1.0 2.0\n",
       "Data variables:\n",
       "    temp            (time, st_ocean, yt_ocean_sub01, xt_ocean_sub01) float64 nan ...\n",
       "    average_T1      (time) object   79-12-13 00:00:00   79-12-14 00:00:00 ...\n",
       "    average_T2      (time) object   79-12-14 00:00:00   79-12-15 00:00:00 ...\n",
       "    average_DT      (time) timedelta64[ns] 1 days 1 days 1 days 1 days ...\n",
       "    time_bounds     (time, nv) timedelta64[ns] 28835 days 28836 days ...\n",
       "Attributes:\n",
       "    filename:   rregionsouthern_ocean_daily_temp.nc\n",
       "    title:      MOM5_CORE_NYF_50lvl_comparison_test\n",
       "    grid_type:  mosaic\n",
       "    grid_tile:  1"
      ]
     },
     "execution_count": 3,
     "metadata": {},
     "output_type": "execute_result"
    }
   ],
   "source": [
    "import dask\n",
    "import xarray as xr\n",
    "outputpath='/g/data/v45/akm157/model_output/mom/mom01v5_kds75/output306/'\n",
    "data = xr.open_dataset(outputpath+'rregionsouthern_ocean_daily_temp.nc', chunks={'xt_ocean_sub01': 10})\n",
    "data\n",
    "#data.temp.values"
   ]
  },
  {
   "cell_type": "code",
   "execution_count": 4,
   "metadata": {},
   "outputs": [
    {
     "ename": "NameError",
     "evalue": "name 'calc_stuff' is not defined",
     "output_type": "error",
     "traceback": [
      "\u001b[0;31m---------------------------------------------------------------------------\u001b[0m",
      "\u001b[0;31mNameError\u001b[0m                                 Traceback (most recent call last)",
      "\u001b[0;32m<ipython-input-4-b4c310d0cb01>\u001b[0m in \u001b[0;36m<module>\u001b[0;34m()\u001b[0m\n\u001b[1;32m      3\u001b[0m \u001b[0;34m\u001b[0m\u001b[0m\n\u001b[1;32m      4\u001b[0m \u001b[0mpool\u001b[0m \u001b[0;34m=\u001b[0m \u001b[0mmultiprocessing\u001b[0m\u001b[0;34m.\u001b[0m\u001b[0mPool\u001b[0m\u001b[0;34m(\u001b[0m\u001b[0;36m4\u001b[0m\u001b[0;34m)\u001b[0m\u001b[0;34m\u001b[0m\u001b[0m\n\u001b[0;32m----> 5\u001b[0;31m \u001b[0mout1\u001b[0m\u001b[0;34m,\u001b[0m \u001b[0mout2\u001b[0m\u001b[0;34m,\u001b[0m \u001b[0mout3\u001b[0m \u001b[0;34m=\u001b[0m \u001b[0mzip\u001b[0m\u001b[0;34m(\u001b[0m\u001b[0;34m*\u001b[0m\u001b[0mpool\u001b[0m\u001b[0;34m.\u001b[0m\u001b[0mmap\u001b[0m\u001b[0;34m(\u001b[0m\u001b[0mcalc_stuff\u001b[0m\u001b[0;34m,\u001b[0m \u001b[0mrange\u001b[0m\u001b[0;34m(\u001b[0m\u001b[0;36m0\u001b[0m\u001b[0;34m,\u001b[0m \u001b[0;36m10\u001b[0m \u001b[0;34m*\u001b[0m \u001b[0moffset\u001b[0m\u001b[0;34m,\u001b[0m \u001b[0moffset\u001b[0m\u001b[0;34m)\u001b[0m\u001b[0;34m)\u001b[0m\u001b[0;34m)\u001b[0m\u001b[0;34m\u001b[0m\u001b[0m\n\u001b[0m",
      "\u001b[0;31mNameError\u001b[0m: name 'calc_stuff' is not defined"
     ]
    }
   ],
   "source": [
    "from joblib import Parallel, delayed\n",
    "import multiprocessing\n",
    "\n",
    "pool = multiprocessing.Pool(4)\n",
    "out1, out2, out3 = zip(*pool.map(calc_stuff, range(0, 10 * offset, offset)))"
   ]
  },
  {
   "cell_type": "code",
   "execution_count": null,
   "metadata": {
    "collapsed": true
   },
   "outputs": [],
   "source": []
  }
 ],
 "metadata": {
  "kernelspec": {
   "display_name": "Python [conda env:analysis27]",
   "language": "python",
   "name": "conda-env-analysis27-py"
  },
  "language_info": {
   "codemirror_mode": {
    "name": "ipython",
    "version": 2
   },
   "file_extension": ".py",
   "mimetype": "text/x-python",
   "name": "python",
   "nbconvert_exporter": "python",
   "pygments_lexer": "ipython2",
   "version": "2.7.13"
  }
 },
 "nbformat": 4,
 "nbformat_minor": 2
}
