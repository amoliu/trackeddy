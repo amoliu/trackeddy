{
 "cells": [
  {
   "cell_type": "code",
   "execution_count": 1,
   "metadata": {
    "collapsed": true
   },
   "outputs": [],
   "source": [
    "import logging\n",
    "logging.captureWarnings(True)\n",
    "logging.getLogger('py.warnings').setLevel(logging.ERROR)"
   ]
  },
  {
   "cell_type": "code",
   "execution_count": 2,
   "metadata": {},
   "outputs": [
    {
     "name": "stdout",
     "output_type": "stream",
     "text": [
      "starting distributed client...\n",
      "<Client: scheduler='tcp://127.0.0.1:40969' processes=8 cores=8>\n"
     ]
    }
   ],
   "source": [
    "import cosima_cookbook as cc\n",
    "import numpy as np\n",
    "import matplotlib.pyplot as plt\n",
    "\n",
    "import pandas as pd\n",
    "import xarray as xr\n",
    "from mpl_toolkits.basemap import Basemap, shiftgrid\n",
    "\n",
    "from tqdm import tqdm_notebook\n",
    "import tqdm"
   ]
  },
  {
   "cell_type": "code",
   "execution_count": 11,
   "metadata": {},
   "outputs": [
    {
     "data": {
      "text/plain": [
       "['access-om2-025/025deg_jra55_ryf',\n",
       " 'access-om2-025/025deg_jra55_ryf_spinup1',\n",
       " 'access-om2-025/025deg_jra55_ryf_spinup2',\n",
       " 'access-om2-025/025deg_jra55_ryf_spinup3',\n",
       " 'access-om2/1deg_jra55_ryf',\n",
       " 'access-om2/1deg_jra55_ryf_spinup1',\n",
       " 'mom01v5/GFDL50',\n",
       " 'mom01v5/KDS75',\n",
       " 'mom01v5/KDS75_PI',\n",
       " 'mom01v5/KDS75_UP',\n",
       " 'mom01v5/KDS75_salt10days',\n",
       " 'mom01v5/KDS75_saltfluxes',\n",
       " 'mom01v5/KDS75_wind',\n",
       " 'mom025/mom025_jra_ryf0304',\n",
       " 'mom025/mom025_jra_ryf8485',\n",
       " 'mom025/mom025_jra_ryf9091',\n",
       " 'mom025/mom025_jra_ryf9091_saltunderice',\n",
       " 'mom025/mom025_nyf',\n",
       " 'mom025/mom025_nyf_salt']"
      ]
     },
     "metadata": {},
     "output_type": "display_data"
    }
   ],
   "source": [
    "configuration = 'mom01v5'\n",
    "expts = cc.expts\n",
    "display(expts)"
   ]
  },
  {
   "cell_type": "code",
   "execution_count": 1,
   "metadata": {},
   "outputs": [
    {
     "name": "stdout",
     "output_type": "stream",
     "text": [
      "starting distributed client...\n",
      "<Client: scheduler='tcp://127.0.0.1:34786' processes=8 cores=8>\n",
      "Searching /g/data3/hh5/tmp/cosima/\n",
      "Searching /g/data1/v45/APE-MOM\n",
      "Found 38641 .nc files\n",
      "Using database sqlite:////g/data1/v45/cosima-cookbook/cosima-cookbook.db\n",
      "Files already indexed: 1440\n",
      "Files found but not yet indexed: 37201\n",
      "Indexing new .nc files...\n",
      "\n",
      "Found 1156541 new variables\n",
      "Saving results in database...\n"
     ]
    },
    {
     "ename": "OperationalError",
     "evalue": "(sqlite3.OperationalError) attempt to write a readonly database [SQL: 'INSERT INTO ncfiles (ncfile, rootdir, configuration, experiment, run, basename, variable, dimensions, chunking) VALUES (?, ?, ?, ?, ?, ?, ?, ?, ?)'] [parameters: (('/g/data3/hh5/tmp/cosima/mom01v5/KDS75_wind/output153/rregionoceankerg__0041_301.nc', '/g/data3/hh5/tmp/cosima', 'mom01v5', 'KDS75_wind', 'output153', 'rregionoceankerg__0041_301.nc', 'xt_ocean_sub01', \"('xt_ocean_sub01',)\", '[3600]'), ('/g/data3/hh5/tmp/cosima/mom01v5/KDS75_wind/output153/rregionoceankerg__0041_301.nc', '/g/data3/hh5/tmp/cosima', 'mom01v5', 'KDS75_wind', 'output153', 'rregionoceankerg__0041_301.nc', 'yt_ocean_sub01', \"('yt_ocean_sub01',)\", '[928]'), ('/g/data3/hh5/tmp/cosima/mom01v5/KDS75_wind/output153/rregionoceankerg__0041_301.nc', '/g/data3/hh5/tmp/cosima', 'mom01v5', 'KDS75_wind', 'output153', 'rregionoceankerg__0041_301.nc', 'time', \"('time',)\", '[1]'), ('/g/data3/hh5/tmp/cosima/mom01v5/KDS75_wind/output153/rregionoceankerg__0041_301.nc', '/g/data3/hh5/tmp/cosima', 'mom01v5', 'KDS75_wind', 'output153', 'rregionoceankerg__0041_301.nc', 'nv', \"('nv',)\", '[2]'), ('/g/data3/hh5/tmp/cosima/mom01v5/KDS75_wind/output153/rregionoceankerg__0041_301.nc', '/g/data3/hh5/tmp/cosima', 'mom01v5', 'KDS75_wind', 'output153', 'rregionoceankerg__0041_301.nc', 'xu_ocean_sub01', \"('xu_ocean_sub01',)\", '[3600]'), ('/g/data3/hh5/tmp/cosima/mom01v5/KDS75_wind/output153/rregionoceankerg__0041_301.nc', '/g/data3/hh5/tmp/cosima', 'mom01v5', 'KDS75_wind', 'output153', 'rregionoceankerg__0041_301.nc', 'yu_ocean_sub01', \"('yu_ocean_sub01',)\", '[928]'), ('/g/data3/hh5/tmp/cosima/mom01v5/KDS75_wind/output153/rregionoceankerg__0041_301.nc', '/g/data3/hh5/tmp/cosima', 'mom01v5', 'KDS75_wind', 'output153', 'rregionoceankerg__0041_301.nc', 'st_ocean', \"('st_ocean',)\", '[75]'), ('/g/data3/hh5/tmp/cosima/mom01v5/KDS75_wind/output153/rregionoceankerg__0041_301.nc', '/g/data3/hh5/tmp/cosima', 'mom01v5', 'KDS75_wind', 'output153', 'rregionoceankerg__0041_301.nc', 'st_edges_ocean', \"('st_edges_ocean',)\", '[76]')  ... displaying 10 of 1000 total bound parameter sets ...  ('/g/data3/hh5/tmp/cosima/access-om2/1deg_jra55_ryf/output099/coupler/rmp_cict_to_jrat_CONSERV.nc', '/g/data3/hh5/tmp/cosima', 'access-om2', '1deg_jra55_ryf', 'output099', 'rmp_cict_to_jrat_CONSERV.nc', 'src_grid_imask', \"('src_grid_size',)\", 'None'), ('/g/data3/hh5/tmp/cosima/access-om2/1deg_jra55_ryf/output099/coupler/rmp_cict_to_jrat_CONSERV.nc', '/g/data3/hh5/tmp/cosima', 'access-om2', '1deg_jra55_ryf', 'output099', 'rmp_cict_to_jrat_CONSERV.nc', 'dst_grid_imask', \"('dst_grid_size',)\", 'None'))]",
     "output_type": "error",
     "traceback": [
      "\u001b[0;31m---------------------------------------------------------------------------\u001b[0m",
      "\u001b[0;31mOperationalError\u001b[0m                          Traceback (most recent call last)",
      "\u001b[0;32m/g/data3/hh5/public/apps/miniconda3/envs/analysis3/lib/python3.6/site-packages/sqlalchemy/engine/base.py\u001b[0m in \u001b[0;36m_execute_context\u001b[0;34m(self, dialect, constructor, statement, parameters, *args)\u001b[0m\n\u001b[1;32m   1158\u001b[0m                         \u001b[0mparameters\u001b[0m\u001b[0;34m,\u001b[0m\u001b[0;34m\u001b[0m\u001b[0m\n\u001b[0;32m-> 1159\u001b[0;31m                         context)\n\u001b[0m\u001b[1;32m   1160\u001b[0m             \u001b[0;32melif\u001b[0m \u001b[0;32mnot\u001b[0m \u001b[0mparameters\u001b[0m \u001b[0;32mand\u001b[0m \u001b[0mcontext\u001b[0m\u001b[0;34m.\u001b[0m\u001b[0mno_parameters\u001b[0m\u001b[0;34m:\u001b[0m\u001b[0;34m\u001b[0m\u001b[0m\n",
      "\u001b[0;32m/g/data3/hh5/public/apps/miniconda3/envs/analysis3/lib/python3.6/site-packages/sqlalchemy/engine/default.py\u001b[0m in \u001b[0;36mdo_executemany\u001b[0;34m(self, cursor, statement, parameters, context)\u001b[0m\n\u001b[1;32m    466\u001b[0m     \u001b[0;32mdef\u001b[0m \u001b[0mdo_executemany\u001b[0m\u001b[0;34m(\u001b[0m\u001b[0mself\u001b[0m\u001b[0;34m,\u001b[0m \u001b[0mcursor\u001b[0m\u001b[0;34m,\u001b[0m \u001b[0mstatement\u001b[0m\u001b[0;34m,\u001b[0m \u001b[0mparameters\u001b[0m\u001b[0;34m,\u001b[0m \u001b[0mcontext\u001b[0m\u001b[0;34m=\u001b[0m\u001b[0;32mNone\u001b[0m\u001b[0;34m)\u001b[0m\u001b[0;34m:\u001b[0m\u001b[0;34m\u001b[0m\u001b[0m\n\u001b[0;32m--> 467\u001b[0;31m         \u001b[0mcursor\u001b[0m\u001b[0;34m.\u001b[0m\u001b[0mexecutemany\u001b[0m\u001b[0;34m(\u001b[0m\u001b[0mstatement\u001b[0m\u001b[0;34m,\u001b[0m \u001b[0mparameters\u001b[0m\u001b[0;34m)\u001b[0m\u001b[0;34m\u001b[0m\u001b[0m\n\u001b[0m\u001b[1;32m    468\u001b[0m \u001b[0;34m\u001b[0m\u001b[0m\n",
      "\u001b[0;31mOperationalError\u001b[0m: attempt to write a readonly database",
      "\nThe above exception was the direct cause of the following exception:\n",
      "\u001b[0;31mOperationalError\u001b[0m                          Traceback (most recent call last)",
      "\u001b[0;32m<ipython-input-1-46b21354dc24>\u001b[0m in \u001b[0;36m<module>\u001b[0;34m()\u001b[0m\n\u001b[1;32m      6\u001b[0m \u001b[0;32mimport\u001b[0m \u001b[0mnumpy\u001b[0m \u001b[0;32mas\u001b[0m \u001b[0mnp\u001b[0m\u001b[0;34m\u001b[0m\u001b[0m\n\u001b[1;32m      7\u001b[0m \u001b[0;34m\u001b[0m\u001b[0m\n\u001b[0;32m----> 8\u001b[0;31m \u001b[0mbuild_index\u001b[0m\u001b[0;34m(\u001b[0m\u001b[0;34m)\u001b[0m\u001b[0;34m\u001b[0m\u001b[0m\n\u001b[0m\u001b[1;32m      9\u001b[0m \u001b[0;34m\u001b[0m\u001b[0m\n\u001b[1;32m     10\u001b[0m \u001b[0mconfiguration\u001b[0m \u001b[0;34m=\u001b[0m \u001b[0;34m'mom01v5'\u001b[0m\u001b[0;34m\u001b[0m\u001b[0m\n",
      "\u001b[0;32m~/notebooks/cosima-cookbook/cosima_cookbook/netcdf_index.py\u001b[0m in \u001b[0;36mbuild_index\u001b[0;34m()\u001b[0m\n\u001b[1;32m    111\u001b[0m \u001b[0;34m\u001b[0m\u001b[0m\n\u001b[1;32m    112\u001b[0m     \u001b[0mprint\u001b[0m\u001b[0;34m(\u001b[0m\u001b[0;34m'Saving results in database...'\u001b[0m\u001b[0;34m)\u001b[0m\u001b[0;34m\u001b[0m\u001b[0m\n\u001b[0;32m--> 113\u001b[0;31m     \u001b[0mdb\u001b[0m\u001b[0;34m[\u001b[0m\u001b[0;34m'ncfiles'\u001b[0m\u001b[0;34m]\u001b[0m\u001b[0;34m.\u001b[0m\u001b[0minsert_many\u001b[0m\u001b[0;34m(\u001b[0m\u001b[0mncvars\u001b[0m\u001b[0;34m)\u001b[0m\u001b[0;34m\u001b[0m\u001b[0m\n\u001b[0m\u001b[1;32m    114\u001b[0m \u001b[0;34m\u001b[0m\u001b[0m\n\u001b[1;32m    115\u001b[0m     \u001b[0mprint\u001b[0m\u001b[0;34m(\u001b[0m\u001b[0;34m'Indexing complete.'\u001b[0m\u001b[0;34m)\u001b[0m\u001b[0;34m\u001b[0m\u001b[0m\n",
      "\u001b[0;32m/g/data3/hh5/public/apps/miniconda3/envs/analysis3/lib/python3.6/site-packages/dataset/persistence/table.py\u001b[0m in \u001b[0;36minsert_many\u001b[0;34m(self, rows, chunk_size, ensure, types)\u001b[0m\n\u001b[1;32m    144\u001b[0m             \u001b[0mchunk\u001b[0m\u001b[0;34m.\u001b[0m\u001b[0mappend\u001b[0m\u001b[0;34m(\u001b[0m\u001b[0mrow\u001b[0m\u001b[0;34m)\u001b[0m\u001b[0;34m\u001b[0m\u001b[0m\n\u001b[1;32m    145\u001b[0m             \u001b[0;32mif\u001b[0m \u001b[0mi\u001b[0m \u001b[0;34m%\u001b[0m \u001b[0mchunk_size\u001b[0m \u001b[0;34m==\u001b[0m \u001b[0;36m0\u001b[0m\u001b[0;34m:\u001b[0m\u001b[0;34m\u001b[0m\u001b[0m\n\u001b[0;32m--> 146\u001b[0;31m                 \u001b[0m_process_chunk\u001b[0m\u001b[0;34m(\u001b[0m\u001b[0mchunk\u001b[0m\u001b[0;34m)\u001b[0m\u001b[0;34m\u001b[0m\u001b[0m\n\u001b[0m\u001b[1;32m    147\u001b[0m                 \u001b[0mchunk\u001b[0m \u001b[0;34m=\u001b[0m \u001b[0;34m[\u001b[0m\u001b[0;34m]\u001b[0m\u001b[0;34m\u001b[0m\u001b[0m\n\u001b[1;32m    148\u001b[0m \u001b[0;34m\u001b[0m\u001b[0m\n",
      "\u001b[0;32m/g/data3/hh5/public/apps/miniconda3/envs/analysis3/lib/python3.6/site-packages/dataset/persistence/table.py\u001b[0m in \u001b[0;36m_process_chunk\u001b[0;34m(chunk)\u001b[0m\n\u001b[1;32m    137\u001b[0m             \u001b[0;32melse\u001b[0m\u001b[0;34m:\u001b[0m\u001b[0;34m\u001b[0m\u001b[0m\n\u001b[1;32m    138\u001b[0m                 \u001b[0mchunk\u001b[0m \u001b[0;34m=\u001b[0m \u001b[0;34m[\u001b[0m\u001b[0mself\u001b[0m\u001b[0;34m.\u001b[0m\u001b[0m_prune_row\u001b[0m\u001b[0;34m(\u001b[0m\u001b[0mr\u001b[0m\u001b[0;34m)\u001b[0m \u001b[0;32mfor\u001b[0m \u001b[0mr\u001b[0m \u001b[0;32min\u001b[0m \u001b[0mchunk\u001b[0m\u001b[0;34m]\u001b[0m\u001b[0;34m\u001b[0m\u001b[0m\n\u001b[0;32m--> 139\u001b[0;31m             \u001b[0mself\u001b[0m\u001b[0;34m.\u001b[0m\u001b[0mtable\u001b[0m\u001b[0;34m.\u001b[0m\u001b[0minsert\u001b[0m\u001b[0;34m(\u001b[0m\u001b[0;34m)\u001b[0m\u001b[0;34m.\u001b[0m\u001b[0mexecute\u001b[0m\u001b[0;34m(\u001b[0m\u001b[0mchunk\u001b[0m\u001b[0;34m)\u001b[0m\u001b[0;34m\u001b[0m\u001b[0m\n\u001b[0m\u001b[1;32m    140\u001b[0m         \u001b[0mself\u001b[0m\u001b[0;34m.\u001b[0m\u001b[0m_check_dropped\u001b[0m\u001b[0;34m(\u001b[0m\u001b[0;34m)\u001b[0m\u001b[0;34m\u001b[0m\u001b[0m\n\u001b[1;32m    141\u001b[0m \u001b[0;34m\u001b[0m\u001b[0m\n",
      "\u001b[0;32m/g/data3/hh5/public/apps/miniconda3/envs/analysis3/lib/python3.6/site-packages/sqlalchemy/sql/base.py\u001b[0m in \u001b[0;36mexecute\u001b[0;34m(self, *multiparams, **params)\u001b[0m\n\u001b[1;32m    384\u001b[0m                    'to execute this construct.' % label)\n\u001b[1;32m    385\u001b[0m             \u001b[0;32mraise\u001b[0m \u001b[0mexc\u001b[0m\u001b[0;34m.\u001b[0m\u001b[0mUnboundExecutionError\u001b[0m\u001b[0;34m(\u001b[0m\u001b[0mmsg\u001b[0m\u001b[0;34m)\u001b[0m\u001b[0;34m\u001b[0m\u001b[0m\n\u001b[0;32m--> 386\u001b[0;31m         \u001b[0;32mreturn\u001b[0m \u001b[0me\u001b[0m\u001b[0;34m.\u001b[0m\u001b[0m_execute_clauseelement\u001b[0m\u001b[0;34m(\u001b[0m\u001b[0mself\u001b[0m\u001b[0;34m,\u001b[0m \u001b[0mmultiparams\u001b[0m\u001b[0;34m,\u001b[0m \u001b[0mparams\u001b[0m\u001b[0;34m)\u001b[0m\u001b[0;34m\u001b[0m\u001b[0m\n\u001b[0m\u001b[1;32m    387\u001b[0m \u001b[0;34m\u001b[0m\u001b[0m\n\u001b[1;32m    388\u001b[0m     \u001b[0;32mdef\u001b[0m \u001b[0mscalar\u001b[0m\u001b[0;34m(\u001b[0m\u001b[0mself\u001b[0m\u001b[0;34m,\u001b[0m \u001b[0;34m*\u001b[0m\u001b[0mmultiparams\u001b[0m\u001b[0;34m,\u001b[0m \u001b[0;34m**\u001b[0m\u001b[0mparams\u001b[0m\u001b[0;34m)\u001b[0m\u001b[0;34m:\u001b[0m\u001b[0;34m\u001b[0m\u001b[0m\n",
      "\u001b[0;32m/g/data3/hh5/public/apps/miniconda3/envs/analysis3/lib/python3.6/site-packages/sqlalchemy/engine/base.py\u001b[0m in \u001b[0;36m_execute_clauseelement\u001b[0;34m(self, elem, multiparams, params)\u001b[0m\n\u001b[1;32m   2069\u001b[0m     \u001b[0;32mdef\u001b[0m \u001b[0m_execute_clauseelement\u001b[0m\u001b[0;34m(\u001b[0m\u001b[0mself\u001b[0m\u001b[0;34m,\u001b[0m \u001b[0melem\u001b[0m\u001b[0;34m,\u001b[0m \u001b[0mmultiparams\u001b[0m\u001b[0;34m=\u001b[0m\u001b[0;32mNone\u001b[0m\u001b[0;34m,\u001b[0m \u001b[0mparams\u001b[0m\u001b[0;34m=\u001b[0m\u001b[0;32mNone\u001b[0m\u001b[0;34m)\u001b[0m\u001b[0;34m:\u001b[0m\u001b[0;34m\u001b[0m\u001b[0m\n\u001b[1;32m   2070\u001b[0m         \u001b[0mconnection\u001b[0m \u001b[0;34m=\u001b[0m \u001b[0mself\u001b[0m\u001b[0;34m.\u001b[0m\u001b[0mcontextual_connect\u001b[0m\u001b[0;34m(\u001b[0m\u001b[0mclose_with_result\u001b[0m\u001b[0;34m=\u001b[0m\u001b[0;32mTrue\u001b[0m\u001b[0;34m)\u001b[0m\u001b[0;34m\u001b[0m\u001b[0m\n\u001b[0;32m-> 2071\u001b[0;31m         \u001b[0;32mreturn\u001b[0m \u001b[0mconnection\u001b[0m\u001b[0;34m.\u001b[0m\u001b[0m_execute_clauseelement\u001b[0m\u001b[0;34m(\u001b[0m\u001b[0melem\u001b[0m\u001b[0;34m,\u001b[0m \u001b[0mmultiparams\u001b[0m\u001b[0;34m,\u001b[0m \u001b[0mparams\u001b[0m\u001b[0;34m)\u001b[0m\u001b[0;34m\u001b[0m\u001b[0m\n\u001b[0m\u001b[1;32m   2072\u001b[0m \u001b[0;34m\u001b[0m\u001b[0m\n\u001b[1;32m   2073\u001b[0m     \u001b[0;32mdef\u001b[0m \u001b[0m_execute_compiled\u001b[0m\u001b[0;34m(\u001b[0m\u001b[0mself\u001b[0m\u001b[0;34m,\u001b[0m \u001b[0mcompiled\u001b[0m\u001b[0;34m,\u001b[0m \u001b[0mmultiparams\u001b[0m\u001b[0;34m,\u001b[0m \u001b[0mparams\u001b[0m\u001b[0;34m)\u001b[0m\u001b[0;34m:\u001b[0m\u001b[0;34m\u001b[0m\u001b[0m\n",
      "\u001b[0;32m/g/data3/hh5/public/apps/miniconda3/envs/analysis3/lib/python3.6/site-packages/sqlalchemy/engine/base.py\u001b[0m in \u001b[0;36m_execute_clauseelement\u001b[0;34m(self, elem, multiparams, params)\u001b[0m\n\u001b[1;32m   1051\u001b[0m             \u001b[0mcompiled_sql\u001b[0m\u001b[0;34m,\u001b[0m\u001b[0;34m\u001b[0m\u001b[0m\n\u001b[1;32m   1052\u001b[0m             \u001b[0mdistilled_params\u001b[0m\u001b[0;34m,\u001b[0m\u001b[0;34m\u001b[0m\u001b[0m\n\u001b[0;32m-> 1053\u001b[0;31m             \u001b[0mcompiled_sql\u001b[0m\u001b[0;34m,\u001b[0m \u001b[0mdistilled_params\u001b[0m\u001b[0;34m\u001b[0m\u001b[0m\n\u001b[0m\u001b[1;32m   1054\u001b[0m         )\n\u001b[1;32m   1055\u001b[0m         \u001b[0;32mif\u001b[0m \u001b[0mself\u001b[0m\u001b[0;34m.\u001b[0m\u001b[0m_has_events\u001b[0m \u001b[0;32mor\u001b[0m \u001b[0mself\u001b[0m\u001b[0;34m.\u001b[0m\u001b[0mengine\u001b[0m\u001b[0;34m.\u001b[0m\u001b[0m_has_events\u001b[0m\u001b[0;34m:\u001b[0m\u001b[0;34m\u001b[0m\u001b[0m\n",
      "\u001b[0;32m/g/data3/hh5/public/apps/miniconda3/envs/analysis3/lib/python3.6/site-packages/sqlalchemy/engine/base.py\u001b[0m in \u001b[0;36m_execute_context\u001b[0;34m(self, dialect, constructor, statement, parameters, *args)\u001b[0m\n\u001b[1;32m   1187\u001b[0m                 \u001b[0mparameters\u001b[0m\u001b[0;34m,\u001b[0m\u001b[0;34m\u001b[0m\u001b[0m\n\u001b[1;32m   1188\u001b[0m                 \u001b[0mcursor\u001b[0m\u001b[0;34m,\u001b[0m\u001b[0;34m\u001b[0m\u001b[0m\n\u001b[0;32m-> 1189\u001b[0;31m                 context)\n\u001b[0m\u001b[1;32m   1190\u001b[0m \u001b[0;34m\u001b[0m\u001b[0m\n\u001b[1;32m   1191\u001b[0m         \u001b[0;32mif\u001b[0m \u001b[0mself\u001b[0m\u001b[0;34m.\u001b[0m\u001b[0m_has_events\u001b[0m \u001b[0;32mor\u001b[0m \u001b[0mself\u001b[0m\u001b[0;34m.\u001b[0m\u001b[0mengine\u001b[0m\u001b[0;34m.\u001b[0m\u001b[0m_has_events\u001b[0m\u001b[0;34m:\u001b[0m\u001b[0;34m\u001b[0m\u001b[0m\n",
      "\u001b[0;32m/g/data3/hh5/public/apps/miniconda3/envs/analysis3/lib/python3.6/site-packages/sqlalchemy/engine/base.py\u001b[0m in \u001b[0;36m_handle_dbapi_exception\u001b[0;34m(self, e, statement, parameters, cursor, context)\u001b[0m\n\u001b[1;32m   1400\u001b[0m                 util.raise_from_cause(\n\u001b[1;32m   1401\u001b[0m                     \u001b[0msqlalchemy_exception\u001b[0m\u001b[0;34m,\u001b[0m\u001b[0;34m\u001b[0m\u001b[0m\n\u001b[0;32m-> 1402\u001b[0;31m                     \u001b[0mexc_info\u001b[0m\u001b[0;34m\u001b[0m\u001b[0m\n\u001b[0m\u001b[1;32m   1403\u001b[0m                 )\n\u001b[1;32m   1404\u001b[0m             \u001b[0;32melse\u001b[0m\u001b[0;34m:\u001b[0m\u001b[0;34m\u001b[0m\u001b[0m\n",
      "\u001b[0;32m/g/data3/hh5/public/apps/miniconda3/envs/analysis3/lib/python3.6/site-packages/sqlalchemy/util/compat.py\u001b[0m in \u001b[0;36mraise_from_cause\u001b[0;34m(exception, exc_info)\u001b[0m\n\u001b[1;32m    201\u001b[0m     \u001b[0mexc_type\u001b[0m\u001b[0;34m,\u001b[0m \u001b[0mexc_value\u001b[0m\u001b[0;34m,\u001b[0m \u001b[0mexc_tb\u001b[0m \u001b[0;34m=\u001b[0m \u001b[0mexc_info\u001b[0m\u001b[0;34m\u001b[0m\u001b[0m\n\u001b[1;32m    202\u001b[0m     \u001b[0mcause\u001b[0m \u001b[0;34m=\u001b[0m \u001b[0mexc_value\u001b[0m \u001b[0;32mif\u001b[0m \u001b[0mexc_value\u001b[0m \u001b[0;32mis\u001b[0m \u001b[0;32mnot\u001b[0m \u001b[0mexception\u001b[0m \u001b[0;32melse\u001b[0m \u001b[0;32mNone\u001b[0m\u001b[0;34m\u001b[0m\u001b[0m\n\u001b[0;32m--> 203\u001b[0;31m     \u001b[0mreraise\u001b[0m\u001b[0;34m(\u001b[0m\u001b[0mtype\u001b[0m\u001b[0;34m(\u001b[0m\u001b[0mexception\u001b[0m\u001b[0;34m)\u001b[0m\u001b[0;34m,\u001b[0m \u001b[0mexception\u001b[0m\u001b[0;34m,\u001b[0m \u001b[0mtb\u001b[0m\u001b[0;34m=\u001b[0m\u001b[0mexc_tb\u001b[0m\u001b[0;34m,\u001b[0m \u001b[0mcause\u001b[0m\u001b[0;34m=\u001b[0m\u001b[0mcause\u001b[0m\u001b[0;34m)\u001b[0m\u001b[0;34m\u001b[0m\u001b[0m\n\u001b[0m\u001b[1;32m    204\u001b[0m \u001b[0;34m\u001b[0m\u001b[0m\n\u001b[1;32m    205\u001b[0m \u001b[0;32mif\u001b[0m \u001b[0mpy3k\u001b[0m\u001b[0;34m:\u001b[0m\u001b[0;34m\u001b[0m\u001b[0m\n",
      "\u001b[0;32m/g/data3/hh5/public/apps/miniconda3/envs/analysis3/lib/python3.6/site-packages/sqlalchemy/util/compat.py\u001b[0m in \u001b[0;36mreraise\u001b[0;34m(tp, value, tb, cause)\u001b[0m\n\u001b[1;32m    184\u001b[0m             \u001b[0mvalue\u001b[0m\u001b[0;34m.\u001b[0m\u001b[0m__cause__\u001b[0m \u001b[0;34m=\u001b[0m \u001b[0mcause\u001b[0m\u001b[0;34m\u001b[0m\u001b[0m\n\u001b[1;32m    185\u001b[0m         \u001b[0;32mif\u001b[0m \u001b[0mvalue\u001b[0m\u001b[0;34m.\u001b[0m\u001b[0m__traceback__\u001b[0m \u001b[0;32mis\u001b[0m \u001b[0;32mnot\u001b[0m \u001b[0mtb\u001b[0m\u001b[0;34m:\u001b[0m\u001b[0;34m\u001b[0m\u001b[0m\n\u001b[0;32m--> 186\u001b[0;31m             \u001b[0;32mraise\u001b[0m \u001b[0mvalue\u001b[0m\u001b[0;34m.\u001b[0m\u001b[0mwith_traceback\u001b[0m\u001b[0;34m(\u001b[0m\u001b[0mtb\u001b[0m\u001b[0;34m)\u001b[0m\u001b[0;34m\u001b[0m\u001b[0m\n\u001b[0m\u001b[1;32m    187\u001b[0m         \u001b[0;32mraise\u001b[0m \u001b[0mvalue\u001b[0m\u001b[0;34m\u001b[0m\u001b[0m\n\u001b[1;32m    188\u001b[0m \u001b[0;34m\u001b[0m\u001b[0m\n",
      "\u001b[0;32m/g/data3/hh5/public/apps/miniconda3/envs/analysis3/lib/python3.6/site-packages/sqlalchemy/engine/base.py\u001b[0m in \u001b[0;36m_execute_context\u001b[0;34m(self, dialect, constructor, statement, parameters, *args)\u001b[0m\n\u001b[1;32m   1157\u001b[0m                         \u001b[0mstatement\u001b[0m\u001b[0;34m,\u001b[0m\u001b[0;34m\u001b[0m\u001b[0m\n\u001b[1;32m   1158\u001b[0m                         \u001b[0mparameters\u001b[0m\u001b[0;34m,\u001b[0m\u001b[0;34m\u001b[0m\u001b[0m\n\u001b[0;32m-> 1159\u001b[0;31m                         context)\n\u001b[0m\u001b[1;32m   1160\u001b[0m             \u001b[0;32melif\u001b[0m \u001b[0;32mnot\u001b[0m \u001b[0mparameters\u001b[0m \u001b[0;32mand\u001b[0m \u001b[0mcontext\u001b[0m\u001b[0;34m.\u001b[0m\u001b[0mno_parameters\u001b[0m\u001b[0;34m:\u001b[0m\u001b[0;34m\u001b[0m\u001b[0m\n\u001b[1;32m   1161\u001b[0m                 \u001b[0;32mif\u001b[0m \u001b[0mself\u001b[0m\u001b[0;34m.\u001b[0m\u001b[0mdialect\u001b[0m\u001b[0;34m.\u001b[0m\u001b[0m_has_events\u001b[0m\u001b[0;34m:\u001b[0m\u001b[0;34m\u001b[0m\u001b[0m\n",
      "\u001b[0;32m/g/data3/hh5/public/apps/miniconda3/envs/analysis3/lib/python3.6/site-packages/sqlalchemy/engine/default.py\u001b[0m in \u001b[0;36mdo_executemany\u001b[0;34m(self, cursor, statement, parameters, context)\u001b[0m\n\u001b[1;32m    465\u001b[0m \u001b[0;34m\u001b[0m\u001b[0m\n\u001b[1;32m    466\u001b[0m     \u001b[0;32mdef\u001b[0m \u001b[0mdo_executemany\u001b[0m\u001b[0;34m(\u001b[0m\u001b[0mself\u001b[0m\u001b[0;34m,\u001b[0m \u001b[0mcursor\u001b[0m\u001b[0;34m,\u001b[0m \u001b[0mstatement\u001b[0m\u001b[0;34m,\u001b[0m \u001b[0mparameters\u001b[0m\u001b[0;34m,\u001b[0m \u001b[0mcontext\u001b[0m\u001b[0;34m=\u001b[0m\u001b[0;32mNone\u001b[0m\u001b[0;34m)\u001b[0m\u001b[0;34m:\u001b[0m\u001b[0;34m\u001b[0m\u001b[0m\n\u001b[0;32m--> 467\u001b[0;31m         \u001b[0mcursor\u001b[0m\u001b[0;34m.\u001b[0m\u001b[0mexecutemany\u001b[0m\u001b[0;34m(\u001b[0m\u001b[0mstatement\u001b[0m\u001b[0;34m,\u001b[0m \u001b[0mparameters\u001b[0m\u001b[0;34m)\u001b[0m\u001b[0;34m\u001b[0m\u001b[0m\n\u001b[0m\u001b[1;32m    468\u001b[0m \u001b[0;34m\u001b[0m\u001b[0m\n\u001b[1;32m    469\u001b[0m     \u001b[0;32mdef\u001b[0m \u001b[0mdo_execute\u001b[0m\u001b[0;34m(\u001b[0m\u001b[0mself\u001b[0m\u001b[0;34m,\u001b[0m \u001b[0mcursor\u001b[0m\u001b[0;34m,\u001b[0m \u001b[0mstatement\u001b[0m\u001b[0;34m,\u001b[0m \u001b[0mparameters\u001b[0m\u001b[0;34m,\u001b[0m \u001b[0mcontext\u001b[0m\u001b[0;34m=\u001b[0m\u001b[0;32mNone\u001b[0m\u001b[0;34m)\u001b[0m\u001b[0;34m:\u001b[0m\u001b[0;34m\u001b[0m\u001b[0m\n",
      "\u001b[0;31mOperationalError\u001b[0m: (sqlite3.OperationalError) attempt to write a readonly database [SQL: 'INSERT INTO ncfiles (ncfile, rootdir, configuration, experiment, run, basename, variable, dimensions, chunking) VALUES (?, ?, ?, ?, ?, ?, ?, ?, ?)'] [parameters: (('/g/data3/hh5/tmp/cosima/mom01v5/KDS75_wind/output153/rregionoceankerg__0041_301.nc', '/g/data3/hh5/tmp/cosima', 'mom01v5', 'KDS75_wind', 'output153', 'rregionoceankerg__0041_301.nc', 'xt_ocean_sub01', \"('xt_ocean_sub01',)\", '[3600]'), ('/g/data3/hh5/tmp/cosima/mom01v5/KDS75_wind/output153/rregionoceankerg__0041_301.nc', '/g/data3/hh5/tmp/cosima', 'mom01v5', 'KDS75_wind', 'output153', 'rregionoceankerg__0041_301.nc', 'yt_ocean_sub01', \"('yt_ocean_sub01',)\", '[928]'), ('/g/data3/hh5/tmp/cosima/mom01v5/KDS75_wind/output153/rregionoceankerg__0041_301.nc', '/g/data3/hh5/tmp/cosima', 'mom01v5', 'KDS75_wind', 'output153', 'rregionoceankerg__0041_301.nc', 'time', \"('time',)\", '[1]'), ('/g/data3/hh5/tmp/cosima/mom01v5/KDS75_wind/output153/rregionoceankerg__0041_301.nc', '/g/data3/hh5/tmp/cosima', 'mom01v5', 'KDS75_wind', 'output153', 'rregionoceankerg__0041_301.nc', 'nv', \"('nv',)\", '[2]'), ('/g/data3/hh5/tmp/cosima/mom01v5/KDS75_wind/output153/rregionoceankerg__0041_301.nc', '/g/data3/hh5/tmp/cosima', 'mom01v5', 'KDS75_wind', 'output153', 'rregionoceankerg__0041_301.nc', 'xu_ocean_sub01', \"('xu_ocean_sub01',)\", '[3600]'), ('/g/data3/hh5/tmp/cosima/mom01v5/KDS75_wind/output153/rregionoceankerg__0041_301.nc', '/g/data3/hh5/tmp/cosima', 'mom01v5', 'KDS75_wind', 'output153', 'rregionoceankerg__0041_301.nc', 'yu_ocean_sub01', \"('yu_ocean_sub01',)\", '[928]'), ('/g/data3/hh5/tmp/cosima/mom01v5/KDS75_wind/output153/rregionoceankerg__0041_301.nc', '/g/data3/hh5/tmp/cosima', 'mom01v5', 'KDS75_wind', 'output153', 'rregionoceankerg__0041_301.nc', 'st_ocean', \"('st_ocean',)\", '[75]'), ('/g/data3/hh5/tmp/cosima/mom01v5/KDS75_wind/output153/rregionoceankerg__0041_301.nc', '/g/data3/hh5/tmp/cosima', 'mom01v5', 'KDS75_wind', 'output153', 'rregionoceankerg__0041_301.nc', 'st_edges_ocean', \"('st_edges_ocean',)\", '[76]')  ... displaying 10 of 1000 total bound parameter sets ...  ('/g/data3/hh5/tmp/cosima/access-om2/1deg_jra55_ryf/output099/coupler/rmp_cict_to_jrat_CONSERV.nc', '/g/data3/hh5/tmp/cosima', 'access-om2', '1deg_jra55_ryf', 'output099', 'rmp_cict_to_jrat_CONSERV.nc', 'src_grid_imask', \"('src_grid_size',)\", 'None'), ('/g/data3/hh5/tmp/cosima/access-om2/1deg_jra55_ryf/output099/coupler/rmp_cict_to_jrat_CONSERV.nc', '/g/data3/hh5/tmp/cosima', 'access-om2', '1deg_jra55_ryf', 'output099', 'rmp_cict_to_jrat_CONSERV.nc', 'dst_grid_imask', \"('dst_grid_size',)\", 'None'))]"
     ]
    }
   ],
   "source": [
    "%matplotlib inline\n",
    "\n",
    "from cosima_cookbook import build_index, get_nc_variable, memory\n",
    "import matplotlib.pyplot as plt\n",
    "import xarray as xr\n",
    "import numpy as np\n",
    "\n",
    "build_index()\n",
    "\n",
    "configuration = 'mom01v5'\n",
    "\n",
    "expts = cc.get_experiments(configuration)\n",
    "display(expts)"
   ]
  },
  {
   "cell_type": "code",
   "execution_count": 22,
   "metadata": {},
   "outputs": [
    {
     "name": "stdout",
     "output_type": "stream",
     "text": [
      "Using 100 ncfiles\n",
      "chunking info ('time', 'yt_ocean', 'xt_ocean') [1, 540, 720]\n",
      "<xarray.DataArray 'xt_ocean' (xt_ocean: 1440)>\n",
      "array([-279.875, -279.625, -279.375, ...,   79.375,   79.625,   79.875])\n",
      "Coordinates:\n",
      "  * xt_ocean  (xt_ocean) float64 -279.9 -279.6 -279.4 -279.1 -278.9 -278.6 ...\n",
      "Attributes:\n",
      "    long_name:       tcell longitude\n",
      "    units:           degrees_E\n",
      "    cartesian_axis:  X\n"
     ]
    }
   ],
   "source": [
    "#!ls /g/data3/hh5/tmp/cosima/mom025/mom025_nyf/output000\n",
    "#!ncdump -h /g/data3/hh5/tmp/cosima/mom025/mom025_nyf/output000/ocean_month.nc\n",
    "\n",
    "\n",
    "\n",
    "ssh=get_nc_variable(expts[0],'ocean_month.nc','sea_level',n=500).isel(st_ocean=0)\n",
    "ssh_mean=ssh.mean('time')"
   ]
  },
  {
   "cell_type": "code",
   "execution_count": 70,
   "metadata": {},
   "outputs": [
    {
     "name": "stdout",
     "output_type": "stream",
     "text": [
      "['T', '_DataArray__default', '_DataArray__default_name', '_DataArray__this_array', '__abs__', '__add__', '__and__', '__array__', '__array_priority__', '__array_wrap__', '__bool__', '__class__', '__complex__', '__contains__', '__copy__', '__deepcopy__', '__delattr__', '__delitem__', '__dict__', '__dir__', '__div__', '__doc__', '__enter__', '__eq__', '__exit__', '__float__', '__floordiv__', '__format__', '__ge__', '__getattr__', '__getattribute__', '__getitem__', '__gt__', '__hash__', '__iadd__', '__iand__', '__ifloordiv__', '__imod__', '__imul__', '__init__', '__init_subclass__', '__int__', '__invert__', '__ior__', '__ipow__', '__isub__', '__iter__', '__itruediv__', '__ixor__', '__le__', '__len__', '__long__', '__lt__', '__mod__', '__module__', '__mul__', '__ne__', '__neg__', '__new__', '__nonzero__', '__or__', '__pos__', '__pow__', '__radd__', '__rand__', '__reduce__', '__reduce_ex__', '__repr__', '__rfloordiv__', '__rmod__', '__rmul__', '__ror__', '__rpow__', '__rsub__', '__rtruediv__', '__rxor__', '__setattr__', '__setitem__', '__sizeof__', '__slotnames__', '__str__', '__sub__', '__subclasshook__', '__truediv__', '__weakref__', '__xor__', '_all_compat', '_attr_sources', '_binary_op', '_calc_assign_results', '_copy_attrs_from', '_cum_extra_args_docstring', '_from_temp_dataset', '_get_axis_num', '_getitem_coord', '_groupby_cls', '_in_memory', '_initialized', '_inplace_binary_op', '_item_key_to_dict', '_iter', '_level_coords', '_reduce_extra_args_docstring', '_reduce_method', '_replace', '_replace_indexes', '_replace_maybe_drop_dims', '_result_name', '_rolling_cls', '_title_for_slice', '_to_dataset_split', '_to_dataset_whole', '_to_temp_dataset', '_unary_op', '_where', 'all', 'any', 'argmax', 'argmin', 'argsort', 'assign_attrs', 'assign_coords', 'astype', 'attrs', 'broadcast_equals', 'chunk', 'chunks', 'clip', 'close', 'combine_first', 'compute', 'conj', 'conjugate', 'coords', 'copy', 'count', 'cumprod', 'cumsum', 'data', 'diff', 'dims', 'dot', 'drop', 'dropna', 'dt', 'dtype', 'encoding', 'equals', 'expand_dims', 'fillna', 'from_cdms2', 'from_dict', 'from_series', 'get_axis_num', 'get_index', 'groupby', 'groupby_bins', 'identical', 'imag', 'indexes', 'isel', 'isel_points', 'isnull', 'item', 'load', 'loc', 'max', 'mean', 'median', 'min', 'name', 'nbytes', 'ndim', 'notnull', 'persist', 'pipe', 'plot', 'prod', 'quantile', 'real', 'reduce', 'reindex', 'reindex_like', 'rename', 'reorder_levels', 'resample', 'reset_coords', 'reset_index', 'roll', 'rolling', 'round', 'searchsorted', 'sel', 'sel_points', 'set_index', 'shape', 'shift', 'size', 'sizes', 'sortby', 'squeeze', 'stack', 'std', 'sum', 'swap_dims', 'to_cdms2', 'to_dataframe', 'to_dataset', 'to_dict', 'to_index', 'to_masked_array', 'to_netcdf', 'to_pandas', 'to_series', 'transpose', 'unstack', 'values', 'var', 'variable', 'where', 'xt_ocean', 'yt_ocean']\n"
     ]
    }
   ],
   "source": [
    "print(dir(ssh_mean))\n",
    "sshmean=ssh_mean[:,:]"
   ]
  },
  {
   "cell_type": "code",
   "execution_count": 72,
   "metadata": {},
   "outputs": [
    {
     "name": "stdout",
     "output_type": "stream",
     "text": [
      "<xarray.DataArray 'sea_level' (yt_ocean: 1080, xt_ocean: 1440)>\n",
      "dask.array<mean_agg-aggregate, shape=(1080, 1440), dtype=float64, chunksize=(540, 720)>\n",
      "Coordinates:\n",
      "  * xt_ocean  (xt_ocean) float64 -279.9 -279.6 -279.4 -279.1 -278.9 -278.6 ...\n",
      "  * yt_ocean  (yt_ocean) float64 -81.08 -80.97 -80.87 -80.76 -80.65 -80.55 ...\n"
     ]
    }
   ],
   "source": [
    "print(sshmean)"
   ]
  },
  {
   "cell_type": "code",
   "execution_count": 74,
   "metadata": {},
   "outputs": [
    {
     "ename": "NameError",
     "evalue": "name 'vargeonc' is not defined",
     "output_type": "error",
     "traceback": [
      "\u001b[0;31m---------------------------------------------------------------------------\u001b[0m",
      "\u001b[0;31mNameError\u001b[0m                                 Traceback (most recent call last)",
      "\u001b[0;32m<ipython-input-74-68d68f4db53d>\u001b[0m in \u001b[0;36m<module>\u001b[0;34m()\u001b[0m\n\u001b[1;32m      8\u001b[0m \u001b[0mnc_description\u001b[0m\u001b[0;34m=\u001b[0m\u001b[0;34m'SSH mean of the Ocean over ? years'\u001b[0m\u001b[0;34m\u001b[0m\u001b[0m\n\u001b[1;32m      9\u001b[0m \u001b[0mdim\u001b[0m\u001b[0;34m=\u001b[0m\u001b[0;34m'2D'\u001b[0m\u001b[0;34m\u001b[0m\u001b[0m\n\u001b[0;32m---> 10\u001b[0;31m \u001b[0mvargeonc\u001b[0m\u001b[0;34m(\u001b[0m\u001b[0mfilename\u001b[0m\u001b[0;34m,\u001b[0m\u001b[0mlat\u001b[0m\u001b[0;34m,\u001b[0m\u001b[0mlon\u001b[0m\u001b[0;34m,\u001b[0m\u001b[0mvar\u001b[0m\u001b[0;34m,\u001b[0m\u001b[0;36m0\u001b[0m\u001b[0;34m,\u001b[0m\u001b[0mvarname\u001b[0m\u001b[0;34m,\u001b[0m\u001b[0mnc_description\u001b[0m\u001b[0;34m=\u001b[0m\u001b[0mnc_description\u001b[0m\u001b[0;34m,\u001b[0m\u001b[0munits\u001b[0m\u001b[0;34m=\u001b[0m\u001b[0munits\u001b[0m\u001b[0;34m,\u001b[0m\u001b[0mdt\u001b[0m\u001b[0;34m=\u001b[0m\u001b[0;34m''\u001b[0m\u001b[0;34m,\u001b[0m\u001b[0mdim\u001b[0m\u001b[0;34m=\u001b[0m\u001b[0mdim\u001b[0m\u001b[0;34m)\u001b[0m\u001b[0;34m\u001b[0m\u001b[0m\n\u001b[0m",
      "\u001b[0;31mNameError\u001b[0m: name 'vargeonc' is not defined"
     ]
    }
   ],
   "source": [
    "lon=ssh_mean.xt_ocean.values\n",
    "lat=ssh_mean.yt_ocean.values\n",
    "var=ssh_mean\n",
    "\n",
    "filename='/home/156/jm5970/notebooks/traceddy/data.output/meanssh_10yrs_globalEXP.nc'\n",
    "varname='SSH_mean'\n",
    "units='Centimeters [cm]'\n",
    "nc_description='SSH mean of the Ocean over ? years'\n",
    "dim='2D'\n",
    "vargeonc(filename,lat,lon,var,0,varname,nc_description=nc_description,units=units,dt='',dim=dim)"
   ]
  },
  {
   "cell_type": "code",
   "execution_count": null,
   "metadata": {
    "collapsed": true
   },
   "outputs": [],
   "source": []
  }
 ],
 "metadata": {
  "kernelspec": {
   "display_name": "Python [conda env:analysis3]",
   "language": "python",
   "name": "conda-env-analysis3-py"
  },
  "language_info": {
   "codemirror_mode": {
    "name": "ipython",
    "version": 3
   },
   "file_extension": ".py",
   "mimetype": "text/x-python",
   "name": "python",
   "nbconvert_exporter": "python",
   "pygments_lexer": "ipython3",
   "version": "3.6.2"
  }
 },
 "nbformat": 4,
 "nbformat_minor": 2
}
