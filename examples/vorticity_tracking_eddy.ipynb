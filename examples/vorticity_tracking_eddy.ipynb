{
 "cells": [
  {
   "cell_type": "code",
   "execution_count": 1,
   "metadata": {},
   "outputs": [],
   "source": [
    "# Importing all libraries.\n",
    "from pylab import *\n",
    "from netCDF4 import Dataset\n",
    "%matplotlib inline\n",
    "import os\n",
    "import cmocean as cm\n",
    "from trackeddy.tracking import *\n",
    "from trackeddy.datastruct import *\n",
    "from trackeddy.geometryfunc import *\n",
    "from trackeddy.init import *\n",
    "from trackeddy.physics import *\n",
    "from trackeddy.plotfunc import *"
   ]
  },
  {
   "cell_type": "code",
   "execution_count": 6,
   "metadata": {},
   "outputs": [],
   "source": [
    "# Output data path\n",
    "outputpath='/g/data/v45/akm157/model_output/mom/mom01v5_kds75/output306/'\n",
    "# Import SSH values to python environment.\n",
    "ncfile=Dataset(outputpath+'rregionsouthern_ocean_daily_u.nc')\n",
    "u=ncfile.variables['u'][:,0,:,:]\n",
    "ncfile=Dataset(outputpath+'rregionsouthern_ocean_daily_v.nc')\n",
    "v=ncfile.variables['v'][:,0,:,:]\n",
    "# Import geographic coordinates (Lon,Lat)\n",
    "lon=ncfile.variables['xu_ocean_sub01'][:]\n",
    "lat=ncfile.variables['yu_ocean_sub01'][:]"
   ]
  },
  {
   "cell_type": "code",
   "execution_count": 3,
   "metadata": {},
   "outputs": [
    {
     "data": {
      "text/plain": [
       "<class 'netCDF4._netCDF4.Dataset'>\n",
       "root group (NETCDF4_CLASSIC data model, file format HDF5):\n",
       "    filename: rregionsouthern_ocean_daily_u.nc\n",
       "    title: MOM5_CORE_NYF_50lvl_comparison_test\n",
       "    grid_type: mosaic\n",
       "    grid_tile: 1\n",
       "    dimensions(sizes): xu_ocean_sub01(3600), yu_ocean_sub01(930), st_ocean(75), st_edges_ocean(76), time(90), nv(2)\n",
       "    variables(dimensions): float64 \u001b[4mxu_ocean_sub01\u001b[0m(xu_ocean_sub01), float64 \u001b[4myu_ocean_sub01\u001b[0m(yu_ocean_sub01), float64 \u001b[4mst_ocean\u001b[0m(st_ocean), float64 \u001b[4mst_edges_ocean\u001b[0m(st_edges_ocean), float64 \u001b[4mtime\u001b[0m(time), float64 \u001b[4mnv\u001b[0m(nv), float32 \u001b[4mu\u001b[0m(time,st_ocean,yu_ocean_sub01,xu_ocean_sub01), float64 \u001b[4maverage_T1\u001b[0m(time), float64 \u001b[4maverage_T2\u001b[0m(time), float64 \u001b[4maverage_DT\u001b[0m(time), float64 \u001b[4mtime_bounds\u001b[0m(time,nv)\n",
       "    groups: "
      ]
     },
     "execution_count": 3,
     "metadata": {},
     "output_type": "execute_result"
    }
   ],
   "source": [
    "ncfile"
   ]
  },
  {
   "cell_type": "code",
   "execution_count": null,
   "metadata": {},
   "outputs": [],
   "source": []
  }
 ],
 "metadata": {
  "kernelspec": {
   "display_name": "Python [conda env:analysis3]",
   "language": "python",
   "name": "conda-env-analysis3-py"
  },
  "language_info": {
   "codemirror_mode": {
    "name": "ipython",
    "version": 3
   },
   "file_extension": ".py",
   "mimetype": "text/x-python",
   "name": "python",
   "nbconvert_exporter": "python",
   "pygments_lexer": "ipython3",
   "version": "3.6.2"
  }
 },
 "nbformat": 4,
 "nbformat_minor": 2
}
