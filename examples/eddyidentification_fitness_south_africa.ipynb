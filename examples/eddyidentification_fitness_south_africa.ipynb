{
 "cells": [
  {
   "cell_type": "code",
   "execution_count": 6,
   "metadata": {},
   "outputs": [],
   "source": [
    "# Importing all libraries.\n",
    "from pylab import *\n",
    "from netCDF4 import Dataset\n",
    "%matplotlib inline\n",
    "import os\n",
    "import cmocean as cm\n",
    "from trackeddy.tracking import *\n",
    "from trackeddy.datastruct import *\n",
    "from trackeddy.geometryfunc import *\n",
    "from trackeddy.init import *\n",
    "from trackeddy.physics import *\n",
    "from trackeddy.plotfunc import *"
   ]
  },
  {
   "cell_type": "code",
   "execution_count": 11,
   "metadata": {},
   "outputs": [],
   "source": [
    "# Output data path\n",
    "outputpath='/g/data/v45/akm157/model_output/mom/mom01v5_kds75/output306/'\n",
    "# Import SSH values to python environment.\n",
    "ncfile=Dataset(outputpath+'rregionsouthern_ocean_daily_eta_t.nc')\n",
    "eta=ncfile.variables['eta_t'][:]*100\n",
    "# Import geographic coordinates (Lon,Lat)\n",
    "lon=ncfile.variables['xt_ocean_sub01'][:]\n",
    "lat=ncfile.variables['yt_ocean_sub01'][:]"
   ]
  },
  {
   "cell_type": "code",
   "execution_count": 12,
   "metadata": {},
   "outputs": [],
   "source": [
    "# Import SSH 10 yrs mean values to python environment.\n",
    "ncfile=Dataset('/home/156/jm5970/notebooks/traceddy/data.input/meanssh_10yrs_AEXP.nc')\n",
    "ssh_mean=squeeze(ncfile.variables['SSH_mean'][:])\n",
    "# Import geographic coordinates (Lon,Lat)\n",
    "lon=ncfile.variables['Longitude'][:]\n",
    "lat=ncfile.variables['Latitude'][:]"
   ]
  },
  {
   "cell_type": "code",
   "execution_count": 13,
   "metadata": {},
   "outputs": [
    {
     "name": "stdout",
     "output_type": "stream",
     "text": [
      "(90, 631, 1100)\n"
     ]
    }
   ],
   "source": [
    "#Area in indexes, probably in the future it will be added an option for lon - lat coords.\n",
    "eta=eta[:,300::,2500:]\n",
    "ssh_mean=ssh_mean[300::,2500::]\n",
    "lon=lon[2500::]\n",
    "lat=lat[300::]\n",
    "areamap=array([[0,len(lon)],[0,len(lat)]])\n",
    "ssha=eta-ssh_mean\n",
    "print(shape(eta))"
   ]
  },
  {
   "cell_type": "markdown",
   "metadata": {},
   "source": [
    "# Default Values\n",
    "\n",
    "Eccentricity Fit = 0.8\n",
    "\n",
    "Ellipse Fit = 0.85\n",
    "\n",
    "Gauss Fit = 0.65"
   ]
  },
  {
   "cell_type": "code",
   "execution_count": 5,
   "metadata": {},
   "outputs": [
    {
     "name": "stdout",
     "output_type": "stream",
     "text": [
      " 0% [===================>]33% Time Elapsed: 1425 s  "
     ]
    },
    {
     "ename": "KeyboardInterrupt",
     "evalue": "",
     "output_type": "error",
     "traceback": [
      "\u001b[0;31m---------------------------------------------------------------------------\u001b[0m",
      "\u001b[0;31mKeyboardInterrupt\u001b[0m                         Traceback (most recent call last)",
      "\u001b[0;32m<ipython-input-5-402bed80fadd>\u001b[0m in \u001b[0;36m<module>\u001b[0;34m()\u001b[0m\n\u001b[0;32m----> 1\u001b[0;31m \u001b[0meddytd\u001b[0m\u001b[0;34m=\u001b[0m\u001b[0manalyseddyzt\u001b[0m\u001b[0;34m(\u001b[0m\u001b[0meta\u001b[0m\u001b[0;34m,\u001b[0m\u001b[0mlon\u001b[0m\u001b[0;34m,\u001b[0m\u001b[0mlat\u001b[0m\u001b[0;34m,\u001b[0m\u001b[0;36m0\u001b[0m\u001b[0;34m,\u001b[0m\u001b[0;36m60\u001b[0m\u001b[0;34m,\u001b[0m\u001b[0;36m1\u001b[0m\u001b[0;34m,\u001b[0m\u001b[0;36m25\u001b[0m\u001b[0;34m,\u001b[0m\u001b[0;36m5\u001b[0m\u001b[0;34m,\u001b[0m\u001b[0;36m2.5\u001b[0m\u001b[0;34m,\u001b[0m\u001b[0mdata_meant\u001b[0m\u001b[0;34m=\u001b[0m\u001b[0mssh_mean\u001b[0m\u001b[0;34m,\u001b[0m\u001b[0mareamap\u001b[0m\u001b[0;34m=\u001b[0m\u001b[0mareamap\u001b[0m\u001b[0;34m,\u001b[0m\u001b[0mmask\u001b[0m\u001b[0;34m=\u001b[0m\u001b[0;34m''\u001b[0m                    \u001b[0;34m,\u001b[0m\u001b[0mdestdir\u001b[0m\u001b[0;34m=\u001b[0m\u001b[0;34m''\u001b[0m\u001b[0;34m,\u001b[0m\u001b[0mphysics\u001b[0m\u001b[0;34m=\u001b[0m\u001b[0;34m''\u001b[0m\u001b[0;34m,\u001b[0m\u001b[0meccenfit\u001b[0m\u001b[0;34m=\u001b[0m\u001b[0;36m0.8\u001b[0m\u001b[0;34m,\u001b[0m\u001b[0mellipsrsquarefit\u001b[0m\u001b[0;34m=\u001b[0m\u001b[0;36m0.85\u001b[0m\u001b[0;34m,\u001b[0m\u001b[0mgaussrsquarefit\u001b[0m\u001b[0;34m=\u001b[0m\u001b[0;36m0.65\u001b[0m\u001b[0;34m,\u001b[0m                    \u001b[0mdiagnostics\u001b[0m\u001b[0;34m=\u001b[0m\u001b[0;32mFalse\u001b[0m\u001b[0;34m,\u001b[0m\u001b[0mpprint\u001b[0m\u001b[0;34m=\u001b[0m\u001b[0;32mFalse\u001b[0m\u001b[0;34m)\u001b[0m\u001b[0;34m\u001b[0m\u001b[0m\n\u001b[0m",
      "\u001b[0;32m~/notebooks/traceddy/trackeddy/tracking.py\u001b[0m in \u001b[0;36manalyseddyzt\u001b[0;34m(data, x, y, t0, t1, tstep, maxlevel, minlevel, dzlevel, data_meant, areamap, mask, physics, eddycenter, eccenfit, ellipsrsquarefit, gaussrsquarefit, checkgauss, destdir, saveformat, diagnostics, plotdata, pprint)\u001b[0m\n\u001b[1;32m    580\u001b[0m                           \u001b[0;34m,\u001b[0m\u001b[0mphysics\u001b[0m\u001b[0;34m=\u001b[0m\u001b[0mphysics\u001b[0m\u001b[0;34m,\u001b[0m\u001b[0meddycenter\u001b[0m\u001b[0;34m=\u001b[0m\u001b[0meddycenter\u001b[0m\u001b[0;34m,\u001b[0m\u001b[0mcheckgauss\u001b[0m\u001b[0;34m=\u001b[0m\u001b[0mcheckgauss\u001b[0m\u001b[0;31m\\\u001b[0m\u001b[0;34m\u001b[0m\u001b[0m\n\u001b[1;32m    581\u001b[0m                           \u001b[0;34m,\u001b[0m\u001b[0meccenfit\u001b[0m\u001b[0;34m=\u001b[0m\u001b[0meccenfit\u001b[0m\u001b[0;34m,\u001b[0m\u001b[0mellipsrsquarefit\u001b[0m\u001b[0;34m=\u001b[0m\u001b[0mellipsrsquarefit\u001b[0m\u001b[0;34m,\u001b[0m\u001b[0mgaussrsquarefit\u001b[0m\u001b[0;34m=\u001b[0m\u001b[0mgaussrsquarefit\u001b[0m\u001b[0;31m\\\u001b[0m\u001b[0;34m\u001b[0m\u001b[0m\n\u001b[0;32m--> 582\u001b[0;31m                           ,diagnostics=diagnostics,plotdata=plotdata,pprint=pprint)\n\u001b[0m\u001b[1;32m    583\u001b[0m             \u001b[0;31m#print('ellapse identification:',time.time()-tic)\u001b[0m\u001b[0;34m\u001b[0m\u001b[0;34m\u001b[0m\u001b[0m\n\u001b[1;32m    584\u001b[0m             \u001b[0;32mif\u001b[0m \u001b[0mll\u001b[0m \u001b[0;34m==\u001b[0m \u001b[0mfarlevel\u001b[0m\u001b[0;34m:\u001b[0m\u001b[0;34m\u001b[0m\u001b[0m\n",
      "\u001b[0;32m~/notebooks/traceddy/trackeddy/tracking.py\u001b[0m in \u001b[0;36mscan_eddym\u001b[0;34m(ssh, lon, lat, levels, date, areamap, mask, destdir, physics, basemap, eddycenter, ellipsrsquarefit, eccenfit, gaussrsquarefit, checkgauss, diagnostics, plotdata, pprint)\u001b[0m\n\u001b[1;32m    226\u001b[0m                                                 profile,checkM=extractprofeddy(mayoraxis,sshnan[:,:],lon,lat,50,\\\n\u001b[1;32m    227\u001b[0m                                                                   \u001b[0mgaus\u001b[0m\u001b[0;34m=\u001b[0m\u001b[0;34m'One'\u001b[0m\u001b[0;34m,\u001b[0m\u001b[0mkind\u001b[0m\u001b[0;34m=\u001b[0m\u001b[0;34m'linear'\u001b[0m\u001b[0;34m,\u001b[0m\u001b[0mgaussrsquarefit\u001b[0m\u001b[0;34m=\u001b[0m\u001b[0mgaussrsquarefit\u001b[0m\u001b[0;34m,\u001b[0m\u001b[0;31m\\\u001b[0m\u001b[0;34m\u001b[0m\u001b[0m\n\u001b[0;32m--> 228\u001b[0;31m                                                                   diagnostics=False)\n\u001b[0m\u001b[1;32m    229\u001b[0m                                                 \u001b[0;32mif\u001b[0m \u001b[0mcheckM\u001b[0m\u001b[0;34m==\u001b[0m\u001b[0;32mTrue\u001b[0m\u001b[0;34m:\u001b[0m\u001b[0;34m\u001b[0m\u001b[0m\n\u001b[1;32m    230\u001b[0m                                                     profile,checkm=extractprofeddy(minoraxis,sshnan[:,:],lon,lat,50,\\\n",
      "\u001b[0;32m~/notebooks/traceddy/trackeddy/geometryfunc.py\u001b[0m in \u001b[0;36mextractprofeddy\u001b[0;34m(axis, field, lon, lat, n, gaus, kind, gaussrsquarefit, varname, diagnostics)\u001b[0m\n\u001b[1;32m    399\u001b[0m     \u001b[0mx\u001b[0m\u001b[0;34m=\u001b[0m\u001b[0mnp\u001b[0m\u001b[0;34m.\u001b[0m\u001b[0mlinspace\u001b[0m\u001b[0;34m(\u001b[0m\u001b[0maxis\u001b[0m\u001b[0;34m[\u001b[0m\u001b[0;36m0\u001b[0m\u001b[0;34m,\u001b[0m\u001b[0;36m0\u001b[0m\u001b[0;34m]\u001b[0m\u001b[0;34m,\u001b[0m\u001b[0maxis\u001b[0m\u001b[0;34m[\u001b[0m\u001b[0;36m0\u001b[0m\u001b[0;34m,\u001b[0m\u001b[0;36m1\u001b[0m\u001b[0;34m]\u001b[0m\u001b[0;34m,\u001b[0m\u001b[0mn\u001b[0m\u001b[0;34m)\u001b[0m\u001b[0;34m\u001b[0m\u001b[0m\n\u001b[1;32m    400\u001b[0m \u001b[0;34m\u001b[0m\u001b[0m\n\u001b[0;32m--> 401\u001b[0;31m     \u001b[0mfield2interp\u001b[0m\u001b[0;34m=\u001b[0m\u001b[0minterp2d\u001b[0m\u001b[0;34m(\u001b[0m\u001b[0mlon\u001b[0m\u001b[0;34m,\u001b[0m \u001b[0mlat\u001b[0m\u001b[0;34m,\u001b[0m \u001b[0mfieldnan\u001b[0m\u001b[0;34m[\u001b[0m\u001b[0;34m:\u001b[0m\u001b[0;34m,\u001b[0m\u001b[0;34m:\u001b[0m\u001b[0;34m]\u001b[0m\u001b[0;34m,\u001b[0m \u001b[0mkind\u001b[0m\u001b[0;34m=\u001b[0m\u001b[0mkind\u001b[0m\u001b[0;34m)\u001b[0m\u001b[0;34m\u001b[0m\u001b[0m\n\u001b[0m\u001b[1;32m    402\u001b[0m     \u001b[0mfield_interp\u001b[0m \u001b[0;34m=\u001b[0m \u001b[0mfield2interp\u001b[0m\u001b[0;34m(\u001b[0m\u001b[0mx\u001b[0m\u001b[0;34m,\u001b[0m\u001b[0my\u001b[0m\u001b[0;34m)\u001b[0m\u001b[0;34m\u001b[0m\u001b[0m\n\u001b[1;32m    403\u001b[0m     \u001b[0;31m#pcolormesh(lon,lat,field,vmin=-0.000004,vmax=0.000004)\u001b[0m\u001b[0;34m\u001b[0m\u001b[0;34m\u001b[0m\u001b[0m\n",
      "\u001b[0;32m/g/data3/hh5/public/apps/miniconda3/envs/analysis3/lib/python3.6/site-packages/scipy/interpolate/interpolate.py\u001b[0m in \u001b[0;36m__init__\u001b[0;34m(self, x, y, z, kind, copy, bounds_error, fill_value)\u001b[0m\n\u001b[1;32m    223\u001b[0m             nx, tx, ny, ty, c, fp, ier = dfitpack.regrid_smth(\n\u001b[1;32m    224\u001b[0m                 \u001b[0mx\u001b[0m\u001b[0;34m,\u001b[0m \u001b[0my\u001b[0m\u001b[0;34m,\u001b[0m \u001b[0mz\u001b[0m\u001b[0;34m,\u001b[0m \u001b[0;32mNone\u001b[0m\u001b[0;34m,\u001b[0m \u001b[0;32mNone\u001b[0m\u001b[0;34m,\u001b[0m \u001b[0;32mNone\u001b[0m\u001b[0;34m,\u001b[0m \u001b[0;32mNone\u001b[0m\u001b[0;34m,\u001b[0m\u001b[0;34m\u001b[0m\u001b[0m\n\u001b[0;32m--> 225\u001b[0;31m                 kx=kx, ky=ky, s=0.0)\n\u001b[0m\u001b[1;32m    226\u001b[0m             self.tck = (tx[:nx], ty[:ny], c[:(nx - kx - 1) * (ny - ky - 1)],\n\u001b[1;32m    227\u001b[0m                         kx, ky)\n",
      "\u001b[0;31mKeyboardInterrupt\u001b[0m: "
     ]
    }
   ],
   "source": [
    "eddytd=analyseddyzt(eta,lon,lat,0,60,1,25,5,2.5,data_meant=ssh_mean,areamap=areamap,mask=''\\\n",
    "                    ,destdir='',physics='',eccenfit=0.8,ellipsrsquarefit=0.85,gaussrsquarefit=0.65,\\\n",
    "                    diagnostics=False,pprint=False)"
   ]
  },
  {
   "cell_type": "code",
   "execution_count": null,
   "metadata": {
    "scrolled": true
   },
   "outputs": [],
   "source": [
    "eddytdn=analyseddyzt(eta,lon,lat,0,60,1,-25,-5,-2.5,data_meant=ssh_mean,areamap=areamap,mask=''\\\n",
    "                    ,destdir='',physics='',eccenfit=0.8,ellipsrsquarefit=0.85,gaussrsquarefit=0.65,\\\n",
    "                    diagnostics=False,pprint=False)"
   ]
  },
  {
   "cell_type": "code",
   "execution_count": null,
   "metadata": {},
   "outputs": [],
   "source": [
    "threshold=1\n",
    "eddysplot=exeddydt(eddytd,lat,lon,ssha,threshold,diagnostics=False)\n",
    "eddysplotn=exeddydt(eddytdn,lat,lon,ssha,threshold,diagnostics=False)"
   ]
  },
  {
   "cell_type": "code",
   "execution_count": null,
   "metadata": {},
   "outputs": [],
   "source": [
    "eddyfield=eddysplot+eddysplotn\n",
    "eddyfield[eddyfield==0]=np.nan"
   ]
  },
  {
   "cell_type": "code",
   "execution_count": null,
   "metadata": {},
   "outputs": [],
   "source": [
    "pcolormesh(lon,lat,eddyfield[0,:,:])\n",
    "colorbar()\n",
    "pcolormesh(lon,lat,ssha[0,:,:],shading='gouraud',cmap=cm.cm.balance,vmin=-40,vmax=40,alpha=0.1)"
   ]
  },
  {
   "cell_type": "code",
   "execution_count": null,
   "metadata": {},
   "outputs": [],
   "source": [
    "import matplotlib.pyplot as plt\n",
    "import numpy as np\n",
    "import matplotlib.gridspec as gridspec\n",
    "from matplotlib import animation, rc\n",
    "rc('animation', html='html5')\n",
    "\n",
    "###########\n",
    "\n",
    "fig = plt.figure(figsize=(10, 10),facecolor='white')\n",
    "gs = gridspec.GridSpec(1, 1)\n",
    "\n",
    "#############################\n",
    "\n",
    "ax1 = plt.subplot(gs[0,0])\n",
    "\n",
    "lonmm,latmm=np.meshgrid(lon,lat)\n",
    "\n",
    "map = Basemap(projection='ortho',lat_0=mean(lat),lon_0=mean(lon),resolution='c',ax=ax1)\n",
    "lonm,latm=map(lonmm,latmm)\n",
    "map.drawmeridians(np.arange(0,360,30),labels=[1,1,0,0],fontsize=10)\n",
    "map.drawparallels(np.arange(0,360,30),labels=[1,1,0,0],fontsize=10)\n",
    "map.fillcontinents(color='black',lake_color='black')\n",
    "map.drawcoastlines()\n",
    "map.drawcoastlines()\n",
    "\n",
    "#quad2 = ax1.pcolormesh(lonm,latm,eddyfield[0,:,:],shading='gouraud',cmap=cm.cm.balance,\\\n",
    "#              vmin=-40,vmax=40)\n",
    "\n",
    "\n",
    "def init():\n",
    "    quad1.set_array([])\n",
    "    quad2.set_array([])\n",
    "    return quad1,quad2\n",
    "\n",
    "def animate(iter):\n",
    "    #ax1.contourf(lonm,latm,ssha[0,:,:],shading='gouraud',cmap=cm.cm.balance,vmin=-40,vmax=40,alpha=0.1)\n",
    "    ax1.contourf(lonm,latm,ssha[iter,:,:],shading='gouraud',cmap=cm.cm.oxy,vmin=-40,vmax=40,alpha=0.5)\n",
    "    ax1.contourf(lonm,latm,eddyfield[iter,:,:],shading='gouraud',cmap=cm.cm.balance,\\\n",
    "              vmin=-40,vmax=40,alpha=0.9)\n",
    "    #quad2.set_array(ssha[iter,:,:].ravel())\n",
    "    #quad1.set_array(eddyfield[iter,:,:].ravel())\n",
    "    \n",
    "    #ax1.pcolormesh(lonm,latm,eddyfield[iter,:,:],shading='gouraud',cmap=cm.cm.balance,vmin=-40,vmax=40,alpha=1)\n",
    "    ax1.set_title('%03d'%(iter))\n",
    "    \n",
    "    #quad2.set_array(eddyfield[iter,:,:].ravel())\n",
    "    return\n",
    "\n",
    "gs.tight_layout(fig)\n",
    "\n",
    "anim2 = animation.FuncAnimation(fig,animate,frames=60,interval=100,blit=False,repeat=True)\n",
    "plt.close()\n",
    "anim2"
   ]
  },
  {
   "cell_type": "markdown",
   "metadata": {},
   "source": [
    "# Default Values\n",
    "\n",
    "Eccentricity Fit = 0.6\n",
    "\n",
    "Ellipse Fit = 0.85\n",
    "\n",
    "Gauss Fit = 0.65"
   ]
  },
  {
   "cell_type": "code",
   "execution_count": null,
   "metadata": {},
   "outputs": [],
   "source": [
    "eddytd=analyseddyzt(eta,lon,lat,0,60,1,25,5,2.5,data_meant=ssh_mean,areamap=areamap,mask=''\\\n",
    "                    ,destdir='',physics='',eccenfit=0.75,ellipsrsquarefit=0.85,gaussrsquarefit=0.65,\\\n",
    "                    diagnostics=False,pprint=False)"
   ]
  },
  {
   "cell_type": "code",
   "execution_count": null,
   "metadata": {},
   "outputs": [],
   "source": [
    "eddytdn=analyseddyzt(eta,lon,lat,0,60,1,-25,-5,-2.5,data_meant=ssh_mean,areamap=areamap,mask=''\\\n",
    "                    ,destdir='',physics='',eccenfit=0.75,ellipsrsquarefit=0.85,gaussrsquarefit=0.65,\\\n",
    "                    diagnostics=False,pprint=False)"
   ]
  },
  {
   "cell_type": "code",
   "execution_count": null,
   "metadata": {},
   "outputs": [],
   "source": [
    "threshold=1\n",
    "eddysplot=exeddydt(eddytd,lat,lon,ssha,threshold,diagnostics=False)\n",
    "eddysplotn=exeddydt(eddytdn,lat,lon,ssha,threshold,diagnostics=False)"
   ]
  },
  {
   "cell_type": "code",
   "execution_count": null,
   "metadata": {},
   "outputs": [],
   "source": [
    "eddyfield=eddysplot+eddysplotn\n",
    "eddyfield[eddyfield==0]=np.nan"
   ]
  },
  {
   "cell_type": "code",
   "execution_count": null,
   "metadata": {},
   "outputs": [],
   "source": [
    "import matplotlib.pyplot as plt\n",
    "import numpy as np\n",
    "import matplotlib.gridspec as gridspec\n",
    "from matplotlib import animation, rc\n",
    "rc('animation', html='html5')\n",
    "\n",
    "###########\n",
    "\n",
    "fig = plt.figure(figsize=(10, 10),facecolor='white')\n",
    "gs = gridspec.GridSpec(1, 1)\n",
    "\n",
    "#############################\n",
    "\n",
    "ax1 = plt.subplot(gs[0,0])\n",
    "\n",
    "lonmm,latmm=np.meshgrid(lon,lat)\n",
    "\n",
    "map = Basemap(projection='ortho',lat_0=mean(lat),lon_0=mean(lon),resolution='c',ax=ax1)\n",
    "lonm,latm=map(lonmm,latmm)\n",
    "map.drawmeridians(np.arange(0,360,30),labels=[1,1,0,0],fontsize=10)\n",
    "map.drawparallels(np.arange(0,360,30),labels=[1,1,0,0],fontsize=10)\n",
    "map.fillcontinents(color='black',lake_color='black')\n",
    "map.drawcoastlines()\n",
    "map.drawcoastlines()\n",
    "\n",
    "#quad2 = ax1.pcolormesh(lonm,latm,eddyfield[0,:,:],shading='gouraud',cmap=cm.cm.balance,\\\n",
    "#              vmin=-40,vmax=40)\n",
    "\n",
    "\n",
    "def init():\n",
    "    quad1.set_array([])\n",
    "    quad2.set_array([])\n",
    "    return quad1,quad2\n",
    "\n",
    "def animate(iter):\n",
    "    #ax1.contourf(lonm,latm,ssha[0,:,:],shading='gouraud',cmap=cm.cm.balance,vmin=-40,vmax=40,alpha=0.1)\n",
    "    ax1.contourf(lonm,latm,ssha[iter,:,:],shading='gouraud',cmap=cm.cm.oxy,vmin=-40,vmax=40,alpha=0.5)\n",
    "    ax1.contourf(lonm,latm,eddyfield[iter,:,:],shading='gouraud',cmap=cm.cm.balance,\\\n",
    "              vmin=-40,vmax=40,alpha=0.9)\n",
    "    #quad2.set_array(ssha[iter,:,:].ravel())\n",
    "    #quad1.set_array(eddyfield[iter,:,:].ravel())\n",
    "    \n",
    "    #ax1.pcolormesh(lonm,latm,eddyfield[iter,:,:],shading='gouraud',cmap=cm.cm.balance,vmin=-40,vmax=40,alpha=1)\n",
    "    ax1.set_title('%03d'%(iter))\n",
    "    \n",
    "    #quad2.set_array(eddyfield[iter,:,:].ravel())\n",
    "    return\n",
    "\n",
    "gs.tight_layout(fig)\n",
    "\n",
    "anim2 = animation.FuncAnimation(fig,animate,frames=60,interval=100,blit=False,repeat=True)\n",
    "plt.close()\n",
    "anim2"
   ]
  },
  {
   "cell_type": "markdown",
   "metadata": {},
   "source": [
    "# Default Values\n",
    "\n",
    "Eccentricity Fit = 0.8\n",
    "\n",
    "Ellipse Fit = 0.5\n",
    "\n",
    "Gauss Fit = 0.65"
   ]
  },
  {
   "cell_type": "code",
   "execution_count": null,
   "metadata": {},
   "outputs": [],
   "source": [
    "eddytd=analyseddyzt(eta,lon,lat,0,60,1,25,5,2.5,data_meant=ssh_mean,areamap=areamap,mask=''\\\n",
    "                    ,destdir='',physics='',eccenfit=0.8,ellipsrsquarefit=0.5,gaussrsquarefit=0.65,\\\n",
    "                    diagnostics=False,pprint=False)"
   ]
  },
  {
   "cell_type": "code",
   "execution_count": null,
   "metadata": {},
   "outputs": [],
   "source": [
    "eddytdn=analyseddyzt(eta,lon,lat,0,60,1,-25,-5,-2.5,data_meant=ssh_mean,areamap=areamap,mask=''\\\n",
    "                    ,destdir='',physics='',eccenfit=0.8,ellipsrsquarefit=0.5,gaussrsquarefit=0.65,\\\n",
    "                    diagnostics=False,pprint=False)"
   ]
  },
  {
   "cell_type": "code",
   "execution_count": null,
   "metadata": {},
   "outputs": [],
   "source": [
    "threshold=1\n",
    "eddysplot=exeddydt(eddytd,lat,lon,ssha,threshold,diagnostics=False)\n",
    "eddysplotn=exeddydt(eddytdn,lat,lon,ssha,threshold,diagnostics=False)"
   ]
  },
  {
   "cell_type": "code",
   "execution_count": null,
   "metadata": {},
   "outputs": [],
   "source": [
    "eddyfield=eddysplot+eddysplotn\n",
    "eddyfield[eddyfield==0]=np.nan"
   ]
  },
  {
   "cell_type": "code",
   "execution_count": null,
   "metadata": {},
   "outputs": [],
   "source": [
    "#pcolormesh(eddysplot[0,:,:])"
   ]
  },
  {
   "cell_type": "code",
   "execution_count": null,
   "metadata": {},
   "outputs": [],
   "source": [
    "import matplotlib.pyplot as plt\n",
    "import numpy as np\n",
    "import matplotlib.gridspec as gridspec\n",
    "from matplotlib import animation, rc\n",
    "rc('animation', html='html5')\n",
    "\n",
    "###########\n",
    "\n",
    "fig = plt.figure(figsize=(10, 10),facecolor='white')\n",
    "gs = gridspec.GridSpec(1, 1)\n",
    "\n",
    "#############################\n",
    "\n",
    "ax1 = plt.subplot(gs[0,0])\n",
    "\n",
    "lonmm,latmm=np.meshgrid(lon,lat)\n",
    "\n",
    "map = Basemap(projection='ortho',lat_0=mean(lat),lon_0=mean(lon),resolution='c',ax=ax1)\n",
    "lonm,latm=map(lonmm,latmm)\n",
    "map.drawmeridians(np.arange(0,360,30),labels=[1,1,0,0],fontsize=10)\n",
    "map.drawparallels(np.arange(0,360,30),labels=[1,1,0,0],fontsize=10)\n",
    "map.fillcontinents(color='black',lake_color='black')\n",
    "map.drawcoastlines()\n",
    "map.drawcoastlines()\n",
    "\n",
    "#quad2 = ax1.pcolormesh(lonm,latm,eddyfield[0,:,:],shading='gouraud',cmap=cm.cm.balance,\\\n",
    "#              vmin=-40,vmax=40)\n",
    "\n",
    "\n",
    "def init():\n",
    "    quad1.set_array([])\n",
    "    quad2.set_array([])\n",
    "    return quad1,quad2\n",
    "\n",
    "def animate(iter):\n",
    "    #ax1.contourf(lonm,latm,ssha[0,:,:],shading='gouraud',cmap=cm.cm.balance,vmin=-40,vmax=40,alpha=0.1)\n",
    "    ax1.contourf(lonm,latm,ssha[iter,:,:],shading='gouraud',cmap=cm.cm.oxy,vmin=-40,vmax=40,alpha=0.5)\n",
    "    ax1.contourf(lonm,latm,eddyfield[iter,:,:],shading='gouraud',cmap=cm.cm.balance,\\\n",
    "              vmin=-40,vmax=40,alpha=0.9)\n",
    "    #quad2.set_array(ssha[iter,:,:].ravel())\n",
    "    #quad1.set_array(eddyfield[iter,:,:].ravel())\n",
    "    \n",
    "    #ax1.pcolormesh(lonm,latm,eddyfield[iter,:,:],shading='gouraud',cmap=cm.cm.balance,vmin=-40,vmax=40,alpha=1)\n",
    "    ax1.set_title('%03d'%(iter))\n",
    "    \n",
    "    #quad2.set_array(eddyfield[iter,:,:].ravel())\n",
    "    return\n",
    "\n",
    "gs.tight_layout(fig)\n",
    "\n",
    "anim2 = animation.FuncAnimation(fig,animate,frames=60,interval=100,blit=False,repeat=True)\n",
    "plt.close()\n",
    "anim2"
   ]
  },
  {
   "cell_type": "code",
   "execution_count": null,
   "metadata": {},
   "outputs": [],
   "source": []
  },
  {
   "cell_type": "markdown",
   "metadata": {},
   "source": [
    "# Default Values\n",
    "\n",
    "Eccentricity Fit = 0.8\n",
    "\n",
    "Ellipse Fit = 0.85\n",
    "\n",
    "Gauss Fit = 0.90"
   ]
  },
  {
   "cell_type": "code",
   "execution_count": null,
   "metadata": {},
   "outputs": [],
   "source": [
    "eddytd=analyseddyzt(eta,lon,lat,0,60,1,25,5,2.5,data_meant=ssh_mean,areamap=areamap,mask=''\\\n",
    "                    ,destdir='',physics='',eccenfit=0.8,ellipsrsquarefit=0.85,gaussrsquarefit=0.9,\\\n",
    "                    diagnostics=False,pprint=False)"
   ]
  },
  {
   "cell_type": "code",
   "execution_count": null,
   "metadata": {
    "scrolled": true
   },
   "outputs": [],
   "source": [
    "eddytdn=analyseddyzt(eta,lon,lat,0,60,1,-25,-5,-2.5,data_meant=ssh_mean,areamap=areamap,mask=''\\\n",
    "                    ,destdir='',physics='',eccenfit=0.8,ellipsrsquarefit=0.85,gaussrsquarefit=0.9,\\\n",
    "                    diagnostics=False,pprint=False)"
   ]
  },
  {
   "cell_type": "code",
   "execution_count": null,
   "metadata": {},
   "outputs": [],
   "source": [
    "threshold=1\n",
    "eddysplot=exeddydt(eddytd,lat,lon,ssha,threshold,diagnostics=False)\n",
    "eddysplotn=exeddydt(eddytdn,lat,lon,ssha,threshold,diagnostics=False)"
   ]
  },
  {
   "cell_type": "code",
   "execution_count": null,
   "metadata": {},
   "outputs": [],
   "source": [
    "eddyfield=eddysplot+eddysplotn\n",
    "eddyfield[eddyfield==0]=np.nan"
   ]
  },
  {
   "cell_type": "code",
   "execution_count": null,
   "metadata": {},
   "outputs": [],
   "source": [
    "import matplotlib.pyplot as plt\n",
    "import numpy as np\n",
    "import matplotlib.gridspec as gridspec\n",
    "from matplotlib import animation, rc\n",
    "rc('animation', html='html5')\n",
    "\n",
    "###########\n",
    "\n",
    "fig = plt.figure(figsize=(10, 10),facecolor='white')\n",
    "gs = gridspec.GridSpec(1, 1)\n",
    "\n",
    "#############################\n",
    "\n",
    "ax1 = plt.subplot(gs[0,0])\n",
    "\n",
    "lonmm,latmm=np.meshgrid(lon,lat)\n",
    "\n",
    "map = Basemap(projection='ortho',lat_0=mean(lat),lon_0=mean(lon),resolution='c',ax=ax1)\n",
    "lonm,latm=map(lonmm,latmm)\n",
    "map.drawmeridians(np.arange(0,360,30),labels=[1,1,0,0],fontsize=10)\n",
    "map.drawparallels(np.arange(0,360,30),labels=[1,1,0,0],fontsize=10)\n",
    "map.fillcontinents(color='black',lake_color='black')\n",
    "map.drawcoastlines()\n",
    "map.drawcoastlines()\n",
    "\n",
    "#quad2 = ax1.pcolormesh(lonm,latm,eddyfield[0,:,:],shading='gouraud',cmap=cm.cm.balance,\\\n",
    "#              vmin=-40,vmax=40)\n",
    "\n",
    "\n",
    "def init():\n",
    "    quad1.set_array([])\n",
    "    quad2.set_array([])\n",
    "    return quad1,quad2\n",
    "\n",
    "def animate(iter):\n",
    "    #ax1.contourf(lonm,latm,ssha[0,:,:],shading='gouraud',cmap=cm.cm.balance,vmin=-40,vmax=40,alpha=0.1)\n",
    "    ax1.contourf(lonm,latm,ssha[iter,:,:],shading='gouraud',cmap=cm.cm.oxy,vmin=-40,vmax=40,alpha=0.5)\n",
    "    ax1.contourf(lonm,latm,eddyfield[iter,:,:],shading='gouraud',cmap=cm.cm.balance,\\\n",
    "              vmin=-40,vmax=40,alpha=0.9)\n",
    "    #quad2.set_array(ssha[iter,:,:].ravel())\n",
    "    #quad1.set_array(eddyfield[iter,:,:].ravel())\n",
    "    \n",
    "    #ax1.pcolormesh(lonm,latm,eddyfield[iter,:,:],shading='gouraud',cmap=cm.cm.balance,vmin=-40,vmax=40,alpha=1)\n",
    "    ax1.set_title('%03d'%(iter))\n",
    "    \n",
    "    #quad2.set_array(eddyfield[iter,:,:].ravel())\n",
    "    return\n",
    "\n",
    "gs.tight_layout(fig)\n",
    "\n",
    "anim2 = animation.FuncAnimation(fig,animate,frames=60,interval=100,blit=False,repeat=True)\n",
    "plt.close()\n",
    "anim2"
   ]
  },
  {
   "cell_type": "code",
   "execution_count": null,
   "metadata": {},
   "outputs": [],
   "source": []
  },
  {
   "cell_type": "markdown",
   "metadata": {},
   "source": [
    "# Default Values\n",
    "\n",
    "Eccentricity Fit = 1\n",
    "\n",
    "Ellipse Fit = 0.85\n",
    "\n",
    "Gauss Fit = 0.85"
   ]
  },
  {
   "cell_type": "code",
   "execution_count": null,
   "metadata": {},
   "outputs": [],
   "source": [
    "eddytd=analyseddyzt(eta,lon,lat,0,60,1,25,5,2.5,data_meant=ssh_mean,areamap=areamap,mask=''\\\n",
    "                    ,destdir='',physics='',eccenfit=1,ellipsrsquarefit=0.85,gaussrsquarefit=0.85,\\\n",
    "                    diagnostics=False,pprint=False)"
   ]
  },
  {
   "cell_type": "code",
   "execution_count": null,
   "metadata": {
    "scrolled": true
   },
   "outputs": [],
   "source": [
    "eddytdn=analyseddyzt(eta,lon,lat,0,60,1,-25,-5,-2.5,data_meant=ssh_mean,areamap=areamap,mask=''\\\n",
    "                    ,destdir='',physics='',eccenfit=1,ellipsrsquarefit=0.85,gaussrsquarefit=0.85,\\\n",
    "                    diagnostics=False,pprint=False)"
   ]
  },
  {
   "cell_type": "code",
   "execution_count": null,
   "metadata": {},
   "outputs": [],
   "source": [
    "threshold=1\n",
    "eddysplot=exeddydt(eddytd,lat,lon,ssha,threshold,diagnostics=False)\n",
    "eddysplotn=exeddydt(eddytdn,lat,lon,ssha,threshold,diagnostics=False)"
   ]
  },
  {
   "cell_type": "code",
   "execution_count": null,
   "metadata": {},
   "outputs": [],
   "source": [
    "eddyfield=eddysplot+eddysplotn\n",
    "eddyfield[eddyfield==0]=np.nan"
   ]
  },
  {
   "cell_type": "code",
   "execution_count": null,
   "metadata": {},
   "outputs": [],
   "source": [
    "import matplotlib.pyplot as plt\n",
    "import numpy as np\n",
    "import matplotlib.gridspec as gridspec\n",
    "from matplotlib import animation, rc\n",
    "rc('animation', html='html5')\n",
    "\n",
    "###########\n",
    "\n",
    "fig = plt.figure(figsize=(10, 10),facecolor='white')\n",
    "gs = gridspec.GridSpec(1, 1)\n",
    "\n",
    "#############################\n",
    "\n",
    "ax1 = plt.subplot(gs[0,0])\n",
    "\n",
    "lonmm,latmm=np.meshgrid(lon,lat)\n",
    "\n",
    "map = Basemap(projection='ortho',lat_0=mean(lat),lon_0=mean(lon),resolution='c',ax=ax1)\n",
    "lonm,latm=map(lonmm,latmm)\n",
    "map.drawmeridians(np.arange(0,360,30),labels=[1,1,0,0],fontsize=10)\n",
    "map.drawparallels(np.arange(0,360,30),labels=[1,1,0,0],fontsize=10)\n",
    "map.fillcontinents(color='black',lake_color='black')\n",
    "map.drawcoastlines()\n",
    "map.drawcoastlines()\n",
    "\n",
    "#quad2 = ax1.pcolormesh(lonm,latm,eddyfield[0,:,:],shading='gouraud',cmap=cm.cm.balance,\\\n",
    "#              vmin=-40,vmax=40)\n",
    "\n",
    "\n",
    "def init():\n",
    "    quad1.set_array([])\n",
    "    quad2.set_array([])\n",
    "    return quad1,quad2\n",
    "\n",
    "def animate(iter):\n",
    "    #ax1.contourf(lonm,latm,ssha[0,:,:],shading='gouraud',cmap=cm.cm.balance,vmin=-40,vmax=40,alpha=0.1)\n",
    "    ax1.contourf(lonm,latm,ssha[iter,:,:],shading='gouraud',cmap=cm.cm.oxy,vmin=-40,vmax=40,alpha=0.5)\n",
    "    ax1.contourf(lonm,latm,eddyfield[iter,:,:],shading='gouraud',cmap=cm.cm.balance,\\\n",
    "              vmin=-40,vmax=40,alpha=0.9)\n",
    "    #quad2.set_array(ssha[iter,:,:].ravel())\n",
    "    #quad1.set_array(eddyfield[iter,:,:].ravel())\n",
    "    \n",
    "    #ax1.pcolormesh(lonm,latm,eddyfield[iter,:,:],shading='gouraud',cmap=cm.cm.balance,vmin=-40,vmax=40,alpha=1)\n",
    "    ax1.set_title('%03d'%(iter))\n",
    "    \n",
    "    #quad2.set_array(eddyfield[iter,:,:].ravel())\n",
    "    return\n",
    "\n",
    "gs.tight_layout(fig)\n",
    "\n",
    "anim2 = animation.FuncAnimation(fig,animate,frames=60,interval=100,blit=False,repeat=True)\n",
    "plt.close()\n",
    "anim2"
   ]
  },
  {
   "cell_type": "code",
   "execution_count": null,
   "metadata": {},
   "outputs": [],
   "source": []
  },
  {
   "cell_type": "markdown",
   "metadata": {},
   "source": [
    "# Default Values\n",
    "\n",
    "Eccentricity Fit = 0.95\n",
    "\n",
    "Ellipse Fit = 0.85\n",
    "\n",
    "Gauss Fit = 0.85"
   ]
  },
  {
   "cell_type": "code",
   "execution_count": null,
   "metadata": {},
   "outputs": [],
   "source": [
    "eddytd=analyseddyzt(eta,lon,lat,0,60,1,25,5,2.5,data_meant=ssh_mean,areamap=areamap,mask=''\\\n",
    "                    ,destdir='',physics='',eccenfit=0.95,ellipsrsquarefit=0.85,gaussrsquarefit=0.85,\\\n",
    "                    diagnostics=False,pprint=False)"
   ]
  },
  {
   "cell_type": "code",
   "execution_count": null,
   "metadata": {
    "scrolled": true
   },
   "outputs": [],
   "source": [
    "eddytdn=analyseddyzt(eta,lon,lat,0,60,1,-25,-5,-2.5,data_meant=ssh_mean,areamap=areamap,mask=''\\\n",
    "                    ,destdir='',physics='',eccenfit=0.95,ellipsrsquarefit=0.85,gaussrsquarefit=0.85,\\\n",
    "                    diagnostics=False,pprint=False)"
   ]
  },
  {
   "cell_type": "code",
   "execution_count": null,
   "metadata": {},
   "outputs": [],
   "source": [
    "threshold=1\n",
    "eddysplot=exeddydt(eddytd,lat,lon,ssha,threshold,diagnostics=False)\n",
    "eddysplotn=exeddydt(eddytdn,lat,lon,ssha,threshold,diagnostics=False)"
   ]
  },
  {
   "cell_type": "code",
   "execution_count": null,
   "metadata": {},
   "outputs": [],
   "source": [
    "eddyfield=eddysplot+eddysplotn\n",
    "eddyfield[eddyfield==0]=np.nan"
   ]
  },
  {
   "cell_type": "code",
   "execution_count": null,
   "metadata": {},
   "outputs": [],
   "source": [
    "import matplotlib.pyplot as plt\n",
    "import numpy as np\n",
    "import matplotlib.gridspec as gridspec\n",
    "from matplotlib import animation, rc\n",
    "rc('animation', html='html5')\n",
    "\n",
    "###########\n",
    "\n",
    "fig = plt.figure(figsize=(10, 10),facecolor='white')\n",
    "gs = gridspec.GridSpec(1, 1)\n",
    "\n",
    "#############################\n",
    "\n",
    "ax1 = plt.subplot(gs[0,0])\n",
    "\n",
    "lonmm,latmm=np.meshgrid(lon,lat)\n",
    "\n",
    "map = Basemap(projection='ortho',lat_0=mean(lat),lon_0=mean(lon),resolution='c',ax=ax1)\n",
    "lonm,latm=map(lonmm,latmm)\n",
    "map.drawmeridians(np.arange(0,360,30),labels=[1,1,0,0],fontsize=10)\n",
    "map.drawparallels(np.arange(0,360,30),labels=[1,1,0,0],fontsize=10)\n",
    "map.fillcontinents(color='black',lake_color='black')\n",
    "map.drawcoastlines()\n",
    "map.drawcoastlines()\n",
    "\n",
    "#quad2 = ax1.pcolormesh(lonm,latm,eddyfield[0,:,:],shading='gouraud',cmap=cm.cm.balance,\\\n",
    "#              vmin=-40,vmax=40)\n",
    "\n",
    "\n",
    "def init():\n",
    "    quad1.set_array([])\n",
    "    quad2.set_array([])\n",
    "    return quad1,quad2\n",
    "\n",
    "def animate(iter):\n",
    "    #ax1.contourf(lonm,latm,ssha[0,:,:],shading='gouraud',cmap=cm.cm.balance,vmin=-40,vmax=40,alpha=0.1)\n",
    "    ax1.contourf(lonm,latm,ssha[iter,:,:],shading='gouraud',cmap=cm.cm.oxy,vmin=-40,vmax=40,alpha=0.5)\n",
    "    ax1.contourf(lonm,latm,eddyfield[iter,:,:],shading='gouraud',cmap=cm.cm.balance,\\\n",
    "              vmin=-40,vmax=40,alpha=0.9)\n",
    "    #quad2.set_array(ssha[iter,:,:].ravel())\n",
    "    #quad1.set_array(eddyfield[iter,:,:].ravel())\n",
    "    \n",
    "    #ax1.pcolormesh(lonm,latm,eddyfield[iter,:,:],shading='gouraud',cmap=cm.cm.balance,vmin=-40,vmax=40,alpha=1)\n",
    "    ax1.set_title('%03d'%(iter))\n",
    "    \n",
    "    #quad2.set_array(eddyfield[iter,:,:].ravel())\n",
    "    return\n",
    "\n",
    "gs.tight_layout(fig)\n",
    "\n",
    "anim2 = animation.FuncAnimation(fig,animate,frames=60,interval=100,blit=False,repeat=True)\n",
    "plt.close()\n",
    "anim2"
   ]
  },
  {
   "cell_type": "code",
   "execution_count": null,
   "metadata": {},
   "outputs": [],
   "source": []
  },
  {
   "cell_type": "markdown",
   "metadata": {},
   "source": [
    "# Default Values\n",
    "\n",
    "Eccentricity Fit = 0.8\n",
    "\n",
    "Ellipse Fit = 0.5\n",
    "\n",
    "Gauss Fit = 0.5"
   ]
  },
  {
   "cell_type": "code",
   "execution_count": null,
   "metadata": {},
   "outputs": [],
   "source": [
    "eddytd=analyseddyzt(eta,lon,lat,0,60,1,25,5,2.5,data_meant=ssh_mean,areamap=areamap,mask=''\\\n",
    "                    ,destdir='',physics='',eccenfit=0.8,ellipsrsquarefit=0.5,gaussrsquarefit=0.5,\\\n",
    "                    diagnostics=False,pprint=False)"
   ]
  },
  {
   "cell_type": "code",
   "execution_count": null,
   "metadata": {
    "scrolled": true
   },
   "outputs": [],
   "source": [
    "eddytdn=analyseddyzt(eta,lon,lat,0,60,1,-25,-5,-2.5,data_meant=ssh_mean,areamap=areamap,mask=''\\\n",
    "                    ,destdir='',physics='',eccenfit=0.8,ellipsrsquarefit=0.5,gaussrsquarefit=0.5,\\\n",
    "                    diagnostics=False,pprint=False)"
   ]
  },
  {
   "cell_type": "code",
   "execution_count": null,
   "metadata": {},
   "outputs": [],
   "source": [
    "threshold=1\n",
    "eddysplot=exeddydt(eddytd,lat,lon,ssha,threshold,diagnostics=False)\n",
    "eddysplotn=exeddydt(eddytdn,lat,lon,ssha,threshold,diagnostics=False)"
   ]
  },
  {
   "cell_type": "code",
   "execution_count": null,
   "metadata": {},
   "outputs": [],
   "source": [
    "eddyfield=eddysplot+eddysplotn\n",
    "eddyfield[eddyfield==0]=np.nan"
   ]
  },
  {
   "cell_type": "code",
   "execution_count": null,
   "metadata": {},
   "outputs": [],
   "source": [
    "import matplotlib.pyplot as plt\n",
    "import numpy as np\n",
    "import matplotlib.gridspec as gridspec\n",
    "from matplotlib import animation, rc\n",
    "rc('animation', html='html5')\n",
    "\n",
    "###########\n",
    "\n",
    "fig = plt.figure(figsize=(10, 10),facecolor='white')\n",
    "gs = gridspec.GridSpec(1, 1)\n",
    "\n",
    "#############################\n",
    "\n",
    "ax1 = plt.subplot(gs[0,0])\n",
    "\n",
    "lonmm,latmm=np.meshgrid(lon,lat)\n",
    "\n",
    "map = Basemap(projection='ortho',lat_0=mean(lat),lon_0=mean(lon),resolution='c',ax=ax1)\n",
    "lonm,latm=map(lonmm,latmm)\n",
    "map.drawmeridians(np.arange(0,360,30),labels=[1,1,0,0],fontsize=10)\n",
    "map.drawparallels(np.arange(0,360,30),labels=[1,1,0,0],fontsize=10)\n",
    "map.fillcontinents(color='black',lake_color='black')\n",
    "map.drawcoastlines()\n",
    "map.drawcoastlines()\n",
    "\n",
    "#quad2 = ax1.pcolormesh(lonm,latm,eddyfield[0,:,:],shading='gouraud',cmap=cm.cm.balance,\\\n",
    "#              vmin=-40,vmax=40)\n",
    "\n",
    "\n",
    "def init():\n",
    "    quad1.set_array([])\n",
    "    quad2.set_array([])\n",
    "    return quad1,quad2\n",
    "\n",
    "def animate(iter):\n",
    "    #ax1.contourf(lonm,latm,ssha[0,:,:],shading='gouraud',cmap=cm.cm.balance,vmin=-40,vmax=40,alpha=0.1)\n",
    "    ax1.contourf(lonm,latm,ssha[iter,:,:],shading='gouraud',cmap=cm.cm.oxy,vmin=-40,vmax=40,alpha=0.5)\n",
    "    ax1.contourf(lonm,latm,eddyfield[iter,:,:],shading='gouraud',cmap=cm.cm.balance,\\\n",
    "              vmin=-40,vmax=40,alpha=0.9)\n",
    "    #quad2.set_array(ssha[iter,:,:].ravel())\n",
    "    #quad1.set_array(eddyfield[iter,:,:].ravel())\n",
    "    \n",
    "    #ax1.pcolormesh(lonm,latm,eddyfield[iter,:,:],shading='gouraud',cmap=cm.cm.balance,vmin=-40,vmax=40,alpha=1)\n",
    "    ax1.set_title('%03d'%(iter))\n",
    "    \n",
    "    #quad2.set_array(eddyfield[iter,:,:].ravel())\n",
    "    return\n",
    "\n",
    "gs.tight_layout(fig)\n",
    "\n",
    "anim2 = animation.FuncAnimation(fig,animate,frames=60,interval=100,blit=False,repeat=True)\n",
    "plt.close()\n",
    "anim2"
   ]
  },
  {
   "cell_type": "code",
   "execution_count": null,
   "metadata": {},
   "outputs": [],
   "source": []
  },
  {
   "cell_type": "markdown",
   "metadata": {},
   "source": [
    "# Default Values\n",
    "\n",
    "Eccentricity Fit = 1\n",
    "\n",
    "Ellipse Fit = 0.5\n",
    "\n",
    "Gauss Fit = 0.5"
   ]
  },
  {
   "cell_type": "code",
   "execution_count": null,
   "metadata": {},
   "outputs": [],
   "source": [
    "eddytd=analyseddyzt(eta,lon,lat,0,60,1,25,5,2.5,data_meant=ssh_mean,areamap=areamap,mask=''\\\n",
    "                    ,destdir='',physics='',eccenfit=1,ellipsrsquarefit=0.5,gaussrsquarefit=0.5,\\\n",
    "                    diagnostics=False,pprint=False)"
   ]
  },
  {
   "cell_type": "code",
   "execution_count": null,
   "metadata": {
    "scrolled": true
   },
   "outputs": [],
   "source": [
    "eddytdn=analyseddyzt(eta,lon,lat,0,60,1,-25,-5,-2.5,data_meant=ssh_mean,areamap=areamap,mask=''\\\n",
    "                    ,destdir='',physics='',eccenfit=1,ellipsrsquarefit=0.5,gaussrsquarefit=0.5,\\\n",
    "                    diagnostics=False,pprint=False)"
   ]
  },
  {
   "cell_type": "code",
   "execution_count": null,
   "metadata": {},
   "outputs": [],
   "source": [
    "threshold=1\n",
    "eddysplot=exeddydt(eddytd,lat,lon,ssha,threshold,diagnostics=False)\n",
    "eddysplotn=exeddydt(eddytdn,lat,lon,ssha,threshold,diagnostics=False)"
   ]
  },
  {
   "cell_type": "code",
   "execution_count": null,
   "metadata": {},
   "outputs": [],
   "source": [
    "eddyfield=eddysplot+eddysplotn\n",
    "eddyfield[eddyfield==0]=np.nan"
   ]
  },
  {
   "cell_type": "code",
   "execution_count": null,
   "metadata": {},
   "outputs": [],
   "source": [
    "import matplotlib.pyplot as plt\n",
    "import numpy as np\n",
    "import matplotlib.gridspec as gridspec\n",
    "from matplotlib import animation, rc\n",
    "rc('animation', html='html5')\n",
    "\n",
    "###########\n",
    "\n",
    "fig = plt.figure(figsize=(10, 10),facecolor='white')\n",
    "gs = gridspec.GridSpec(1, 1)\n",
    "\n",
    "#############################\n",
    "\n",
    "ax1 = plt.subplot(gs[0,0])\n",
    "\n",
    "lonmm,latmm=np.meshgrid(lon,lat)\n",
    "\n",
    "map = Basemap(projection='ortho',lat_0=mean(lat),lon_0=mean(lon),resolution='c',ax=ax1)\n",
    "lonm,latm=map(lonmm,latmm)\n",
    "map.drawmeridians(np.arange(0,360,30),labels=[1,1,0,0],fontsize=10)\n",
    "map.drawparallels(np.arange(0,360,30),labels=[1,1,0,0],fontsize=10)\n",
    "map.fillcontinents(color='black',lake_color='black')\n",
    "map.drawcoastlines()\n",
    "map.drawcoastlines()\n",
    "\n",
    "#quad2 = ax1.pcolormesh(lonm,latm,eddyfield[0,:,:],shading='gouraud',cmap=cm.cm.balance,\\\n",
    "#              vmin=-40,vmax=40)\n",
    "\n",
    "\n",
    "def init():\n",
    "    quad1.set_array([])\n",
    "    quad2.set_array([])\n",
    "    return quad1,quad2\n",
    "\n",
    "def animate(iter):\n",
    "    #ax1.contourf(lonm,latm,ssha[0,:,:],shading='gouraud',cmap=cm.cm.balance,vmin=-40,vmax=40,alpha=0.1)\n",
    "    ax1.contourf(lonm,latm,ssha[iter,:,:],shading='gouraud',cmap=cm.cm.oxy,vmin=-40,vmax=40,alpha=0.5)\n",
    "    ax1.contourf(lonm,latm,eddyfield[iter,:,:],shading='gouraud',cmap=cm.cm.balance,\\\n",
    "              vmin=-40,vmax=40,alpha=0.9)\n",
    "    #quad2.set_array(ssha[iter,:,:].ravel())\n",
    "    #quad1.set_array(eddyfield[iter,:,:].ravel())\n",
    "    \n",
    "    #ax1.pcolormesh(lonm,latm,eddyfield[iter,:,:],shading='gouraud',cmap=cm.cm.balance,vmin=-40,vmax=40,alpha=1)\n",
    "    ax1.set_title('%03d'%(iter))\n",
    "    \n",
    "    #quad2.set_array(eddyfield[iter,:,:].ravel())\n",
    "    return\n",
    "\n",
    "gs.tight_layout(fig)\n",
    "\n",
    "anim2 = animation.FuncAnimation(fig,animate,frames=60,interval=100,blit=False,repeat=True)\n",
    "plt.close()\n",
    "anim2"
   ]
  },
  {
   "cell_type": "code",
   "execution_count": null,
   "metadata": {},
   "outputs": [],
   "source": []
  },
  {
   "cell_type": "markdown",
   "metadata": {},
   "source": [
    "# Default Values\n",
    "\n",
    "Eccentricity Fit = 1\n",
    "\n",
    "Ellipse Fit = 0\n",
    "\n",
    "Gauss Fit = 0"
   ]
  },
  {
   "cell_type": "code",
   "execution_count": null,
   "metadata": {},
   "outputs": [],
   "source": [
    "eddytd=analyseddyzt(eta,lon,lat,0,60,1,25,5,2.5,data_meant=ssh_mean,areamap=areamap,mask=''\\\n",
    "                    ,destdir='',physics='',eccenfit=1,ellipsrsquarefit=0,gaussrsquarefit=0,\\\n",
    "                    diagnostics=False,pprint=False)"
   ]
  },
  {
   "cell_type": "code",
   "execution_count": null,
   "metadata": {
    "scrolled": true
   },
   "outputs": [],
   "source": [
    "eddytdn=analyseddyzt(eta,lon,lat,0,60,1,-25,-5,-2.5,data_meant=ssh_mean,areamap=areamap,mask=''\\\n",
    "                    ,destdir='',physics='',eccenfit=1,ellipsrsquarefit=0,gaussrsquarefit=0,\\\n",
    "                    diagnostics=False,pprint=False)"
   ]
  },
  {
   "cell_type": "code",
   "execution_count": null,
   "metadata": {},
   "outputs": [],
   "source": [
    "threshold=1\n",
    "eddysplot=exeddydt(eddytd,lat,lon,ssha,threshold,diagnostics=False)\n",
    "eddysplotn=exeddydt(eddytdn,lat,lon,ssha,threshold,diagnostics=False)"
   ]
  },
  {
   "cell_type": "code",
   "execution_count": null,
   "metadata": {},
   "outputs": [],
   "source": [
    "eddyfield=eddysplot+eddysplotn\n",
    "eddyfield[eddyfield==0]=np.nan"
   ]
  },
  {
   "cell_type": "code",
   "execution_count": null,
   "metadata": {},
   "outputs": [],
   "source": [
    "import matplotlib.pyplot as plt\n",
    "import numpy as np\n",
    "import matplotlib.gridspec as gridspec\n",
    "from matplotlib import animation, rc\n",
    "rc('animation', html='html5')\n",
    "\n",
    "###########\n",
    "\n",
    "fig = plt.figure(figsize=(10, 10),facecolor='white')\n",
    "gs = gridspec.GridSpec(1, 1)\n",
    "\n",
    "#############################\n",
    "\n",
    "ax1 = plt.subplot(gs[0,0])\n",
    "\n",
    "lonmm,latmm=np.meshgrid(lon,lat)\n",
    "\n",
    "map = Basemap(projection='ortho',lat_0=mean(lat),lon_0=mean(lon),resolution='c',ax=ax1)\n",
    "lonm,latm=map(lonmm,latmm)\n",
    "map.drawmeridians(np.arange(0,360,30),labels=[1,1,0,0],fontsize=10)\n",
    "map.drawparallels(np.arange(0,360,30),labels=[1,1,0,0],fontsize=10)\n",
    "map.fillcontinents(color='black',lake_color='black')\n",
    "map.drawcoastlines()\n",
    "map.drawcoastlines()\n",
    "\n",
    "#quad2 = ax1.pcolormesh(lonm,latm,eddyfield[0,:,:],shading='gouraud',cmap=cm.cm.balance,\\\n",
    "#              vmin=-40,vmax=40)\n",
    "\n",
    "\n",
    "def init():\n",
    "    quad1.set_array([])\n",
    "    quad2.set_array([])\n",
    "    return quad1,quad2\n",
    "\n",
    "def animate(iter):\n",
    "    #ax1.contourf(lonm,latm,ssha[0,:,:],shading='gouraud',cmap=cm.cm.balance,vmin=-40,vmax=40,alpha=0.1)\n",
    "    ax1.contourf(lonm,latm,ssha[iter,:,:],shading='gouraud',cmap=cm.cm.oxy,vmin=-40,vmax=40,alpha=0.5)\n",
    "    ax1.contourf(lonm,latm,eddyfield[iter,:,:],shading='gouraud',cmap=cm.cm.balance,\\\n",
    "              vmin=-40,vmax=40,alpha=0.9)\n",
    "    #quad2.set_array(ssha[iter,:,:].ravel())\n",
    "    #quad1.set_array(eddyfield[iter,:,:].ravel())\n",
    "    \n",
    "    #ax1.pcolormesh(lonm,latm,eddyfield[iter,:,:],shading='gouraud',cmap=cm.cm.balance,vmin=-40,vmax=40,alpha=1)\n",
    "    ax1.set_title('%03d'%(iter))\n",
    "    \n",
    "    #quad2.set_array(eddyfield[iter,:,:].ravel())\n",
    "    return\n",
    "\n",
    "gs.tight_layout(fig)\n",
    "\n",
    "anim2 = animation.FuncAnimation(fig,animate,frames=60,interval=100,blit=False,repeat=True)\n",
    "plt.close()\n",
    "anim2"
   ]
  },
  {
   "cell_type": "code",
   "execution_count": null,
   "metadata": {},
   "outputs": [],
   "source": []
  }
 ],
 "metadata": {
  "kernelspec": {
   "display_name": "Python [conda env:analysis3]",
   "language": "python",
   "name": "conda-env-analysis3-py"
  },
  "language_info": {
   "codemirror_mode": {
    "name": "ipython",
    "version": 3
   },
   "file_extension": ".py",
   "mimetype": "text/x-python",
   "name": "python",
   "nbconvert_exporter": "python",
   "pygments_lexer": "ipython3",
   "version": "3.6.2"
  }
 },
 "nbformat": 4,
 "nbformat_minor": 2
}
