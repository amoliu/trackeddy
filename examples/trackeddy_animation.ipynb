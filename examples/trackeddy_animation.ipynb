{
 "cells": [
  {
   "cell_type": "code",
   "execution_count": 1,
   "metadata": {
    "collapsed": true
   },
   "outputs": [],
   "source": [
    "# Importing all libraries.\n",
    "from pylab import *\n",
    "from netCDF4 import Dataset\n",
    "%matplotlib inline\n",
    "import os\n",
    "import cmocean as cm\n",
    "from trackeddy.tracking import *\n",
    "from trackeddy.datastruct import *\n",
    "from trackeddy.geometryfunc import *\n",
    "from trackeddy.init import *\n",
    "from trackeddy.physics import *\n",
    "from trackeddy.plotfunc import *\n",
    "\n",
    "#import cosima_cookbook as cc"
   ]
  },
  {
   "cell_type": "code",
   "execution_count": 2,
   "metadata": {
    "collapsed": true
   },
   "outputs": [],
   "source": [
    "# Output data path\n",
    "outputpath='/g/data/v45/akm157/model_output/mom/mom01v5_kds75/output306/'\n",
    "# Import SSH values to python environment.\n",
    "ncfile=Dataset(outputpath+'rregionsouthern_ocean_daily_eta_t.nc')\n",
    "eta=ncfile.variables['eta_t'][:]*100\n",
    "# Import geographic coordinates (Lon,Lat)\n",
    "lon=ncfile.variables['xt_ocean_sub01'][:]\n",
    "lat=ncfile.variables['yt_ocean_sub01'][:]"
   ]
  },
  {
   "cell_type": "code",
   "execution_count": 3,
   "metadata": {
    "collapsed": true
   },
   "outputs": [],
   "source": [
    "# Import SSH 10 yrs mean values to python environment.\n",
    "ncfile=Dataset('/home/156/jm5970/notebooks/traceddy/data.output/meanssh_10yrs_AEXP.nc')\n",
    "ssh_mean=squeeze(ncfile.variables['SSH_mean'][:])\n",
    "# Import geographic coordinates (Lon,Lat)\n",
    "lon=ncfile.variables['Longitude'][:]\n",
    "lat=ncfile.variables['Latitude'][:]"
   ]
  },
  {
   "cell_type": "code",
   "execution_count": 4,
   "metadata": {
    "collapsed": true
   },
   "outputs": [],
   "source": [
    "###This mask is necessary to remask each time step, \n",
    "#It's not necesary if your mask is good in all the time steps\n",
    "mask=ma.getmask(eta[0,:,:])"
   ]
  },
  {
   "cell_type": "code",
   "execution_count": null,
   "metadata": {},
   "outputs": [
    {
     "name": "stdout",
     "output_type": "stream",
     "text": [
      "(90, 600, 1000) (600, 1000) (90, 600, 1000)\n"
     ]
    }
   ],
   "source": [
    "#Area in indexes, probably in the future it will be added an option for lon - lat coords.\n",
    "\n",
    "\n",
    "eta=eta[:,0:600,0:1000]\n",
    "ssh_mean=ssh_mean[0:600,0:1000]\n",
    "ssha=eta-ssh_mean\n",
    "print(shape(eta),shape(ssh_mean),shape(ssha))\n",
    "lon=lon[0:1000]\n",
    "lat=lat[0:600]\n",
    "areamap=array([[0,len(lon)],[0,len(lat)]])"
   ]
  },
  {
   "cell_type": "code",
   "execution_count": null,
   "metadata": {
    "scrolled": true
   },
   "outputs": [
    {
     "name": "stdout",
     "output_type": "stream",
     "text": [
      " 0% [=============================>]33% Time Elapsed: 354 s  "
     ]
    }
   ],
   "source": [
    "# If you want to Analyse multiple levels, please go to the Moving in Z section.\n",
    "############################################################\n",
    "### Add a contour check before starting the calculation#####\n",
    "############################################################\n",
    "eddytd=analyseddyzt(eta,lon,lat,0,90,1,25,5,1,data_meant=ssh_mean,areamap=areamap,mask=''\\\n",
    "                     ,destdir='',okparm='',diagnostics=False,pprint=False)"
   ]
  },
  {
   "cell_type": "code",
   "execution_count": null,
   "metadata": {
    "collapsed": true
   },
   "outputs": [],
   "source": [
    "eddytdn=analyseddyzt(eta,lon,lat,0,90,1,-25,-5,-1,data_meant=ssh_mean,areamap=areamap,mask=''\\\n",
    "                     ,destdir='',okparm='',diagnostics=False,pprint=False)"
   ]
  },
  {
   "cell_type": "code",
   "execution_count": null,
   "metadata": {
    "collapsed": true
   },
   "outputs": [],
   "source": [
    "threshold=1\n",
    "eddysplotn=exeddy(eddytd,lat,lon,ssha[1,:,:],1,threshold,diagnostics=False)\n",
    "eddysplot=exeddy(eddytdn,lat,lon,ssha[1,:,:],1,threshold,diagnostics=False)"
   ]
  },
  {
   "cell_type": "code",
   "execution_count": null,
   "metadata": {
    "collapsed": true
   },
   "outputs": [],
   "source": [
    "basemap_mplot(lon,lat,[ssha[1,:,:],ssha[1,:,:]-eddysplot[:,:]-eddysplotn[:,:],\\\n",
    "                       eddysplotn[:,:],eddysplot[:,:]]\\\n",
    "              ,title=[\"SSHa\",\"Eddies extraction\",\"Negative Eddies extraction\",\\\n",
    "                       \"Positive Eddies extraction\"],scale='Lin',cmap=cm.cm.balance,\\\n",
    "              vmin=-40,vmax=40,xan=2,yan=2,figsize=(20,20),fontsize=20);\n",
    "plt.savefig('../output/eddy_removal.jpg', bbox_inches='tight')"
   ]
  },
  {
   "cell_type": "code",
   "execution_count": null,
   "metadata": {
    "collapsed": true
   },
   "outputs": [],
   "source": [
    "threshold=1\n",
    "eddysplotn=exeddydt(eddytd,lat,lon,ssha,threshold,diagnostics=False)\n",
    "eddysplot=exeddydt(eddytdn,lat,lon,ssha,threshold,diagnostics=False)"
   ]
  },
  {
   "cell_type": "code",
   "execution_count": null,
   "metadata": {
    "collapsed": true
   },
   "outputs": [],
   "source": [
    "basemap_mplot(lon,lat,[ssha[3,:,:],ssha[3,:,:]-eddysplot[3,:,:]-eddysplotn[3,:,:],\\\n",
    "                       eddysplotn[3,:,:],eddysplot[3,:,:]]\\\n",
    "              ,title=[\"SSHa\",\"Eddies extraction\",\"Negative Eddies extraction\",\\\n",
    "                       \"Positive Eddies extraction\"],scale='Lin',cmap=cm.cm.balance,\\\n",
    "              vmin=-40,vmax=40,xan=2,yan=2,figsize=(20,20),fontsize=20);\n",
    "plt.savefig('../output/eddy_removal.jpg', bbox_inches='tight')"
   ]
  },
  {
   "cell_type": "code",
   "execution_count": null,
   "metadata": {
    "collapsed": true
   },
   "outputs": [],
   "source": [
    "import matplotlib.pyplot as plt\n",
    "import numpy as np\n",
    "import matplotlib.gridspec as gridspec\n",
    "import matplotlib.animation as animation\n",
    "\n",
    "###########\n",
    "\n",
    "fig = plt.figure(figsize=(10, 5),facecolor='white')\n",
    "gs = gridspec.GridSpec(1, 2)\n",
    "\n",
    "#############################\n",
    "\n",
    "ax1 = plt.subplot(gs[0,0])\n",
    "\n",
    "lonmm,latmm=np.meshgrid(lon,lat)\n",
    "quad1 = ax1.pcolormesh(lon,lat,ssha[0,:,:],shading='gouraud',cmap=cm.cm.balance,\\\n",
    "              vmin=-40,vmax=40)\n",
    "\n",
    "ax2 = plt.subplot(gs[0,1])\n",
    "\n",
    "lonmm,latmm=np.meshgrid(lon,lat)\n",
    "\n",
    "ssha[3,:,:],ssha[3,:,:]-eddysplot[3,:,:]-eddysplotn[3,:,:],\\\n",
    "                       eddysplotn[3,:,:],eddysplot[3,:,:]\n",
    "\n",
    "quad2 = ax2.pcolormesh(lon,lat,ssha[0,:,:]-eddysplot[0,:,:]-eddysplotn[0,:,:],shading='gouraud',cmap=cm.cm.balance,\\\n",
    "              vmin=-40,vmax=40)\n",
    "\n",
    "def init():\n",
    "    quad1.set_array([])\n",
    "    quad2.set_array([])\n",
    "    return quad1,quad2\n",
    "\n",
    "def animate(iter):\n",
    "    quad1.set_array(ssha[iter,:,:].ravel())\n",
    "    quad2.set_array((ssha[iter,:,:]-eddysplot[iter,:,:]-eddysplotn[iter,:,:]).ravel())\n",
    "    return quad1,quad2\n",
    "\n",
    "gs.tight_layout(fig)\n",
    "\n",
    "anim2 = animation.FuncAnimation(fig,animate,frames=90,interval=100,blit=False,repeat=False)\n",
    "plt.show()"
   ]
  },
  {
   "cell_type": "code",
   "execution_count": null,
   "metadata": {
    "collapsed": true
   },
   "outputs": [],
   "source": [
    "from matplotlib import animation, rc\n",
    "# equivalent to rcParams['animation.html'] = 'html5'\n",
    "rc('animation', html='html5')\n",
    "anim2"
   ]
  },
  {
   "cell_type": "code",
   "execution_count": null,
   "metadata": {
    "collapsed": true
   },
   "outputs": [],
   "source": [
    "eddy=eddytdn['eddyn_25']\n",
    "359\n",
    "\n",
    "for ii in range(0,len(eddy['time'])):\n",
    "    figure()\n",
    "    print(eddy['time'][ii])\n",
    "    plot(eddy['position_eddy'][0,0],eddy['position_eddy'][0,1],'og')\n",
    "    plot(eddy['position_eddy'][0:ii+1,0],eddy['position_eddy'][0:ii+1,1],'r')\n",
    "    plot(eddy['position_eddy'][-1,0],eddy['position_eddy'][-1,1],'*m')\n",
    "    plot(eddy['contour'][ii][0],eddy['contour'][ii][1],'--k')\n",
    "    plot(eddy['ellipse'][ii][0],eddy['ellipse'][ii][1],'--b')"
   ]
  },
  {
   "cell_type": "code",
   "execution_count": null,
   "metadata": {
    "collapsed": true
   },
   "outputs": [],
   "source": [
    "print(shape(eddy['position_eddy'].T))\n",
    "plot(eddy['position_eddy'].T[0,:],eddy['position_eddy'].T[1,:])"
   ]
  },
  {
   "cell_type": "code",
   "execution_count": null,
   "metadata": {
    "collapsed": true
   },
   "outputs": [],
   "source": [
    "print(len(eddytdn.items()))"
   ]
  },
  {
   "cell_type": "code",
   "execution_count": null,
   "metadata": {
    "collapsed": true
   },
   "outputs": [],
   "source": [
    "eddy=0\n",
    "positions=zeros([2,len(eddytdn.items()),90])\n",
    "for key,value in eddytdn.items():\n",
    "    if type(value['time'])==int:\n",
    "        #print(shape(value['position_eddy'][:]),shape(xpositions))\n",
    "        positions[0,eddy,value['time']]=value['position'][0]\n",
    "        positions[1,eddy,value['time']]=value['position'][1]\n",
    "        \n",
    "    else:\n",
    "        realinx=0\n",
    "        for ii in value['time']:\n",
    "            #print(shape(squeeze(value['position_eddy'][realinx,0])))\n",
    "            positions[0,eddy,ii]=squeeze(value['position'][realinx,0])\n",
    "            positions[1,eddy,ii]=squeeze(value['position'][realinx,1])\n",
    "            realinx=realinx+1\n",
    "    eddy=eddy+1\n",
    "    \n",
    "positions[positions==0]=np.nan\n",
    "\n",
    "    #if type(value['time'])!=int:\n",
    "    #    xpositions=\n",
    "    #    plot(value['position_eddy'][1,0],value['position_eddy'][1,1],'og')\n",
    "    #    plot(value['position_eddy'][1::,0],value['position_eddy'][1::,1],'-r')\n",
    "    #    plot(value['position_eddy'][-1,0],value['position_eddy'][-1,1],'*m')"
   ]
  },
  {
   "cell_type": "code",
   "execution_count": null,
   "metadata": {
    "collapsed": true
   },
   "outputs": [],
   "source": [
    "for ii in range(shape(positions)[1]):\n",
    "    sumjj=0\n",
    "    for jj in range(shape(positions)[2]):\n",
    "        if positions[0,ii,jj]!=np.nan:\n",
    "            #print(positions[0,ii,jj])\n",
    "            sumjj=sumjj+1\n",
    "    print(ii,sumjj)"
   ]
  },
  {
   "cell_type": "code",
   "execution_count": null,
   "metadata": {
    "collapsed": true
   },
   "outputs": [],
   "source": [
    "print(positions[0,24])"
   ]
  },
  {
   "cell_type": "code",
   "execution_count": null,
   "metadata": {
    "collapsed": true,
    "scrolled": true
   },
   "outputs": [],
   "source": [
    "for cc in range(len(eddytdn.items())):\n",
    "    plot(positions[0,cc,:],positions[1,cc,:])"
   ]
  },
  {
   "cell_type": "code",
   "execution_count": null,
   "metadata": {
    "collapsed": true
   },
   "outputs": [],
   "source": [
    "import matplotlib.pyplot as plt\n",
    "import numpy as np\n",
    "import matplotlib.gridspec as gridspec\n",
    "import matplotlib.animation as animation\n",
    "\n",
    "###########\n",
    "\n",
    "fig = plt.figure(figsize=(10, 10),facecolor='white')\n",
    "gs = gridspec.GridSpec(2, 2)\n",
    "\n",
    "#############################\n",
    "\n",
    "ax1 = plt.subplot(gs[0,0])\n",
    "\n",
    "lonmm,latmm=np.meshgrid(lon,lat)\n",
    "\n",
    "#map = Basemap(projection='ortho',lat_0=-90,lon_0=-100,resolution='c',ax=ax1)\n",
    "#lonm,latm=map(lonmm,latmm)\n",
    "#map.drawmeridians(np.arange(0,360,30),labels=[1,1,0,0],fontsize=10)\n",
    "#map.drawparallels(np.arange(0,360,30),labels=[1,1,0,0],fontsize=10)\n",
    "#map.fillcontinents(color='black',lake_color='aqua')\n",
    "#map.drawcoastlines()\n",
    "#map.drawcoastlines()\n",
    "quad1 = ax1.pcolormesh(lon,lat,ssha[0,:,:],shading='gouraud',cmap=cm.cm.balance,\\\n",
    "              vmin=-40,vmax=40)\n",
    "#dot1, = plot(eddy['position_eddy'][0,0],eddy['position_eddy'][0,1],'og')\n",
    "#dot1, = plot(eddy['position_eddy'][-1,0],eddy['position_eddy'][-1,1],'or')\n",
    "eddy1=342\n",
    "eddy2=298\n",
    "eddy3=24\n",
    "\n",
    "dot1, = plot(positions[0,eddy2,0],positions[1,eddy2,0],'ok')\n",
    "line1, = plot(positions[0,eddy2,0],positions[1,eddy2,0],'-k')\n",
    "\n",
    "#for cc in range(len(eddytdn.items())):\n",
    "#    line2,=plot(positions[0,cc,:],positions[1,cc,:],'--k')\n",
    "\n",
    "    \n",
    "#plot(eddy['position_eddy'][0:ii+1,0],eddy['position_eddy'][0:ii+1,1],'r')\n",
    "#plot(eddy['position_eddy'][-1,0],eddy['position_eddy'][-1,1],'*m')\n",
    "#plot(eddy['contour'][ii][0],eddy['contour'][ii][1],'--k')\n",
    "#plot(eddy['ellipse'][ii][0],eddy['ellipse'][ii][1],'--b')\n",
    "\n",
    "#cb1 = fig.colorbar(quad1,ax=ax1)\n",
    "\n",
    "ax2 = plt.subplot(gs[0,1])\n",
    "lonmm,latmm=np.meshgrid(lon,lat)\n",
    "\n",
    "#map = Basemap(projection='ortho',lat_0=-90,lon_0=-100,resolution='c',ax=ax2)\n",
    "#lonm,latm=map(lonmm,latmm)\n",
    "#map.drawmeridians(np.arange(0,360,30),labels=[1,1,0,0],fontsize=10)\n",
    "#map.drawparallels(np.arange(0,360,30),labels=[1,1,0,0],fontsize=10)\n",
    "#map.fillcontinents(color='black',lake_color='aqua')\n",
    "#map.drawcoastlines()\n",
    "#map.drawcoastlines()\n",
    "quad2 = ax2.pcolormesh(lon,lat,ssha[0,:,:],shading='gouraud',cmap=cm.cm.balance,\\\n",
    "              vmin=-40,vmax=40)\n",
    "dot2, = plot(positions[0,eddy3,0],positions[1,eddy3,0],'*k')\n",
    "line2, = plot(positions[0,eddy3,0],positions[1,eddy3,0],'-k')\n",
    "#line2,=plot(positions[0,:,0],positions[1,:,0],'--k')\n",
    "\n",
    "#cb2 = fig.colorbar(quad1,ax=ax2)\n",
    "ax3 = plt.subplot(gs[1,0])\n",
    "line3, = plot(positions[0,eddy2,:],positions[1,eddy2,:],'-k')\n",
    "\n",
    "ax4 = plt.subplot(gs[1,1])\n",
    "line4, = plot(positions[0,eddy3,:],positions[1,eddy3,:],'-k')\n",
    "\n",
    "def init():\n",
    "    quad1.set_array([])\n",
    "    line1.set_data([],[])\n",
    "    line2.set_data([],[])\n",
    "    line3.set_data([],[])\n",
    "    line4.set_data([],[])\n",
    "    return quad1\n",
    "\n",
    "def animate(iter):\n",
    "    quad1.set_array(ssha[iter,:,:].ravel())\n",
    "    quad2.set_array(ssha[iter,:,:].ravel())\n",
    "    line1.set_data(positions[0,eddy2,0:iter],positions[1,eddy2,0:iter])\n",
    "    line2.set_data(positions[0,eddy3,0:iter],positions[1,eddy3,0:iter])\n",
    "    line3.set_data(positions[0,eddy2,0:iter],positions[1,eddy2,0:iter])\n",
    "    line4.set_data(positions[0,eddy3,0:iter],positions[1,eddy3,0:iter])\n",
    "    #for cc in range(len(eddytdn.items())):\n",
    "    #    line2.set_data(positions[0,cc,0:iter],positions[1,cc,0:iter])\n",
    "    return quad1\n",
    "\n",
    "gs.tight_layout(fig)\n",
    "\n",
    "anim2 = animation.FuncAnimation(fig,animate,frames=90,interval=100,blit=False,repeat=False)\n",
    "plt.show()"
   ]
  },
  {
   "cell_type": "code",
   "execution_count": null,
   "metadata": {
    "collapsed": true
   },
   "outputs": [],
   "source": [
    "from matplotlib import animation, rc\n",
    "# equivalent to rcParams['animation.html'] = 'html5'\n",
    "rc('animation', html='html5')\n",
    "anim2"
   ]
  },
  {
   "cell_type": "code",
   "execution_count": null,
   "metadata": {
    "collapsed": true
   },
   "outputs": [],
   "source": [
    "eddy=0\n",
    "positions=zeros([2,len(eddytdn.items()),90])\n",
    "for key,value in eddytdn.items():\n",
    "    if type(value['time'])==int:\n",
    "        #print(shape(value['position_eddy'][:]),shape(xpositions))\n",
    "        positions[0,eddy,value['time']]=value['position_eddy'][0]\n",
    "        positions[1,eddy,value['time']]=value['position_eddy'][1]\n",
    "        \n",
    "    else:\n",
    "        realinx=0\n",
    "        for ii in value['time']:\n",
    "            #print(shape(squeeze(value['position_eddy'][realinx,0])))\n",
    "            positions[0,eddy,ii]=squeeze(value['position_eddy'][realinx,0])\n",
    "            positions[1,eddy,ii]=squeeze(value['position_eddy'][realinx,1])\n",
    "            realinx=realinx+1\n",
    "    eddy=eddy+1\n",
    "    \n",
    "positions[positions==0]=np.nan\n",
    "\n",
    "    #if type(value['time'])!=int:\n",
    "    #    xpositions=\n",
    "    #    plot(value['position_eddy'][1,0],value['position_eddy'][1,1],'og')\n",
    "    #    plot(value['position_eddy'][1::,0],value['position_eddy'][1::,1],'-r')\n",
    "    #    plot(value['position_eddy'][-1,0],value['position_eddy'][-1,1],'*m')"
   ]
  },
  {
   "cell_type": "code",
   "execution_count": null,
   "metadata": {
    "collapsed": true
   },
   "outputs": [],
   "source": [
    "import matplotlib.pyplot as plt\n",
    "import numpy as np\n",
    "import matplotlib.gridspec as gridspec\n",
    "import matplotlib.animation as animation\n",
    "\n",
    "###########\n",
    "\n",
    "fig = plt.figure(figsize=(10, 10),facecolor='white')\n",
    "gs = gridspec.GridSpec(2, 2)\n",
    "\n",
    "#############################\n",
    "\n",
    "ax1 = plt.subplot(gs[0,0])\n",
    "\n",
    "lonmm,latmm=np.meshgrid(lon,lat)\n",
    "\n",
    "#map = Basemap(projection='ortho',lat_0=-90,lon_0=-100,resolution='c',ax=ax1)\n",
    "#lonm,latm=map(lonmm,latmm)\n",
    "#map.drawmeridians(np.arange(0,360,30),labels=[1,1,0,0],fontsize=10)\n",
    "#map.drawparallels(np.arange(0,360,30),labels=[1,1,0,0],fontsize=10)\n",
    "#map.fillcontinents(color='black',lake_color='aqua')\n",
    "#map.drawcoastlines()\n",
    "#map.drawcoastlines()\n",
    "quad1 = ax1.pcolormesh(lon,lat,ssha[0,:,:],shading='gouraud',cmap=cm.cm.balance,\\\n",
    "              vmin=-40,vmax=40)\n",
    "#dot1, = plot(eddy['position_eddy'][0,0],eddy['position_eddy'][0,1],'og')\n",
    "#dot1, = plot(eddy['position_eddy'][-1,0],eddy['position_eddy'][-1,1],'or')\n",
    "eddy1=342\n",
    "eddy2=298\n",
    "eddy3=24\n",
    "\n",
    "dot1, = plot(positions[0,eddy2,0],positions[1,eddy2,0],'ok')\n",
    "line1, = plot(positions[0,eddy2,0],positions[1,eddy2,0],'-k')\n",
    "\n",
    "#for cc in range(len(eddytdn.items())):\n",
    "#    line2,=plot(positions[0,cc,:],positions[1,cc,:],'--k')\n",
    "\n",
    "    \n",
    "#plot(eddy['position_eddy'][0:ii+1,0],eddy['position_eddy'][0:ii+1,1],'r')\n",
    "#plot(eddy['position_eddy'][-1,0],eddy['position_eddy'][-1,1],'*m')\n",
    "#plot(eddy['contour'][ii][0],eddy['contour'][ii][1],'--k')\n",
    "#plot(eddy['ellipse'][ii][0],eddy['ellipse'][ii][1],'--b')\n",
    "\n",
    "#cb1 = fig.colorbar(quad1,ax=ax1)\n",
    "\n",
    "ax2 = plt.subplot(gs[0,1])\n",
    "lonmm,latmm=np.meshgrid(lon,lat)\n",
    "\n",
    "#map = Basemap(projection='ortho',lat_0=-90,lon_0=-100,resolution='c',ax=ax2)\n",
    "#lonm,latm=map(lonmm,latmm)\n",
    "#map.drawmeridians(np.arange(0,360,30),labels=[1,1,0,0],fontsize=10)\n",
    "#map.drawparallels(np.arange(0,360,30),labels=[1,1,0,0],fontsize=10)\n",
    "#map.fillcontinents(color='black',lake_color='aqua')\n",
    "#map.drawcoastlines()\n",
    "#map.drawcoastlines()\n",
    "quad2 = ax2.pcolormesh(lon,lat,ssha[0,:,:],shading='gouraud',cmap=cm.cm.balance,\\\n",
    "              vmin=-40,vmax=40)\n",
    "dot2, = plot(positions[0,eddy3,0],positions[1,eddy3,0],'*k')\n",
    "line2, = plot(positions[0,eddy3,0],positions[1,eddy3,0],'-k')\n",
    "#line2,=plot(positions[0,:,0],positions[1,:,0],'--k')\n",
    "\n",
    "#cb2 = fig.colorbar(quad1,ax=ax2)\n",
    "ax3 = plt.subplot(gs[1,0])\n",
    "line3, = plot(positions[0,eddy2,:],positions[1,eddy2,:],'-k')\n",
    "\n",
    "ax4 = plt.subplot(gs[1,1])\n",
    "line4, = plot(positions[0,eddy3,:],positions[1,eddy3,:],'-k')\n",
    "\n",
    "def init():\n",
    "    quad1.set_array([])\n",
    "    line1.set_data([],[])\n",
    "    line2.set_data([],[])\n",
    "    line3.set_data([],[])\n",
    "    line4.set_data([],[])\n",
    "    return quad1\n",
    "\n",
    "def animate(iter):\n",
    "    quad1.set_array(ssha[iter,:,:].ravel())\n",
    "    quad2.set_array(ssha[iter,:,:].ravel())\n",
    "    line1.set_data(positions[0,eddy2,0:iter],positions[1,eddy2,0:iter])\n",
    "    line2.set_data(positions[0,eddy3,0:iter],positions[1,eddy3,0:iter])\n",
    "    line3.set_data(positions[0,eddy2,0:iter],positions[1,eddy2,0:iter])\n",
    "    line4.set_data(positions[0,eddy3,0:iter],positions[1,eddy3,0:iter])\n",
    "    #for cc in range(len(eddytdn.items())):\n",
    "    #    line2.set_data(positions[0,cc,0:iter],positions[1,cc,0:iter])\n",
    "    return quad1\n",
    "\n",
    "gs.tight_layout(fig)\n",
    "\n",
    "anim2 = animation.FuncAnimation(fig,animate,frames=90,interval=100,blit=False,repeat=False)\n",
    "plt.show()"
   ]
  },
  {
   "cell_type": "code",
   "execution_count": null,
   "metadata": {
    "collapsed": true,
    "scrolled": false
   },
   "outputs": [],
   "source": [
    "from matplotlib import animation, rc\n",
    "# equivalent to rcParams['animation.html'] = 'html5'\n",
    "rc('animation', html='html5')\n",
    "anim2"
   ]
  },
  {
   "cell_type": "code",
   "execution_count": null,
   "metadata": {
    "collapsed": true
   },
   "outputs": [],
   "source": [
    "eddy=0\n",
    "contours=zeros([2,len(eddytdn.items()),90])\n",
    "for key,value in eddytdn.items():\n",
    "    if type(value['time'])==int:\n",
    "        #print(shape(value['position_eddy'][:]),shape(xpositions))\n",
    "        contours[0,eddy,value['time']]=value['contour'][0]\n",
    "        contours[1,eddy,value['time']]=value['contour'][1]\n",
    "        \n",
    "    else:\n",
    "        realinx=0\n",
    "        for ii in value['time']:\n",
    "            #print(shape(squeeze(value['position_eddy'][realinx,0])))\n",
    "            contours[0,eddy,ii]=squeeze(value['contour'][realinx,0])\n",
    "            contours[1,eddy,ii]=squeeze(value['contour'][realinx,1])\n",
    "            realinx=realinx+1\n",
    "    eddy=eddy+1\n",
    "    \n",
    "positions[positions==0]=np.nan"
   ]
  },
  {
   "cell_type": "code",
   "execution_count": null,
   "metadata": {
    "collapsed": true
   },
   "outputs": [],
   "source": [
    "for tt in range(0,90):\n",
    "    pcolormesh(lon,lat,ssha[tt,:,:],vmin=-40,vmax=40)\n",
    "    for ed in range(len(eddytdn.items())):\n",
    "    \n",
    "        plot(positions[0,ed,0:tt],positions[1,ed,0:tt],'--k')\n",
    "    show()"
   ]
  },
  {
   "cell_type": "code",
   "execution_count": null,
   "metadata": {
    "collapsed": true
   },
   "outputs": [],
   "source": []
  },
  {
   "cell_type": "code",
   "execution_count": null,
   "metadata": {
    "collapsed": true
   },
   "outputs": [],
   "source": [
    "def exeddydt(eddydt,lat,lon,data,threshold,inside='',diagnostics=False):\n",
    "    '''*************Extract Eddy***********\n",
    "    Function to extract each eddy in multiple timesteps using closed contours.\n",
    "    Usage:\n",
    "    eddydt= Eddy data structure\n",
    "    lon,lat=longitude and latitude of your grid.\n",
    "    levels=Level of the contour\n",
    "    Example:\n",
    "    Author: Josue Martinez Moreno, 2017\n",
    "    '''\n",
    "    justeddy=np.zeros(np.shape(data))\n",
    "    print('*******Removing of eddies******')\n",
    "    for key, value in eddydt.items():\n",
    "        if type(value['time'])==int:\n",
    "            time=[value['time']]\n",
    "        else:\n",
    "            time=[]\n",
    "            for ii in value['time']:\n",
    "                time.append(ii[0])\n",
    "        ct=0 \n",
    "        for tt in time:\n",
    "            if len(value['level'])!= 1:\n",
    "                level=value['level'][ct]\n",
    "            else:\n",
    "                level=value['level']\n",
    "            if type(value['time'])==int:\n",
    "                lonmi=value['contour'][0][0].min()\n",
    "                lonma=value['contour'][0][0].max()\n",
    "                latmi=value['contour'][0][1].min()\n",
    "                latma=value['contour'][0][1].max()\n",
    "            else:\n",
    "                lonmi=value['contour'][ct][0].min()\n",
    "                lonma=value['contour'][ct][0].max()\n",
    "                latmi=value['contour'][ct][1].min()\n",
    "                latma=value['contour'][ct][1].max()\n",
    "            \n",
    "            mimcx,mimcy=find2d(lon,lat,lonmi,latmi)\n",
    "            mamcx,mamcy=find2d(lon,lat,lonma,latma)\n",
    "            loncm=lon[mimcx-threshold:mamcx+1+threshold]\n",
    "            latcm=lat[mimcy-threshold:mamcy+1+threshold]\n",
    "            \n",
    "            if mimcx==0:\n",
    "                mimcx=1\n",
    "            if mimcy==0:\n",
    "                mimcy=1\n",
    "            if inside == '':\n",
    "                datacm=data[tt,mimcy-threshold:mamcy+1+threshold,mimcx-threshold:mamcx+1+threshold]-level\n",
    "                if level > 0:\n",
    "                    datacm[datacm<=0]=0\n",
    "                    datacm[datacm>=1000]=0\n",
    "                elif level < 0:\n",
    "                    datacm[datacm>=0]=0\n",
    "                    datacm[datacm<=-1000]=0\n",
    "            else:\n",
    "                datacm=data[tt,mimcy-threshold:mamcy+1+threshold,mimcx-threshold:mamcx+1+threshold]*1\n",
    "                insidecm=inside[tt,mimcy-threshold:mamcy+1+threshold,mimcx-threshold:mamcx+1+threshold]*1\n",
    "                if level > 0:\n",
    "                    insidecm[insidecm<=level]=0\n",
    "                    insidecm[insidecm>=level]=1\n",
    "                elif level < 0:\n",
    "                    insidecm[insidecm>=level]=0\n",
    "                    insidecm[insidecm<=level]=1\n",
    "                #if np.shape(insidecm)!=np.shape(datacm):\n",
    "                #    print('Inside and general field should have the same shape')\n",
    "                #else:\n",
    "                datacm=datacm*insidecm\n",
    "                \n",
    "            if diagnostics==True:\n",
    "                plt.figure()\n",
    "                plt.pcolormesh(lon[mimcx-threshold:mamcx+1+threshold],lat[mimcy-threshold:mamcy+1+threshold],datacm)\n",
    "                #plt.contourf(lon[mimcx-threshold:mamcx+1+threshold],lat[mimcy-threshold:mamcy+1+threshold],insidecm)\n",
    "                plt.colorbar()\n",
    "                cca=plt.contourf(lon[mimcx-threshold:mamcx+1+threshold],lat[mimcy-threshold:mamcy+1+threshold],datacm,alpha=0.5)\n",
    "                plt.plot(value['contour'][ct][0],value['contour'][ct][1],'-m')\n",
    "                plt.show()\n",
    "            justeddy[tt,mimcy-threshold:mamcy+1+threshold,mimcx-threshold:mamcx+1+threshold]=datacm\n",
    "            \n",
    "            ct=ct+1  \n",
    "    print('*******End the Removing of eddies******')\n",
    "    return justeddy\n",
    "\n",
    "def exeddy(eddydt,lat,lon,data,ct,threshold,inside='',diagnostics=False):\n",
    "    '''*************Extract Eddy***********\n",
    "    Function to extract each eddy using closed contours.\n",
    "    Usage:\n",
    "    eddydt= Eddy data structure\n",
    "    lon,lat=longitude and latitude of your grid.\n",
    "    levels=Level of the contour\n",
    "    Example:\n",
    "    Author: Josue Martinez Moreno, 2017\n",
    "    '''\n",
    "    justeddy=np.zeros(np.shape(data))\n",
    "    print('*******Removing of eddies******')\n",
    "    for key, value in eddydt.items():\n",
    "        #print(type(value['level']))\n",
    "        #print(len(value['level']))\n",
    "        if len(value['level'])!= 1:\n",
    "            level=value['level'][ct]\n",
    "        else:\n",
    "            level=value['level']\n",
    "        #print(level)\n",
    "        rct=value['time']\n",
    "        #print(len(value['time']))\n",
    "        if type(value['time'])==int:\n",
    "            lonmi=np.array(value['contour'][0][0]).min()\n",
    "            lonma=np.array(value['contour'][0][0]).max()\n",
    "            latmi=np.array(value['contour'][0][1]).min()\n",
    "            latma=np.array(value['contour'][0][1]).max()\n",
    "        else:\n",
    "            lonmi=value['contour'][ct][0].min()\n",
    "            lonma=value['contour'][ct][0].max()\n",
    "            latmi=value['contour'][ct][1].min()\n",
    "            latma=value['contour'][ct][1].max()\n",
    "            \n",
    "        mimcx,mimcy=find2d(lon,lat,lonmi,latmi)\n",
    "        mamcx,mamcy=find2d(lon,lat,lonma,latma)\n",
    "        loncm=lon[mimcx-threshold:mamcx+1+threshold]\n",
    "        latcm=lat[mimcy-threshold:mamcy+1+threshold]\n",
    "\n",
    "        if mimcx==0:\n",
    "            mimcx=1\n",
    "        if mimcy==0:\n",
    "            mimcy=1\n",
    "        if inside == '':\n",
    "            datacm=data[mimcy-threshold:mamcy+1+threshold,mimcx-threshold:mamcx+1+threshold]-level\n",
    "            if level > 0:\n",
    "                datacm[datacm<=0]=0\n",
    "                datacm[datacm>=1000]=0\n",
    "            elif level < 0:\n",
    "                datacm[datacm>=0]=0\n",
    "                datacm[datacm<=-1000]=0\n",
    "        else:\n",
    "            datacm=data[mimcy-threshold:mamcy+1+threshold,mimcx-threshold:mamcx+1+threshold]*1\n",
    "            insidecm=inside[mimcy-threshold:mamcy+1+threshold,mimcx-threshold:mamcx+1+threshold]*1\n",
    "            if level > 0:\n",
    "                insidecm[insidecm<=level]=0\n",
    "                insidecm[insidecm>=level]=1\n",
    "            elif level < 0:\n",
    "                insidecm[insidecm>=level]=0\n",
    "                insidecm[insidecm<=level]=1\n",
    "            #if np.shape(insidecm)!=np.shape(datacm):\n",
    "            #    print('Inside and general field should have the same shape')\n",
    "            #else:\n",
    "            datacm=datacm*insidecm\n",
    "            \n",
    "        if diagnostics==True:\n",
    "            plt.figure()\n",
    "            plt.pcolormesh(lon[mimcx-threshold:mamcx+1+threshold],lat[mimcy-threshold:mamcy+1+threshold],datacm)\n",
    "            plt.contourf(lon[mimcx-threshold:mamcx+1+threshold],lat[mimcy-threshold:mamcy+1+threshold],insidecm)\n",
    "            plt.colorbar()\n",
    "            cca=plt.contourf(lon[mimcx-threshold:mamcx+1+threshold],lat[mimcy-threshold:mamcy+1+threshold],datacm,alpha=0.5)\n",
    "            plt.plot(value['contour'][0],value['contour'][1],'-m')\n",
    "            plt.show()\n",
    "            plt.figure()\n",
    "            plt.pcolormesh(justeddy)\n",
    "            plt.show()\n",
    "            plt.close()\n",
    "            \n",
    "        justeddy[mimcy-threshold:mamcy+1+threshold,mimcx-threshold:mamcx+1+threshold]=datacm\n",
    "    print('*******End the Removing of eddies******')\n",
    "    return justeddy"
   ]
  }
 ],
 "metadata": {
  "kernelspec": {
   "display_name": "Python [conda env:analysis3]",
   "language": "python",
   "name": "conda-env-analysis3-py"
  },
  "language_info": {
   "codemirror_mode": {
    "name": "ipython",
    "version": 3
   },
   "file_extension": ".py",
   "mimetype": "text/x-python",
   "name": "python",
   "nbconvert_exporter": "python",
   "pygments_lexer": "ipython3",
   "version": "3.6.2"
  }
 },
 "nbformat": 4,
 "nbformat_minor": 2
}
